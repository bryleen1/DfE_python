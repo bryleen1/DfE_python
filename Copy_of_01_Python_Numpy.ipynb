{
  "nbformat": 4,
  "nbformat_minor": 0,
  "metadata": {
    "kernelspec": {
      "display_name": "Python 3",
      "language": "python",
      "name": "python3"
    },
    "language_info": {
      "codemirror_mode": {
        "name": "ipython",
        "version": 3
      },
      "file_extension": ".py",
      "mimetype": "text/x-python",
      "name": "python",
      "nbconvert_exporter": "python",
      "pygments_lexer": "ipython3",
      "version": "3.7.4"
    },
    "colab": {
      "name": "Copy of 01_Python Numpy.ipynb",
      "provenance": [],
      "include_colab_link": true
    }
  },
  "cells": [
    {
      "cell_type": "markdown",
      "metadata": {
        "id": "view-in-github",
        "colab_type": "text"
      },
      "source": [
        "<a href=\"https://colab.research.google.com/github/bryleen1/DfE_python/blob/main/Copy_of_01_Python_Numpy.ipynb\" target=\"_parent\"><img src=\"https://colab.research.google.com/assets/colab-badge.svg\" alt=\"Open In Colab\"/></a>"
      ]
    },
    {
      "cell_type": "code",
      "metadata": {
        "id": "svuqXRfAUQSO"
      },
      "source": [
        ""
      ],
      "execution_count": null,
      "outputs": []
    },
    {
      "cell_type": "markdown",
      "metadata": {
        "id": "CQIdoQwFFEey"
      },
      "source": [
        "The first thing we want to do is import numpy."
      ]
    },
    {
      "cell_type": "code",
      "metadata": {
        "id": "gaFMYBu5FEe8"
      },
      "source": [
        "import numpy as np"
      ],
      "execution_count": 1,
      "outputs": []
    },
    {
      "cell_type": "markdown",
      "metadata": {
        "id": "jen2ILVRFEe-"
      },
      "source": [
        "Let us first define a Python list containing the ages of 6 people."
      ]
    },
    {
      "cell_type": "code",
      "metadata": {
        "id": "DEGlE86RFEe_",
        "colab": {
          "base_uri": "https://localhost:8080/"
        },
        "outputId": "36260acf-072d-4cee-ed10-79d467a95c14"
      },
      "source": [
        "ages_list = [10, 5, 8, 32, 65, 43]\n",
        "print(ages_list)"
      ],
      "execution_count": 2,
      "outputs": [
        {
          "output_type": "stream",
          "name": "stdout",
          "text": [
            "[10, 5, 8, 32, 65, 43]\n"
          ]
        }
      ]
    },
    {
      "cell_type": "markdown",
      "metadata": {
        "id": "Yj7xUNWwFEfA"
      },
      "source": [
        "There are 3 main ways to instantiate a Numpy ndarray object. One of these is to use `np.array(<collection>)`"
      ]
    },
    {
      "cell_type": "code",
      "metadata": {
        "id": "Hfsn2AorFEfA",
        "colab": {
          "base_uri": "https://localhost:8080/"
        },
        "outputId": "d2c92e8d-be1d-4269-9efe-d82bcc06b4f6"
      },
      "source": [
        "ages = np.array(ages_list)\n",
        "print(type(ages))\n",
        "print(ages)"
      ],
      "execution_count": 3,
      "outputs": [
        {
          "output_type": "stream",
          "name": "stdout",
          "text": [
            "<class 'numpy.ndarray'>\n",
            "[10  5  8 32 65 43]\n"
          ]
        }
      ]
    },
    {
      "cell_type": "code",
      "metadata": {
        "id": "GwI0DSx2FEfB",
        "colab": {
          "base_uri": "https://localhost:8080/"
        },
        "outputId": "3936265d-6b1b-42aa-9c8d-6da58ad809f1"
      },
      "source": [
        "print(ages)\n",
        "print(\"Size:\\t\" , ages.size)\n",
        "print(\"Shape:\\t\", ages.shape)"
      ],
      "execution_count": 4,
      "outputs": [
        {
          "output_type": "stream",
          "name": "stdout",
          "text": [
            "[10  5  8 32 65 43]\n",
            "Size:\t 6\n",
            "Shape:\t (6,)\n"
          ]
        }
      ]
    },
    {
      "cell_type": "code",
      "metadata": {
        "scrolled": true,
        "id": "GMqAlyHWFEfD",
        "colab": {
          "base_uri": "https://localhost:8080/"
        },
        "outputId": "b0a8bac0-167c-4c1b-b243-63032360171b"
      },
      "source": [
        "zeroArr = np.zeros(5)\n",
        "print(zeroArr)"
      ],
      "execution_count": 5,
      "outputs": [
        {
          "output_type": "stream",
          "name": "stdout",
          "text": [
            "[0. 0. 0. 0. 0.]\n"
          ]
        }
      ]
    },
    {
      "cell_type": "markdown",
      "metadata": {
        "id": "uDQnelbrFEfE"
      },
      "source": [
        "### Multi-dim"
      ]
    },
    {
      "cell_type": "markdown",
      "metadata": {
        "id": "tGN5oTcyFEfF"
      },
      "source": [
        "Now let us define a new list containing the weights of these 6 people."
      ]
    },
    {
      "cell_type": "code",
      "metadata": {
        "id": "OPrNicCXFEfG"
      },
      "source": [
        "weight_list = [32, 18, 26, 60, 55, 65]"
      ],
      "execution_count": null,
      "outputs": []
    },
    {
      "cell_type": "markdown",
      "metadata": {
        "id": "9b1kE_aXFEfH"
      },
      "source": [
        "Now, we define an ndarray containing all fo this information, and again print the size and shape of the array."
      ]
    },
    {
      "cell_type": "code",
      "metadata": {
        "id": "lEGSfz9FFEfI",
        "colab": {
          "base_uri": "https://localhost:8080/"
        },
        "outputId": "892f3f1e-ecaa-40ec-96f0-2f234becbd39"
      },
      "source": [
        "people = np.array([ages_list, weight_list])\n",
        "\n",
        "print(\"People:\\t\" , people)\n",
        "print(\"Size:\\t\" , people.size)         #the total number of elements in the array\n",
        "print(\"Shape:\\t\", people.shape)        #returns the number of elements in each dimension"
      ],
      "execution_count": null,
      "outputs": [
        {
          "output_type": "stream",
          "name": "stdout",
          "text": [
            "People:\t [[10  5  8 32 65 43]\n",
            " [32 18 26 60 55 65]]\n",
            "Size:\t 12\n",
            "Shape:\t (2, 6)\n"
          ]
        }
      ]
    },
    {
      "cell_type": "code",
      "metadata": {
        "id": "mSdEFurdFEfI",
        "colab": {
          "base_uri": "https://localhost:8080/"
        },
        "outputId": "086fc75b-27bb-43fa-8cdf-2792d76b5008"
      },
      "source": [
        "people = people.reshape(12,1)\n",
        "print(\"People:\\t\" , people)\n",
        "print(\"Size:\\t\" , people.size)\n",
        "print(\"Shape:\\t\", people.shape)"
      ],
      "execution_count": null,
      "outputs": [
        {
          "output_type": "stream",
          "name": "stdout",
          "text": [
            "People:\t [[10]\n",
            " [ 5]\n",
            " [ 8]\n",
            " [32]\n",
            " [65]\n",
            " [43]\n",
            " [32]\n",
            " [18]\n",
            " [26]\n",
            " [60]\n",
            " [55]\n",
            " [65]]\n",
            "Size:\t 12\n",
            "Shape:\t (12, 1)\n"
          ]
        }
      ]
    },
    {
      "cell_type": "markdown",
      "metadata": {
        "id": "AcAUmOGFFEfJ"
      },
      "source": [
        "###### Note: The new shape must be the same \"size\" as the old shape"
      ]
    },
    {
      "cell_type": "markdown",
      "metadata": {
        "id": "8SzgS-GeFEfJ"
      },
      "source": [
        "### Exercise\n",
        "\n",
        "* Generate a 1D numpy array with the values [7, 9, 65, 33, 85, 99]\n",
        "\n",
        "* Generate a matrix (2D numpy array) of the values:\n",
        "\n",
        "\\begin{align}\n",
        "  \\mathbf{A} =\n",
        "  \\begin{pmatrix}\n",
        "    1 & 2 & 4 \\\\\n",
        "    2 & 3 & 0 \\\\\n",
        "    0 & 5 & 1\n",
        "  \\end{pmatrix}\n",
        "\\end{align}\n",
        "\n",
        "* Change the dimensions of this array to another permitted shape"
      ]
    },
    {
      "cell_type": "markdown",
      "metadata": {
        "id": "_fwkQK3pFEfK"
      },
      "source": [
        "## Array Generation"
      ]
    },
    {
      "cell_type": "markdown",
      "metadata": {
        "id": "LgKM0b5VFEfL"
      },
      "source": [
        "Instead of defining an array manually, we can ask numpy to do it for us.\n",
        "\n",
        "The `np.arange()` method creates a range of numbers with user defined steps between each."
      ]
    },
    {
      "cell_type": "code",
      "metadata": {
        "id": "ODpkCW1UFEfM",
        "colab": {
          "base_uri": "https://localhost:8080/"
        },
        "outputId": "5a74c1e0-96ce-4fab-d5c7-298f4c09c528"
      },
      "source": [
        "five_times_table = np.arange(0, 55, 5)\n",
        "five_times_table"
      ],
      "execution_count": 6,
      "outputs": [
        {
          "output_type": "execute_result",
          "data": {
            "text/plain": [
              "array([ 0,  5, 10, 15, 20, 25, 30, 35, 40, 45, 50])"
            ]
          },
          "metadata": {},
          "execution_count": 6
        }
      ]
    },
    {
      "cell_type": "markdown",
      "metadata": {
        "id": "ennDVTlWFEfN"
      },
      "source": [
        "The `np.linspace()` method will produce a range of evenly spaced values, starting, ending, and taking as many steps as you specify."
      ]
    },
    {
      "cell_type": "code",
      "metadata": {
        "id": "YTqt8F6MFEfN",
        "colab": {
          "base_uri": "https://localhost:8080/"
        },
        "outputId": "7001bb11-cafe-4d20-acad-9de7740c28fd"
      },
      "source": [
        "five_spaced = np.linspace(0,50,11)\n",
        "print(five_spaced)"
      ],
      "execution_count": 7,
      "outputs": [
        {
          "output_type": "stream",
          "name": "stdout",
          "text": [
            "[ 0.  5. 10. 15. 20. 25. 30. 35. 40. 45. 50.]\n"
          ]
        }
      ]
    },
    {
      "cell_type": "markdown",
      "metadata": {
        "id": "EGBBmwC2FEfO"
      },
      "source": [
        "The `.repeat()` method will repeat an object you pas a specified number of times."
      ]
    },
    {
      "cell_type": "code",
      "metadata": {
        "id": "j1GnEAEcFEfO",
        "colab": {
          "base_uri": "https://localhost:8080/"
        },
        "outputId": "9549f1ca-8a19-4673-edd5-ef2ec612c38d"
      },
      "source": [
        "twoArr = np.repeat(2, 10)\n",
        "print(twoArr)"
      ],
      "execution_count": 8,
      "outputs": [
        {
          "output_type": "stream",
          "name": "stdout",
          "text": [
            "[2 2 2 2 2 2 2 2 2 2]\n"
          ]
        }
      ]
    },
    {
      "cell_type": "markdown",
      "metadata": {
        "id": "cP96qdtzFEfP"
      },
      "source": [
        "The `np.eye()` functions will create an identity matrix/array for us."
      ]
    },
    {
      "cell_type": "code",
      "metadata": {
        "id": "tHpTIoOYFEfQ",
        "colab": {
          "base_uri": "https://localhost:8080/"
        },
        "outputId": "4f7609ad-0318-45e9-810f-edee65ea6cf8"
      },
      "source": [
        "identity_matrix = np.eye(6)\n",
        "print(identity_matrix)"
      ],
      "execution_count": 9,
      "outputs": [
        {
          "output_type": "stream",
          "name": "stdout",
          "text": [
            "[[1. 0. 0. 0. 0. 0.]\n",
            " [0. 1. 0. 0. 0. 0.]\n",
            " [0. 0. 1. 0. 0. 0.]\n",
            " [0. 0. 0. 1. 0. 0.]\n",
            " [0. 0. 0. 0. 1. 0.]\n",
            " [0. 0. 0. 0. 0. 1.]]\n"
          ]
        }
      ]
    },
    {
      "cell_type": "markdown",
      "metadata": {
        "id": "ZlimDz8DFEfQ"
      },
      "source": [
        "# Operations"
      ]
    },
    {
      "cell_type": "markdown",
      "metadata": {
        "id": "j0DL-NLLFEfQ"
      },
      "source": [
        "There are many, many operations which we can perform on arrays. Below, we demonstrate a few."
      ]
    },
    {
      "cell_type": "markdown",
      "metadata": {
        "id": "ysX7UWB3FEfR"
      },
      "source": [
        "What is happening in each line?"
      ]
    },
    {
      "cell_type": "code",
      "metadata": {
        "id": "9Ujl5KheFEfS"
      },
      "source": [
        "five_times_table"
      ],
      "execution_count": null,
      "outputs": []
    },
    {
      "cell_type": "code",
      "metadata": {
        "scrolled": true,
        "id": "S_qeKK4iFEfS",
        "colab": {
          "base_uri": "https://localhost:8080/"
        },
        "outputId": "ce78ee1a-9ef9-458a-9784-02865c1378d4"
      },
      "source": [
        "print(\"1:\", 2 * five_times_table)\n",
        "print(\"2:\", 10 + five_times_table)\n",
        "print(\"3:\", five_times_table - 1)\n",
        "print(\"4:\", five_times_table/5)\n",
        "print(\"5:\", five_times_table **2)\n",
        "print(\"6:\", five_times_table < 20)"
      ],
      "execution_count": 10,
      "outputs": [
        {
          "output_type": "stream",
          "name": "stdout",
          "text": [
            "1: [  0  10  20  30  40  50  60  70  80  90 100]\n",
            "2: [10 15 20 25 30 35 40 45 50 55 60]\n",
            "3: [-1  4  9 14 19 24 29 34 39 44 49]\n",
            "4: [ 0.  1.  2.  3.  4.  5.  6.  7.  8.  9. 10.]\n",
            "5: [   0   25  100  225  400  625  900 1225 1600 2025 2500]\n",
            "6: [ True  True  True  True False False False False False False False]\n"
          ]
        }
      ]
    },
    {
      "cell_type": "markdown",
      "metadata": {
        "id": "v8kLbKxvFEfS"
      },
      "source": [
        "### Speed Test"
      ]
    },
    {
      "cell_type": "markdown",
      "metadata": {
        "id": "K0_hxEyuFEfS"
      },
      "source": [
        "If we compare the speed at which we can do these operations compared to core python, we will notice a substantial difference."
      ]
    },
    {
      "cell_type": "code",
      "metadata": {
        "scrolled": true,
        "id": "yA2n--u2FEfT",
        "colab": {
          "base_uri": "https://localhost:8080/"
        },
        "outputId": "13d8d1e0-3108-44b7-f8dc-810374adf200"
      },
      "source": [
        "fives_list = list(range(0,5001,5))\n",
        "fives_list"
      ],
      "execution_count": 11,
      "outputs": [
        {
          "output_type": "execute_result",
          "data": {
            "text/plain": [
              "[0,\n",
              " 5,\n",
              " 10,\n",
              " 15,\n",
              " 20,\n",
              " 25,\n",
              " 30,\n",
              " 35,\n",
              " 40,\n",
              " 45,\n",
              " 50,\n",
              " 55,\n",
              " 60,\n",
              " 65,\n",
              " 70,\n",
              " 75,\n",
              " 80,\n",
              " 85,\n",
              " 90,\n",
              " 95,\n",
              " 100,\n",
              " 105,\n",
              " 110,\n",
              " 115,\n",
              " 120,\n",
              " 125,\n",
              " 130,\n",
              " 135,\n",
              " 140,\n",
              " 145,\n",
              " 150,\n",
              " 155,\n",
              " 160,\n",
              " 165,\n",
              " 170,\n",
              " 175,\n",
              " 180,\n",
              " 185,\n",
              " 190,\n",
              " 195,\n",
              " 200,\n",
              " 205,\n",
              " 210,\n",
              " 215,\n",
              " 220,\n",
              " 225,\n",
              " 230,\n",
              " 235,\n",
              " 240,\n",
              " 245,\n",
              " 250,\n",
              " 255,\n",
              " 260,\n",
              " 265,\n",
              " 270,\n",
              " 275,\n",
              " 280,\n",
              " 285,\n",
              " 290,\n",
              " 295,\n",
              " 300,\n",
              " 305,\n",
              " 310,\n",
              " 315,\n",
              " 320,\n",
              " 325,\n",
              " 330,\n",
              " 335,\n",
              " 340,\n",
              " 345,\n",
              " 350,\n",
              " 355,\n",
              " 360,\n",
              " 365,\n",
              " 370,\n",
              " 375,\n",
              " 380,\n",
              " 385,\n",
              " 390,\n",
              " 395,\n",
              " 400,\n",
              " 405,\n",
              " 410,\n",
              " 415,\n",
              " 420,\n",
              " 425,\n",
              " 430,\n",
              " 435,\n",
              " 440,\n",
              " 445,\n",
              " 450,\n",
              " 455,\n",
              " 460,\n",
              " 465,\n",
              " 470,\n",
              " 475,\n",
              " 480,\n",
              " 485,\n",
              " 490,\n",
              " 495,\n",
              " 500,\n",
              " 505,\n",
              " 510,\n",
              " 515,\n",
              " 520,\n",
              " 525,\n",
              " 530,\n",
              " 535,\n",
              " 540,\n",
              " 545,\n",
              " 550,\n",
              " 555,\n",
              " 560,\n",
              " 565,\n",
              " 570,\n",
              " 575,\n",
              " 580,\n",
              " 585,\n",
              " 590,\n",
              " 595,\n",
              " 600,\n",
              " 605,\n",
              " 610,\n",
              " 615,\n",
              " 620,\n",
              " 625,\n",
              " 630,\n",
              " 635,\n",
              " 640,\n",
              " 645,\n",
              " 650,\n",
              " 655,\n",
              " 660,\n",
              " 665,\n",
              " 670,\n",
              " 675,\n",
              " 680,\n",
              " 685,\n",
              " 690,\n",
              " 695,\n",
              " 700,\n",
              " 705,\n",
              " 710,\n",
              " 715,\n",
              " 720,\n",
              " 725,\n",
              " 730,\n",
              " 735,\n",
              " 740,\n",
              " 745,\n",
              " 750,\n",
              " 755,\n",
              " 760,\n",
              " 765,\n",
              " 770,\n",
              " 775,\n",
              " 780,\n",
              " 785,\n",
              " 790,\n",
              " 795,\n",
              " 800,\n",
              " 805,\n",
              " 810,\n",
              " 815,\n",
              " 820,\n",
              " 825,\n",
              " 830,\n",
              " 835,\n",
              " 840,\n",
              " 845,\n",
              " 850,\n",
              " 855,\n",
              " 860,\n",
              " 865,\n",
              " 870,\n",
              " 875,\n",
              " 880,\n",
              " 885,\n",
              " 890,\n",
              " 895,\n",
              " 900,\n",
              " 905,\n",
              " 910,\n",
              " 915,\n",
              " 920,\n",
              " 925,\n",
              " 930,\n",
              " 935,\n",
              " 940,\n",
              " 945,\n",
              " 950,\n",
              " 955,\n",
              " 960,\n",
              " 965,\n",
              " 970,\n",
              " 975,\n",
              " 980,\n",
              " 985,\n",
              " 990,\n",
              " 995,\n",
              " 1000,\n",
              " 1005,\n",
              " 1010,\n",
              " 1015,\n",
              " 1020,\n",
              " 1025,\n",
              " 1030,\n",
              " 1035,\n",
              " 1040,\n",
              " 1045,\n",
              " 1050,\n",
              " 1055,\n",
              " 1060,\n",
              " 1065,\n",
              " 1070,\n",
              " 1075,\n",
              " 1080,\n",
              " 1085,\n",
              " 1090,\n",
              " 1095,\n",
              " 1100,\n",
              " 1105,\n",
              " 1110,\n",
              " 1115,\n",
              " 1120,\n",
              " 1125,\n",
              " 1130,\n",
              " 1135,\n",
              " 1140,\n",
              " 1145,\n",
              " 1150,\n",
              " 1155,\n",
              " 1160,\n",
              " 1165,\n",
              " 1170,\n",
              " 1175,\n",
              " 1180,\n",
              " 1185,\n",
              " 1190,\n",
              " 1195,\n",
              " 1200,\n",
              " 1205,\n",
              " 1210,\n",
              " 1215,\n",
              " 1220,\n",
              " 1225,\n",
              " 1230,\n",
              " 1235,\n",
              " 1240,\n",
              " 1245,\n",
              " 1250,\n",
              " 1255,\n",
              " 1260,\n",
              " 1265,\n",
              " 1270,\n",
              " 1275,\n",
              " 1280,\n",
              " 1285,\n",
              " 1290,\n",
              " 1295,\n",
              " 1300,\n",
              " 1305,\n",
              " 1310,\n",
              " 1315,\n",
              " 1320,\n",
              " 1325,\n",
              " 1330,\n",
              " 1335,\n",
              " 1340,\n",
              " 1345,\n",
              " 1350,\n",
              " 1355,\n",
              " 1360,\n",
              " 1365,\n",
              " 1370,\n",
              " 1375,\n",
              " 1380,\n",
              " 1385,\n",
              " 1390,\n",
              " 1395,\n",
              " 1400,\n",
              " 1405,\n",
              " 1410,\n",
              " 1415,\n",
              " 1420,\n",
              " 1425,\n",
              " 1430,\n",
              " 1435,\n",
              " 1440,\n",
              " 1445,\n",
              " 1450,\n",
              " 1455,\n",
              " 1460,\n",
              " 1465,\n",
              " 1470,\n",
              " 1475,\n",
              " 1480,\n",
              " 1485,\n",
              " 1490,\n",
              " 1495,\n",
              " 1500,\n",
              " 1505,\n",
              " 1510,\n",
              " 1515,\n",
              " 1520,\n",
              " 1525,\n",
              " 1530,\n",
              " 1535,\n",
              " 1540,\n",
              " 1545,\n",
              " 1550,\n",
              " 1555,\n",
              " 1560,\n",
              " 1565,\n",
              " 1570,\n",
              " 1575,\n",
              " 1580,\n",
              " 1585,\n",
              " 1590,\n",
              " 1595,\n",
              " 1600,\n",
              " 1605,\n",
              " 1610,\n",
              " 1615,\n",
              " 1620,\n",
              " 1625,\n",
              " 1630,\n",
              " 1635,\n",
              " 1640,\n",
              " 1645,\n",
              " 1650,\n",
              " 1655,\n",
              " 1660,\n",
              " 1665,\n",
              " 1670,\n",
              " 1675,\n",
              " 1680,\n",
              " 1685,\n",
              " 1690,\n",
              " 1695,\n",
              " 1700,\n",
              " 1705,\n",
              " 1710,\n",
              " 1715,\n",
              " 1720,\n",
              " 1725,\n",
              " 1730,\n",
              " 1735,\n",
              " 1740,\n",
              " 1745,\n",
              " 1750,\n",
              " 1755,\n",
              " 1760,\n",
              " 1765,\n",
              " 1770,\n",
              " 1775,\n",
              " 1780,\n",
              " 1785,\n",
              " 1790,\n",
              " 1795,\n",
              " 1800,\n",
              " 1805,\n",
              " 1810,\n",
              " 1815,\n",
              " 1820,\n",
              " 1825,\n",
              " 1830,\n",
              " 1835,\n",
              " 1840,\n",
              " 1845,\n",
              " 1850,\n",
              " 1855,\n",
              " 1860,\n",
              " 1865,\n",
              " 1870,\n",
              " 1875,\n",
              " 1880,\n",
              " 1885,\n",
              " 1890,\n",
              " 1895,\n",
              " 1900,\n",
              " 1905,\n",
              " 1910,\n",
              " 1915,\n",
              " 1920,\n",
              " 1925,\n",
              " 1930,\n",
              " 1935,\n",
              " 1940,\n",
              " 1945,\n",
              " 1950,\n",
              " 1955,\n",
              " 1960,\n",
              " 1965,\n",
              " 1970,\n",
              " 1975,\n",
              " 1980,\n",
              " 1985,\n",
              " 1990,\n",
              " 1995,\n",
              " 2000,\n",
              " 2005,\n",
              " 2010,\n",
              " 2015,\n",
              " 2020,\n",
              " 2025,\n",
              " 2030,\n",
              " 2035,\n",
              " 2040,\n",
              " 2045,\n",
              " 2050,\n",
              " 2055,\n",
              " 2060,\n",
              " 2065,\n",
              " 2070,\n",
              " 2075,\n",
              " 2080,\n",
              " 2085,\n",
              " 2090,\n",
              " 2095,\n",
              " 2100,\n",
              " 2105,\n",
              " 2110,\n",
              " 2115,\n",
              " 2120,\n",
              " 2125,\n",
              " 2130,\n",
              " 2135,\n",
              " 2140,\n",
              " 2145,\n",
              " 2150,\n",
              " 2155,\n",
              " 2160,\n",
              " 2165,\n",
              " 2170,\n",
              " 2175,\n",
              " 2180,\n",
              " 2185,\n",
              " 2190,\n",
              " 2195,\n",
              " 2200,\n",
              " 2205,\n",
              " 2210,\n",
              " 2215,\n",
              " 2220,\n",
              " 2225,\n",
              " 2230,\n",
              " 2235,\n",
              " 2240,\n",
              " 2245,\n",
              " 2250,\n",
              " 2255,\n",
              " 2260,\n",
              " 2265,\n",
              " 2270,\n",
              " 2275,\n",
              " 2280,\n",
              " 2285,\n",
              " 2290,\n",
              " 2295,\n",
              " 2300,\n",
              " 2305,\n",
              " 2310,\n",
              " 2315,\n",
              " 2320,\n",
              " 2325,\n",
              " 2330,\n",
              " 2335,\n",
              " 2340,\n",
              " 2345,\n",
              " 2350,\n",
              " 2355,\n",
              " 2360,\n",
              " 2365,\n",
              " 2370,\n",
              " 2375,\n",
              " 2380,\n",
              " 2385,\n",
              " 2390,\n",
              " 2395,\n",
              " 2400,\n",
              " 2405,\n",
              " 2410,\n",
              " 2415,\n",
              " 2420,\n",
              " 2425,\n",
              " 2430,\n",
              " 2435,\n",
              " 2440,\n",
              " 2445,\n",
              " 2450,\n",
              " 2455,\n",
              " 2460,\n",
              " 2465,\n",
              " 2470,\n",
              " 2475,\n",
              " 2480,\n",
              " 2485,\n",
              " 2490,\n",
              " 2495,\n",
              " 2500,\n",
              " 2505,\n",
              " 2510,\n",
              " 2515,\n",
              " 2520,\n",
              " 2525,\n",
              " 2530,\n",
              " 2535,\n",
              " 2540,\n",
              " 2545,\n",
              " 2550,\n",
              " 2555,\n",
              " 2560,\n",
              " 2565,\n",
              " 2570,\n",
              " 2575,\n",
              " 2580,\n",
              " 2585,\n",
              " 2590,\n",
              " 2595,\n",
              " 2600,\n",
              " 2605,\n",
              " 2610,\n",
              " 2615,\n",
              " 2620,\n",
              " 2625,\n",
              " 2630,\n",
              " 2635,\n",
              " 2640,\n",
              " 2645,\n",
              " 2650,\n",
              " 2655,\n",
              " 2660,\n",
              " 2665,\n",
              " 2670,\n",
              " 2675,\n",
              " 2680,\n",
              " 2685,\n",
              " 2690,\n",
              " 2695,\n",
              " 2700,\n",
              " 2705,\n",
              " 2710,\n",
              " 2715,\n",
              " 2720,\n",
              " 2725,\n",
              " 2730,\n",
              " 2735,\n",
              " 2740,\n",
              " 2745,\n",
              " 2750,\n",
              " 2755,\n",
              " 2760,\n",
              " 2765,\n",
              " 2770,\n",
              " 2775,\n",
              " 2780,\n",
              " 2785,\n",
              " 2790,\n",
              " 2795,\n",
              " 2800,\n",
              " 2805,\n",
              " 2810,\n",
              " 2815,\n",
              " 2820,\n",
              " 2825,\n",
              " 2830,\n",
              " 2835,\n",
              " 2840,\n",
              " 2845,\n",
              " 2850,\n",
              " 2855,\n",
              " 2860,\n",
              " 2865,\n",
              " 2870,\n",
              " 2875,\n",
              " 2880,\n",
              " 2885,\n",
              " 2890,\n",
              " 2895,\n",
              " 2900,\n",
              " 2905,\n",
              " 2910,\n",
              " 2915,\n",
              " 2920,\n",
              " 2925,\n",
              " 2930,\n",
              " 2935,\n",
              " 2940,\n",
              " 2945,\n",
              " 2950,\n",
              " 2955,\n",
              " 2960,\n",
              " 2965,\n",
              " 2970,\n",
              " 2975,\n",
              " 2980,\n",
              " 2985,\n",
              " 2990,\n",
              " 2995,\n",
              " 3000,\n",
              " 3005,\n",
              " 3010,\n",
              " 3015,\n",
              " 3020,\n",
              " 3025,\n",
              " 3030,\n",
              " 3035,\n",
              " 3040,\n",
              " 3045,\n",
              " 3050,\n",
              " 3055,\n",
              " 3060,\n",
              " 3065,\n",
              " 3070,\n",
              " 3075,\n",
              " 3080,\n",
              " 3085,\n",
              " 3090,\n",
              " 3095,\n",
              " 3100,\n",
              " 3105,\n",
              " 3110,\n",
              " 3115,\n",
              " 3120,\n",
              " 3125,\n",
              " 3130,\n",
              " 3135,\n",
              " 3140,\n",
              " 3145,\n",
              " 3150,\n",
              " 3155,\n",
              " 3160,\n",
              " 3165,\n",
              " 3170,\n",
              " 3175,\n",
              " 3180,\n",
              " 3185,\n",
              " 3190,\n",
              " 3195,\n",
              " 3200,\n",
              " 3205,\n",
              " 3210,\n",
              " 3215,\n",
              " 3220,\n",
              " 3225,\n",
              " 3230,\n",
              " 3235,\n",
              " 3240,\n",
              " 3245,\n",
              " 3250,\n",
              " 3255,\n",
              " 3260,\n",
              " 3265,\n",
              " 3270,\n",
              " 3275,\n",
              " 3280,\n",
              " 3285,\n",
              " 3290,\n",
              " 3295,\n",
              " 3300,\n",
              " 3305,\n",
              " 3310,\n",
              " 3315,\n",
              " 3320,\n",
              " 3325,\n",
              " 3330,\n",
              " 3335,\n",
              " 3340,\n",
              " 3345,\n",
              " 3350,\n",
              " 3355,\n",
              " 3360,\n",
              " 3365,\n",
              " 3370,\n",
              " 3375,\n",
              " 3380,\n",
              " 3385,\n",
              " 3390,\n",
              " 3395,\n",
              " 3400,\n",
              " 3405,\n",
              " 3410,\n",
              " 3415,\n",
              " 3420,\n",
              " 3425,\n",
              " 3430,\n",
              " 3435,\n",
              " 3440,\n",
              " 3445,\n",
              " 3450,\n",
              " 3455,\n",
              " 3460,\n",
              " 3465,\n",
              " 3470,\n",
              " 3475,\n",
              " 3480,\n",
              " 3485,\n",
              " 3490,\n",
              " 3495,\n",
              " 3500,\n",
              " 3505,\n",
              " 3510,\n",
              " 3515,\n",
              " 3520,\n",
              " 3525,\n",
              " 3530,\n",
              " 3535,\n",
              " 3540,\n",
              " 3545,\n",
              " 3550,\n",
              " 3555,\n",
              " 3560,\n",
              " 3565,\n",
              " 3570,\n",
              " 3575,\n",
              " 3580,\n",
              " 3585,\n",
              " 3590,\n",
              " 3595,\n",
              " 3600,\n",
              " 3605,\n",
              " 3610,\n",
              " 3615,\n",
              " 3620,\n",
              " 3625,\n",
              " 3630,\n",
              " 3635,\n",
              " 3640,\n",
              " 3645,\n",
              " 3650,\n",
              " 3655,\n",
              " 3660,\n",
              " 3665,\n",
              " 3670,\n",
              " 3675,\n",
              " 3680,\n",
              " 3685,\n",
              " 3690,\n",
              " 3695,\n",
              " 3700,\n",
              " 3705,\n",
              " 3710,\n",
              " 3715,\n",
              " 3720,\n",
              " 3725,\n",
              " 3730,\n",
              " 3735,\n",
              " 3740,\n",
              " 3745,\n",
              " 3750,\n",
              " 3755,\n",
              " 3760,\n",
              " 3765,\n",
              " 3770,\n",
              " 3775,\n",
              " 3780,\n",
              " 3785,\n",
              " 3790,\n",
              " 3795,\n",
              " 3800,\n",
              " 3805,\n",
              " 3810,\n",
              " 3815,\n",
              " 3820,\n",
              " 3825,\n",
              " 3830,\n",
              " 3835,\n",
              " 3840,\n",
              " 3845,\n",
              " 3850,\n",
              " 3855,\n",
              " 3860,\n",
              " 3865,\n",
              " 3870,\n",
              " 3875,\n",
              " 3880,\n",
              " 3885,\n",
              " 3890,\n",
              " 3895,\n",
              " 3900,\n",
              " 3905,\n",
              " 3910,\n",
              " 3915,\n",
              " 3920,\n",
              " 3925,\n",
              " 3930,\n",
              " 3935,\n",
              " 3940,\n",
              " 3945,\n",
              " 3950,\n",
              " 3955,\n",
              " 3960,\n",
              " 3965,\n",
              " 3970,\n",
              " 3975,\n",
              " 3980,\n",
              " 3985,\n",
              " 3990,\n",
              " 3995,\n",
              " 4000,\n",
              " 4005,\n",
              " 4010,\n",
              " 4015,\n",
              " 4020,\n",
              " 4025,\n",
              " 4030,\n",
              " 4035,\n",
              " 4040,\n",
              " 4045,\n",
              " 4050,\n",
              " 4055,\n",
              " 4060,\n",
              " 4065,\n",
              " 4070,\n",
              " 4075,\n",
              " 4080,\n",
              " 4085,\n",
              " 4090,\n",
              " 4095,\n",
              " 4100,\n",
              " 4105,\n",
              " 4110,\n",
              " 4115,\n",
              " 4120,\n",
              " 4125,\n",
              " 4130,\n",
              " 4135,\n",
              " 4140,\n",
              " 4145,\n",
              " 4150,\n",
              " 4155,\n",
              " 4160,\n",
              " 4165,\n",
              " 4170,\n",
              " 4175,\n",
              " 4180,\n",
              " 4185,\n",
              " 4190,\n",
              " 4195,\n",
              " 4200,\n",
              " 4205,\n",
              " 4210,\n",
              " 4215,\n",
              " 4220,\n",
              " 4225,\n",
              " 4230,\n",
              " 4235,\n",
              " 4240,\n",
              " 4245,\n",
              " 4250,\n",
              " 4255,\n",
              " 4260,\n",
              " 4265,\n",
              " 4270,\n",
              " 4275,\n",
              " 4280,\n",
              " 4285,\n",
              " 4290,\n",
              " 4295,\n",
              " 4300,\n",
              " 4305,\n",
              " 4310,\n",
              " 4315,\n",
              " 4320,\n",
              " 4325,\n",
              " 4330,\n",
              " 4335,\n",
              " 4340,\n",
              " 4345,\n",
              " 4350,\n",
              " 4355,\n",
              " 4360,\n",
              " 4365,\n",
              " 4370,\n",
              " 4375,\n",
              " 4380,\n",
              " 4385,\n",
              " 4390,\n",
              " 4395,\n",
              " 4400,\n",
              " 4405,\n",
              " 4410,\n",
              " 4415,\n",
              " 4420,\n",
              " 4425,\n",
              " 4430,\n",
              " 4435,\n",
              " 4440,\n",
              " 4445,\n",
              " 4450,\n",
              " 4455,\n",
              " 4460,\n",
              " 4465,\n",
              " 4470,\n",
              " 4475,\n",
              " 4480,\n",
              " 4485,\n",
              " 4490,\n",
              " 4495,\n",
              " 4500,\n",
              " 4505,\n",
              " 4510,\n",
              " 4515,\n",
              " 4520,\n",
              " 4525,\n",
              " 4530,\n",
              " 4535,\n",
              " 4540,\n",
              " 4545,\n",
              " 4550,\n",
              " 4555,\n",
              " 4560,\n",
              " 4565,\n",
              " 4570,\n",
              " 4575,\n",
              " 4580,\n",
              " 4585,\n",
              " 4590,\n",
              " 4595,\n",
              " 4600,\n",
              " 4605,\n",
              " 4610,\n",
              " 4615,\n",
              " 4620,\n",
              " 4625,\n",
              " 4630,\n",
              " 4635,\n",
              " 4640,\n",
              " 4645,\n",
              " 4650,\n",
              " 4655,\n",
              " 4660,\n",
              " 4665,\n",
              " 4670,\n",
              " 4675,\n",
              " 4680,\n",
              " 4685,\n",
              " 4690,\n",
              " 4695,\n",
              " 4700,\n",
              " 4705,\n",
              " 4710,\n",
              " 4715,\n",
              " 4720,\n",
              " 4725,\n",
              " 4730,\n",
              " 4735,\n",
              " 4740,\n",
              " 4745,\n",
              " 4750,\n",
              " 4755,\n",
              " 4760,\n",
              " 4765,\n",
              " 4770,\n",
              " 4775,\n",
              " 4780,\n",
              " 4785,\n",
              " 4790,\n",
              " 4795,\n",
              " 4800,\n",
              " 4805,\n",
              " 4810,\n",
              " 4815,\n",
              " 4820,\n",
              " 4825,\n",
              " 4830,\n",
              " 4835,\n",
              " 4840,\n",
              " 4845,\n",
              " 4850,\n",
              " 4855,\n",
              " 4860,\n",
              " 4865,\n",
              " 4870,\n",
              " 4875,\n",
              " 4880,\n",
              " 4885,\n",
              " 4890,\n",
              " 4895,\n",
              " 4900,\n",
              " 4905,\n",
              " 4910,\n",
              " 4915,\n",
              " 4920,\n",
              " 4925,\n",
              " 4930,\n",
              " 4935,\n",
              " 4940,\n",
              " 4945,\n",
              " 4950,\n",
              " 4955,\n",
              " 4960,\n",
              " 4965,\n",
              " 4970,\n",
              " 4975,\n",
              " 4980,\n",
              " 4985,\n",
              " 4990,\n",
              " 4995,\n",
              " ...]"
            ]
          },
          "metadata": {},
          "execution_count": 11
        }
      ]
    },
    {
      "cell_type": "code",
      "metadata": {
        "id": "-SsircjyFEfU",
        "colab": {
          "base_uri": "https://localhost:8080/"
        },
        "outputId": "093d3d51-5e82-4b04-a22e-fecebb10b916"
      },
      "source": [
        "five_times_table_lge = np.arange(0,5001,5)\n",
        "five_times_table_lge"
      ],
      "execution_count": 12,
      "outputs": [
        {
          "output_type": "execute_result",
          "data": {
            "text/plain": [
              "array([   0,    5,   10, ..., 4990, 4995, 5000])"
            ]
          },
          "metadata": {},
          "execution_count": 12
        }
      ]
    },
    {
      "cell_type": "code",
      "metadata": {
        "id": "38tBFAzHFEfU",
        "colab": {
          "base_uri": "https://localhost:8080/"
        },
        "outputId": "4a5990b5-f49f-4dc5-f474-cbdd3bca1ccf"
      },
      "source": [
        "%timeit five_times_table_lge + 5"
      ],
      "execution_count": 13,
      "outputs": [
        {
          "output_type": "stream",
          "name": "stdout",
          "text": [
            "The slowest run took 633.79 times longer than the fastest. This could mean that an intermediate result is being cached.\n",
            "1000000 loops, best of 5: 1.25 µs per loop\n"
          ]
        }
      ]
    },
    {
      "cell_type": "code",
      "metadata": {
        "id": "WSh-KqW1FEfV",
        "colab": {
          "base_uri": "https://localhost:8080/"
        },
        "outputId": "fce974c0-2786-43c5-826c-d13bf20a1d85"
      },
      "source": [
        "%timeit [e + 5 for e in fives_list]"
      ],
      "execution_count": 14,
      "outputs": [
        {
          "output_type": "stream",
          "name": "stdout",
          "text": [
            "10000 loops, best of 5: 60.4 µs per loop\n"
          ]
        }
      ]
    },
    {
      "cell_type": "markdown",
      "metadata": {
        "id": "smh7axQMFEfW"
      },
      "source": [
        "Boolean string operations can also be performed on ndarrays."
      ]
    },
    {
      "cell_type": "code",
      "metadata": {
        "id": "yGFUI1QXFEfW",
        "colab": {
          "base_uri": "https://localhost:8080/"
        },
        "outputId": "0966bd94-7f8e-4925-bd35-d3699eeea709"
      },
      "source": [
        "words = np.array([\"ten\", \"nine\", \"eight\", \"seven\", \"six\"])\n",
        "\n",
        "print(np.isin(words, 'e'))\n",
        "\n",
        "print(\"e\" in words)\n",
        "[\"e\" in word for word in words]"
      ],
      "execution_count": 15,
      "outputs": [
        {
          "output_type": "stream",
          "name": "stdout",
          "text": [
            "[False False False False False]\n",
            "False\n"
          ]
        },
        {
          "output_type": "execute_result",
          "data": {
            "text/plain": [
              "[True, True, True, True, False]"
            ]
          },
          "metadata": {},
          "execution_count": 15
        }
      ]
    },
    {
      "cell_type": "markdown",
      "metadata": {
        "id": "sF7M84vDFEfW"
      },
      "source": [
        "# Transpose"
      ]
    },
    {
      "cell_type": "code",
      "metadata": {
        "id": "RfU8slI7FEfX",
        "colab": {
          "base_uri": "https://localhost:8080/"
        },
        "outputId": "d4612b07-d617-4d20-ee4d-35264d3e02cc"
      },
      "source": [
        "ages_list = [10, 5, 8, 32, 65, 43]\n",
        "weight_list = [32, 18, 26, 60, 55, 65]\n",
        "people = np.array([ages_list, weight_list])\n",
        "people.shape = (2, 6)\n",
        "print(people, \"\\n\")\n",
        "print(people.T)"
      ],
      "execution_count": 25,
      "outputs": [
        {
          "output_type": "stream",
          "name": "stdout",
          "text": [
            "[[10  5  8 32 65 43]\n",
            " [32 18 26 60 55 65]] \n",
            "\n",
            "[[10 32]\n",
            " [ 5 18]\n",
            " [ 8 26]\n",
            " [32 60]\n",
            " [65 55]\n",
            " [43 65]]\n"
          ]
        }
      ]
    },
    {
      "cell_type": "markdown",
      "metadata": {
        "id": "0HrEHzb8FEfX"
      },
      "source": [
        "# Data Types"
      ]
    },
    {
      "cell_type": "markdown",
      "metadata": {
        "id": "oveu_xcaFEfY"
      },
      "source": [
        "As previously mentioned, ndarrays can only have one data type. If we want to obtain or change this, we use the `.dtype` attribute."
      ]
    },
    {
      "cell_type": "code",
      "metadata": {
        "id": "r8aNixM-FEfY",
        "colab": {
          "base_uri": "https://localhost:8080/"
        },
        "outputId": "9df95403-2c1e-42bf-a0e2-02ceb0155411"
      },
      "source": [
        "people.dtype"
      ],
      "execution_count": 26,
      "outputs": [
        {
          "output_type": "execute_result",
          "data": {
            "text/plain": [
              "dtype('int64')"
            ]
          },
          "metadata": {},
          "execution_count": 26
        }
      ]
    },
    {
      "cell_type": "markdown",
      "metadata": {
        "id": "czkJCtzhFEfY"
      },
      "source": [
        "What is the data type of the below ndarray?"
      ]
    },
    {
      "cell_type": "code",
      "metadata": {
        "id": "ThQknjOGFEfZ",
        "colab": {
          "base_uri": "https://localhost:8080/"
        },
        "outputId": "af291a91-a328-4298-80a0-89e554412f93"
      },
      "source": [
        "ages_with_strings = np.array([10, 5, 8, '32', '65', '43'])\n",
        "ages_with_strings"
      ],
      "execution_count": 27,
      "outputs": [
        {
          "output_type": "execute_result",
          "data": {
            "text/plain": [
              "array(['10', '5', '8', '32', '65', '43'], dtype='<U21')"
            ]
          },
          "metadata": {},
          "execution_count": 27
        }
      ]
    },
    {
      "cell_type": "markdown",
      "metadata": {
        "id": "MtIG-jxyFEfZ"
      },
      "source": [
        "What is the dtype of this array?"
      ]
    },
    {
      "cell_type": "code",
      "metadata": {
        "id": "P_vdboesFEfa",
        "colab": {
          "base_uri": "https://localhost:8080/"
        },
        "outputId": "0d4787e2-7875-4a0f-e4d9-9fc07725fdaa"
      },
      "source": [
        "ages_with_strings = np.array([10, 5, 8, '32', '65', '43'], dtype='int32')\n",
        "ages_with_strings"
      ],
      "execution_count": 28,
      "outputs": [
        {
          "output_type": "execute_result",
          "data": {
            "text/plain": [
              "array([10,  5,  8, 32, 65, 43], dtype=int32)"
            ]
          },
          "metadata": {},
          "execution_count": 28
        }
      ]
    },
    {
      "cell_type": "markdown",
      "metadata": {
        "id": "4pUI16aeFEfa"
      },
      "source": [
        "What do you think has happened here?"
      ]
    },
    {
      "cell_type": "code",
      "metadata": {
        "id": "-urlcVeSFEfb",
        "colab": {
          "base_uri": "https://localhost:8080/"
        },
        "outputId": "ab64f8bb-735b-42b1-fc60-8d8c06b61ec1"
      },
      "source": [
        "ages_with_strings = np.array([10, 5, 8, '32', '65', '43'])\n",
        "print(ages_with_strings)"
      ],
      "execution_count": 29,
      "outputs": [
        {
          "output_type": "stream",
          "name": "stdout",
          "text": [
            "['10' '5' '8' '32' '65' '43']\n"
          ]
        }
      ]
    },
    {
      "cell_type": "code",
      "metadata": {
        "id": "Ple4QX2sFEfc",
        "colab": {
          "base_uri": "https://localhost:8080/"
        },
        "outputId": "f1d3cf89-612a-4501-a8c3-e536da1032ac"
      },
      "source": [
        "ages_with_strings.dtype = 'int32'\n",
        "print(ages_with_strings)"
      ],
      "execution_count": 30,
      "outputs": [
        {
          "output_type": "stream",
          "name": "stdout",
          "text": [
            "[49 48  0  0  0  0  0  0  0  0  0  0  0  0  0  0  0  0  0  0  0 53  0  0\n",
            "  0  0  0  0  0  0  0  0  0  0  0  0  0  0  0  0  0  0 56  0  0  0  0  0\n",
            "  0  0  0  0  0  0  0  0  0  0  0  0  0  0  0 51 50  0  0  0  0  0  0  0\n",
            "  0  0  0  0  0  0  0  0  0  0  0  0 54 53  0  0  0  0  0  0  0  0  0  0\n",
            "  0  0  0  0  0  0  0  0  0 52 51  0  0  0  0  0  0  0  0  0  0  0  0  0\n",
            "  0  0  0  0  0  0]\n"
          ]
        }
      ]
    },
    {
      "cell_type": "code",
      "metadata": {
        "id": "TVd0_pb5FEfc",
        "colab": {
          "base_uri": "https://localhost:8080/"
        },
        "outputId": "9d4534a7-9527-4949-8067-23f1f48ebb71"
      },
      "source": [
        "ages_with_strings.size"
      ],
      "execution_count": 31,
      "outputs": [
        {
          "output_type": "execute_result",
          "data": {
            "text/plain": [
              "126"
            ]
          },
          "metadata": {},
          "execution_count": 31
        }
      ]
    },
    {
      "cell_type": "code",
      "metadata": {
        "id": "OoT-O25SFEfd",
        "colab": {
          "base_uri": "https://localhost:8080/"
        },
        "outputId": "90ae89ba-a886-4130-fce4-0c1f7740ae15"
      },
      "source": [
        "ages_with_strings.size/21"
      ],
      "execution_count": 32,
      "outputs": [
        {
          "output_type": "execute_result",
          "data": {
            "text/plain": [
              "6.0"
            ]
          },
          "metadata": {},
          "execution_count": 32
        }
      ]
    },
    {
      "cell_type": "code",
      "metadata": {
        "id": "62UUrCb9FEfd",
        "colab": {
          "base_uri": "https://localhost:8080/"
        },
        "outputId": "cb6887cf-87ff-4f72-b79e-a26ef96822e9"
      },
      "source": [
        "np.array([10, 5, 8, '32', '65', '43']).size"
      ],
      "execution_count": 33,
      "outputs": [
        {
          "output_type": "execute_result",
          "data": {
            "text/plain": [
              "6"
            ]
          },
          "metadata": {},
          "execution_count": 33
        }
      ]
    },
    {
      "cell_type": "markdown",
      "metadata": {
        "id": "9nwNz7qMFEfd"
      },
      "source": [
        "The correct way to have changed the data type of the ndarray would have been to use the `.astype()` method, demonstrated below."
      ]
    },
    {
      "cell_type": "code",
      "metadata": {
        "id": "8uRzzy4CFEfe",
        "colab": {
          "base_uri": "https://localhost:8080/"
        },
        "outputId": "4a05c6ad-6c49-48ca-f050-01b4d66de640"
      },
      "source": [
        "ages_with_strings = np.array([10, 5, 8, '32', '65', '43'])\n",
        "print(ages_with_strings)\n",
        "print(ages_with_strings.astype('int32'))"
      ],
      "execution_count": 34,
      "outputs": [
        {
          "output_type": "stream",
          "name": "stdout",
          "text": [
            "['10' '5' '8' '32' '65' '43']\n",
            "[10  5  8 32 65 43]\n"
          ]
        }
      ]
    },
    {
      "cell_type": "markdown",
      "metadata": {
        "id": "HsZsH9LaFEfe"
      },
      "source": [
        "### Exercise\n",
        "\n",
        "* #### Create an array of string numbers, but use dtype to make it an array of floats.\n",
        "* #### Transpose the matrix, printing the new size and shape.\n",
        "* #### Use the .astype() method to convert the array to boolean."
      ]
    },
    {
      "cell_type": "markdown",
      "metadata": {
        "id": "S9EX1AZcFEff"
      },
      "source": [
        "## Array Slicing Operations"
      ]
    },
    {
      "cell_type": "markdown",
      "metadata": {
        "id": "8MQr36HaFEfg"
      },
      "source": [
        "As before, we can use square brackets and indices to access individual values, and the colon operator to slice the array."
      ]
    },
    {
      "cell_type": "code",
      "metadata": {
        "id": "i2u-37MAFEfg",
        "colab": {
          "base_uri": "https://localhost:8080/"
        },
        "outputId": "d3798711-2230-4fe1-fa77-f330ae4e1520"
      },
      "source": [
        "five_times_table"
      ],
      "execution_count": 35,
      "outputs": [
        {
          "output_type": "execute_result",
          "data": {
            "text/plain": [
              "array([ 0,  5, 10, 15, 20, 25, 30, 35, 40, 45, 50])"
            ]
          },
          "metadata": {},
          "execution_count": 35
        }
      ]
    },
    {
      "cell_type": "code",
      "metadata": {
        "id": "E-u49lM2FEfh",
        "colab": {
          "base_uri": "https://localhost:8080/"
        },
        "outputId": "c4ca7c6f-a795-482e-d9d7-246455845e34"
      },
      "source": [
        "five_times_table[0]"
      ],
      "execution_count": 36,
      "outputs": [
        {
          "output_type": "execute_result",
          "data": {
            "text/plain": [
              "0"
            ]
          },
          "metadata": {},
          "execution_count": 36
        }
      ]
    },
    {
      "cell_type": "code",
      "metadata": {
        "scrolled": true,
        "id": "pbW94uDdFEfh",
        "colab": {
          "base_uri": "https://localhost:8080/"
        },
        "outputId": "5761600e-9c2f-496f-f5af-a4de322202a3"
      },
      "source": [
        "five_times_table[-1]"
      ],
      "execution_count": 37,
      "outputs": [
        {
          "output_type": "execute_result",
          "data": {
            "text/plain": [
              "50"
            ]
          },
          "metadata": {},
          "execution_count": 37
        }
      ]
    },
    {
      "cell_type": "code",
      "metadata": {
        "id": "kckfSD3_FEfh",
        "colab": {
          "base_uri": "https://localhost:8080/"
        },
        "outputId": "ef1a04b9-eb42-4f97-80df-b8c48c34ef40"
      },
      "source": [
        "five_times_table[:4]"
      ],
      "execution_count": 38,
      "outputs": [
        {
          "output_type": "execute_result",
          "data": {
            "text/plain": [
              "array([ 0,  5, 10, 15])"
            ]
          },
          "metadata": {},
          "execution_count": 38
        }
      ]
    },
    {
      "cell_type": "code",
      "metadata": {
        "id": "9DucKVcZFEfi",
        "colab": {
          "base_uri": "https://localhost:8080/"
        },
        "outputId": "4d8982de-8a02-42e7-ae1c-05ae6fed9075"
      },
      "source": [
        "five_times_table[4:]"
      ],
      "execution_count": 39,
      "outputs": [
        {
          "output_type": "execute_result",
          "data": {
            "text/plain": [
              "array([20, 25, 30, 35, 40, 45, 50])"
            ]
          },
          "metadata": {},
          "execution_count": 39
        }
      ]
    },
    {
      "cell_type": "markdown",
      "metadata": {
        "id": "FAQ3aDWHFEfi"
      },
      "source": [
        "We can also slice an n-dim ndarray., specifying the slice operation accross each axis."
      ]
    },
    {
      "cell_type": "code",
      "metadata": {
        "id": "_q-M3DIeFEfi",
        "colab": {
          "base_uri": "https://localhost:8080/"
        },
        "outputId": "ca46caf5-99c2-4411-aa9a-2f5826bea044"
      },
      "source": [
        "print(people)\n",
        "people[:3, :3]"
      ],
      "execution_count": 40,
      "outputs": [
        {
          "output_type": "stream",
          "name": "stdout",
          "text": [
            "[[10  5  8 32 65 43]\n",
            " [32 18 26 60 55 65]]\n"
          ]
        },
        {
          "output_type": "execute_result",
          "data": {
            "text/plain": [
              "array([[10,  5,  8],\n",
              "       [32, 18, 26]])"
            ]
          },
          "metadata": {},
          "execution_count": 40
        }
      ]
    },
    {
      "cell_type": "markdown",
      "metadata": {
        "id": "RogUpaO0FEfj"
      },
      "source": [
        "### Exercise\n",
        "\n",
        "* Create a numpy array with 50 zeros\n",
        "* Create a np array of 2 repeated 20 times\n",
        "* Create a numpy array from 0 to 2 $\\pi$ in steps of 0.1\n",
        "\n",
        "For one of the arrays generated:\n",
        "* Get the first five values\n",
        "* Get the last 3 values\n",
        "* Get the 4th value to the 7th value"
      ]
    },
    {
      "cell_type": "markdown",
      "metadata": {
        "id": "vauaWn-aFEfj"
      },
      "source": [
        "We can reverse an array by using `.flip()` or by using the `::` operator."
      ]
    },
    {
      "cell_type": "code",
      "metadata": {
        "id": "kh3WWv7nFEfj",
        "colab": {
          "base_uri": "https://localhost:8080/"
        },
        "outputId": "1f7436cb-d71d-402e-bf2c-513c0f5ff6c2"
      },
      "source": [
        "reverse_five_times_table = np.flip(five_times_table)\n",
        "reverse_five_times_table"
      ],
      "execution_count": 41,
      "outputs": [
        {
          "output_type": "execute_result",
          "data": {
            "text/plain": [
              "array([50, 45, 40, 35, 30, 25, 20, 15, 10,  5,  0])"
            ]
          },
          "metadata": {},
          "execution_count": 41
        }
      ]
    },
    {
      "cell_type": "code",
      "metadata": {
        "id": "YLtfxWXZFEfk",
        "colab": {
          "base_uri": "https://localhost:8080/"
        },
        "outputId": "fa5f6c18-74f5-4304-8e07-7e3369c6f6cd"
      },
      "source": [
        "reverse_five_times_table = five_times_table[-1::-1]\n",
        "print(reverse_five_times_table)\n",
        "five_times_table"
      ],
      "execution_count": 42,
      "outputs": [
        {
          "output_type": "stream",
          "name": "stdout",
          "text": [
            "[50 45 40 35 30 25 20 15 10  5  0]\n"
          ]
        },
        {
          "output_type": "execute_result",
          "data": {
            "text/plain": [
              "array([ 0,  5, 10, 15, 20, 25, 30, 35, 40, 45, 50])"
            ]
          },
          "metadata": {},
          "execution_count": 42
        }
      ]
    },
    {
      "cell_type": "markdown",
      "metadata": {
        "id": "3LBEjaH8FEfk"
      },
      "source": [
        "We can also use the `::` operator to select steps of the original array."
      ]
    },
    {
      "cell_type": "code",
      "metadata": {
        "id": "XHXvyVasFEfk",
        "colab": {
          "base_uri": "https://localhost:8080/"
        },
        "outputId": "8c29fb99-ab8b-48d6-f5b9-f5c2b448b6a0"
      },
      "source": [
        "five_times_table[0::3] #Every 3rd element starting from 0"
      ],
      "execution_count": 43,
      "outputs": [
        {
          "output_type": "execute_result",
          "data": {
            "text/plain": [
              "array([ 0, 15, 30, 45])"
            ]
          },
          "metadata": {},
          "execution_count": 43
        }
      ]
    },
    {
      "cell_type": "markdown",
      "metadata": {
        "id": "b-_dsT1-FEfk"
      },
      "source": [
        "### Exercise\n",
        "Take one of the arrays you defined and\n",
        "* #### Reverse it\n",
        "* #### Only keep every 4th element.\n",
        "* #### Get every 2nd element, starting from the last and moving backwards."
      ]
    },
    {
      "cell_type": "markdown",
      "metadata": {
        "id": "obq2_oOrFEfl"
      },
      "source": [
        "# Stats"
      ]
    },
    {
      "cell_type": "code",
      "metadata": {
        "id": "bPdg5NpYFEfl",
        "colab": {
          "base_uri": "https://localhost:8080/"
        },
        "outputId": "55234b3b-3257-4d74-f33d-d011f03a360a"
      },
      "source": [
        "np.array([1.65432, 5.98765]).round(2)"
      ],
      "execution_count": 44,
      "outputs": [
        {
          "output_type": "execute_result",
          "data": {
            "text/plain": [
              "array([1.65, 5.99])"
            ]
          },
          "metadata": {},
          "execution_count": 44
        }
      ]
    },
    {
      "cell_type": "code",
      "metadata": {
        "id": "lZ7Bs-ecFEfm",
        "colab": {
          "base_uri": "https://localhost:8080/"
        },
        "outputId": "cac691e1-b596-45ee-fffc-935e89390c58"
      },
      "source": [
        "nums = np.arange(0, 4, 0.2555)\n",
        "nums"
      ],
      "execution_count": 46,
      "outputs": [
        {
          "output_type": "execute_result",
          "data": {
            "text/plain": [
              "array([0.    , 0.2555, 0.511 , 0.7665, 1.022 , 1.2775, 1.533 , 1.7885,\n",
              "       2.044 , 2.2995, 2.555 , 2.8105, 3.066 , 3.3215, 3.577 , 3.8325])"
            ]
          },
          "metadata": {},
          "execution_count": 46
        }
      ]
    },
    {
      "cell_type": "markdown",
      "metadata": {
        "id": "eWlo7adMFEfm"
      },
      "source": [
        "### Exercise\n",
        "\n",
        "* Compute min, max, sum, mean, median, variance, and standard deviation of the above array, all to to 2 decimal places."
      ]
    },
    {
      "cell_type": "code",
      "metadata": {
        "id": "jBuj6BOiFEfm",
        "colab": {
          "base_uri": "https://localhost:8080/"
        },
        "outputId": "95937aa8-1f33-4634-8bc7-dc7439c547a8"
      },
      "source": [
        "print(\"min = \", np.min(nums).round(2))\n",
        "print(\"max = \", np.max(nums).round(2))\n",
        "print(\"sum = \", np.sum(nums).round(2))\n",
        "print(\"mean = \", np.mean(nums).round(2))\n",
        "print(\"median = \", np.median(nums).round(2))\n",
        "print(\"var = \", np.var(nums).round(2))\n",
        "print(\"std = \", np.std(nums).round(2))"
      ],
      "execution_count": 47,
      "outputs": [
        {
          "output_type": "stream",
          "name": "stdout",
          "text": [
            "min =  0.0\n",
            "max =  3.83\n",
            "sum =  30.66\n",
            "mean =  1.92\n",
            "median =  1.92\n",
            "var =  1.39\n",
            "std =  1.18\n"
          ]
        }
      ]
    },
    {
      "cell_type": "markdown",
      "metadata": {
        "id": "EP7DuwB2FEfm"
      },
      "source": [
        "## Random"
      ]
    },
    {
      "cell_type": "markdown",
      "metadata": {
        "id": "bYE4Wl8AFEfn"
      },
      "source": [
        "With `np.random`, we can generate a number of types of dataset, and create training data.\n",
        "\n",
        "The below code simulates a fair coin toss."
      ]
    },
    {
      "cell_type": "code",
      "metadata": {
        "id": "wfYIQjYwFEfn",
        "colab": {
          "base_uri": "https://localhost:8080/"
        },
        "outputId": "04559afe-38a4-40e4-c789-88ce18779dc8"
      },
      "source": [
        "flip = np.random.choice([0,1], 10)\n",
        "flip"
      ],
      "execution_count": 48,
      "outputs": [
        {
          "output_type": "execute_result",
          "data": {
            "text/plain": [
              "array([0, 1, 0, 1, 0, 1, 1, 0, 1, 0])"
            ]
          },
          "metadata": {},
          "execution_count": 48
        }
      ]
    },
    {
      "cell_type": "code",
      "metadata": {
        "id": "fVkkVcAPFEfn",
        "colab": {
          "base_uri": "https://localhost:8080/"
        },
        "outputId": "33a1cab2-4a0b-412c-f0ee-96b6f5605bec"
      },
      "source": [
        "np.random.rand(10,20,9)"
      ],
      "execution_count": 49,
      "outputs": [
        {
          "output_type": "execute_result",
          "data": {
            "text/plain": [
              "array([[[7.18051832e-01, 3.30552349e-01, 9.27213906e-01, ...,\n",
              "         8.23547894e-01, 2.95408267e-01, 4.97063222e-01],\n",
              "        [9.62756523e-01, 3.90844800e-01, 7.02285609e-01, ...,\n",
              "         4.85419154e-03, 9.93169165e-02, 6.73643330e-01],\n",
              "        [3.23552118e-03, 6.18265626e-01, 9.97030637e-01, ...,\n",
              "         5.15223215e-01, 5.73262639e-01, 3.81783654e-01],\n",
              "        ...,\n",
              "        [5.79453165e-01, 9.48950577e-01, 4.94605375e-02, ...,\n",
              "         9.82926869e-01, 3.39711998e-01, 4.40758333e-01],\n",
              "        [2.04732353e-01, 5.26748513e-01, 5.90515058e-01, ...,\n",
              "         1.94243485e-01, 9.63912164e-01, 3.45348275e-02],\n",
              "        [7.96019432e-01, 2.53390991e-01, 2.39318956e-01, ...,\n",
              "         4.79441971e-01, 3.92935543e-01, 9.30863552e-01]],\n",
              "\n",
              "       [[9.00322683e-01, 4.39742961e-01, 9.31537906e-01, ...,\n",
              "         2.05298186e-01, 4.86098595e-01, 6.28741817e-01],\n",
              "        [5.15815453e-01, 2.61726598e-01, 7.29946387e-01, ...,\n",
              "         7.26509425e-01, 7.67409057e-01, 6.46079174e-01],\n",
              "        [1.33982380e-01, 9.38013603e-01, 3.77610502e-01, ...,\n",
              "         3.86019357e-01, 3.70791082e-01, 7.77623796e-01],\n",
              "        ...,\n",
              "        [6.31207925e-01, 7.69699604e-01, 1.35595573e-01, ...,\n",
              "         3.30380642e-01, 2.57176691e-01, 3.54320857e-01],\n",
              "        [2.85334234e-01, 7.50159459e-01, 3.60079991e-01, ...,\n",
              "         3.69121584e-01, 7.07438851e-01, 3.99174524e-01],\n",
              "        [5.18714509e-01, 8.00377361e-01, 6.03115664e-01, ...,\n",
              "         4.25352274e-01, 8.12696302e-01, 6.66745818e-01]],\n",
              "\n",
              "       [[6.71030040e-01, 3.10875282e-01, 6.00844792e-01, ...,\n",
              "         4.21511712e-01, 7.66423502e-01, 8.64863484e-01],\n",
              "        [7.33992477e-01, 3.15099176e-01, 6.47449731e-01, ...,\n",
              "         6.98086456e-01, 9.82813725e-01, 5.76014639e-02],\n",
              "        [1.36845898e-01, 3.44180317e-02, 1.66350067e-01, ...,\n",
              "         6.09364913e-01, 2.61548914e-01, 2.83491687e-01],\n",
              "        ...,\n",
              "        [3.09831769e-01, 2.82797821e-02, 8.43866792e-01, ...,\n",
              "         5.11594767e-01, 8.32594736e-01, 8.91391077e-01],\n",
              "        [8.50212862e-01, 6.96464619e-01, 4.81013488e-01, ...,\n",
              "         8.35129276e-01, 9.02021872e-01, 3.61788984e-01],\n",
              "        [5.18242498e-01, 4.15136865e-01, 6.62972485e-01, ...,\n",
              "         5.64482841e-01, 4.81026849e-01, 7.30101631e-01]],\n",
              "\n",
              "       ...,\n",
              "\n",
              "       [[5.38601279e-01, 1.00236771e-01, 9.49045833e-01, ...,\n",
              "         3.03964944e-01, 6.97909052e-02, 3.85194511e-02],\n",
              "        [3.86428969e-02, 5.48538487e-01, 5.55940566e-01, ...,\n",
              "         3.36328951e-01, 2.94033419e-03, 2.22658046e-01],\n",
              "        [3.02211790e-01, 5.21312550e-01, 7.24964533e-01, ...,\n",
              "         6.63363086e-01, 7.92415377e-01, 9.60976009e-01],\n",
              "        ...,\n",
              "        [2.96919396e-01, 9.01594220e-02, 3.01816556e-01, ...,\n",
              "         1.31089395e-01, 6.33400970e-01, 7.96084122e-01],\n",
              "        [9.76986097e-01, 1.93015770e-01, 1.60182272e-01, ...,\n",
              "         7.46933019e-01, 2.76365211e-01, 6.16410615e-01],\n",
              "        [9.86364884e-01, 4.93955372e-01, 6.41931524e-01, ...,\n",
              "         9.80474571e-01, 3.64543096e-01, 6.61490947e-01]],\n",
              "\n",
              "       [[5.37520316e-01, 2.92978389e-01, 9.69762428e-01, ...,\n",
              "         1.49117754e-03, 9.80051874e-01, 2.42958666e-01],\n",
              "        [2.22494986e-01, 2.71525968e-01, 1.20493800e-02, ...,\n",
              "         8.02568700e-01, 7.80057029e-01, 3.93765441e-01],\n",
              "        [9.71503731e-01, 8.00192622e-02, 7.49490718e-01, ...,\n",
              "         6.18470151e-01, 4.96318149e-01, 2.98452313e-01],\n",
              "        ...,\n",
              "        [8.57104290e-01, 9.39217358e-01, 1.15740060e-01, ...,\n",
              "         6.79725090e-01, 4.50049819e-01, 8.07285280e-02],\n",
              "        [8.13628051e-01, 3.35955377e-01, 1.13234219e-01, ...,\n",
              "         2.30044837e-01, 5.72791116e-01, 3.78224153e-02],\n",
              "        [6.65825852e-01, 8.09102445e-01, 1.99405149e-01, ...,\n",
              "         9.80035139e-01, 4.78593289e-02, 6.86243992e-02]],\n",
              "\n",
              "       [[7.42752247e-01, 9.54969155e-01, 8.62117869e-01, ...,\n",
              "         9.85484982e-01, 2.07310129e-02, 2.04895470e-03],\n",
              "        [5.84332831e-01, 7.31827465e-01, 8.66633885e-01, ...,\n",
              "         5.16076054e-01, 2.40531385e-01, 3.71376611e-04],\n",
              "        [6.15369429e-01, 2.22173175e-01, 9.23684317e-01, ...,\n",
              "         8.49743049e-01, 4.63815670e-01, 4.22425439e-01],\n",
              "        ...,\n",
              "        [2.91152696e-01, 9.86955469e-01, 7.07023549e-01, ...,\n",
              "         4.23789981e-01, 6.56552270e-01, 1.76496270e-01],\n",
              "        [4.69834810e-01, 6.32218651e-01, 5.84489071e-01, ...,\n",
              "         4.32485171e-01, 5.37184095e-01, 3.87175053e-01],\n",
              "        [7.11075673e-01, 3.23683357e-01, 9.17104313e-01, ...,\n",
              "         4.27458004e-01, 7.36630789e-01, 3.88017019e-02]]])"
            ]
          },
          "metadata": {},
          "execution_count": 49
        }
      ]
    },
    {
      "cell_type": "markdown",
      "metadata": {
        "id": "u6zc1PWmFEfo"
      },
      "source": [
        "We can produce 1000 datapoints of a normally distributed data set by using `np.random.normal()`"
      ]
    },
    {
      "cell_type": "code",
      "metadata": {
        "id": "hgOD9gP2FEfo",
        "colab": {
          "base_uri": "https://localhost:8080/"
        },
        "outputId": "2c1b19d8-f42a-436a-a1f3-547a8ae37593"
      },
      "source": [
        "mu, sigma = 0, 0.1 # mean and standard deviation\n",
        "s = np.random.normal(mu, sigma, 1000)\n",
        "s"
      ],
      "execution_count": 52,
      "outputs": [
        {
          "output_type": "execute_result",
          "data": {
            "text/plain": [
              "array([-0.07686325,  0.17214114,  0.02236594, -0.0277105 , -0.00360738,\n",
              "        0.22526488, -0.04300924, -0.19304036,  0.15329059,  0.0132377 ,\n",
              "        0.02419155,  0.06209622,  0.11735726,  0.28875635, -0.09921485,\n",
              "       -0.06795688, -0.16123026,  0.17585743,  0.13886781, -0.05788866,\n",
              "       -0.02185009, -0.09682538,  0.04384921,  0.21155626,  0.11519327,\n",
              "       -0.14319385,  0.01855798, -0.00837937, -0.09181235,  0.01158311,\n",
              "        0.12101612,  0.00473602, -0.12486919, -0.0383448 ,  0.06579753,\n",
              "        0.02801507, -0.01788386,  0.08759475,  0.13136954,  0.04879658,\n",
              "        0.03295301, -0.23719981, -0.03667944, -0.08810142,  0.01051119,\n",
              "        0.24687555, -0.10334383,  0.02077382,  0.01554238, -0.01168757,\n",
              "       -0.11853706, -0.10535355, -0.07638644, -0.01827322, -0.05705489,\n",
              "       -0.18427486, -0.02987756,  0.14918024,  0.0980739 , -0.0098711 ,\n",
              "       -0.00458131, -0.15567211,  0.13919734,  0.13282986,  0.0293724 ,\n",
              "        0.03246005, -0.02537516, -0.11283675, -0.09531277,  0.03129385,\n",
              "        0.14926885,  0.01545797, -0.05841003,  0.0009158 ,  0.15607975,\n",
              "        0.1271295 , -0.10315154, -0.06097289, -0.03674226, -0.03219459,\n",
              "        0.06405924, -0.04522139,  0.09491578,  0.0999256 ,  0.01935166,\n",
              "        0.18614698, -0.04824407, -0.16237216, -0.01215635, -0.00388504,\n",
              "       -0.01071974, -0.07136016, -0.13030249, -0.14166756,  0.10325153,\n",
              "       -0.11928854, -0.016605  , -0.11277202, -0.06483977,  0.04434117,\n",
              "        0.21081787,  0.0147842 ,  0.0579267 , -0.01950769, -0.00221066,\n",
              "        0.22422355, -0.14244889, -0.00568571,  0.07719629, -0.03216687,\n",
              "        0.01701789,  0.0812556 , -0.21582943,  0.10928006,  0.01850691,\n",
              "        0.07766043, -0.03783896, -0.063129  ,  0.10092085, -0.11716719,\n",
              "        0.13452126, -0.02163951, -0.01936141,  0.1975493 , -0.11668582,\n",
              "       -0.07280609, -0.04473712,  0.0574199 ,  0.0284584 , -0.01921951,\n",
              "       -0.02806595, -0.02871615, -0.01335263, -0.17722176,  0.0602392 ,\n",
              "       -0.18820344, -0.25696327, -0.03872438, -0.17503388,  0.00154739,\n",
              "       -0.01506006, -0.15537948,  0.12355477,  0.11101096,  0.12244449,\n",
              "       -0.0005248 , -0.20467003,  0.11713218,  0.03241554,  0.00202207,\n",
              "       -0.09249543,  0.18178424,  0.03888172,  0.01209246,  0.06980151,\n",
              "       -0.21971334, -0.20459834, -0.08987845,  0.08700514,  0.02987426,\n",
              "       -0.05693938, -0.19219434,  0.06086566, -0.08523507,  0.04946217,\n",
              "       -0.00776329, -0.1448022 ,  0.03031741,  0.03783806, -0.05776997,\n",
              "        0.01856251,  0.04336503,  0.07165255, -0.02308627,  0.14659778,\n",
              "        0.04873856,  0.00216693,  0.02193865,  0.0547597 , -0.07942586,\n",
              "        0.03223618,  0.0302362 ,  0.03959123,  0.01634775,  0.07849607,\n",
              "        0.02034885, -0.29084776, -0.08552494,  0.08875501,  0.05949536,\n",
              "       -0.04733346,  0.04954027,  0.05574418,  0.1629941 ,  0.0073329 ,\n",
              "       -0.14895489,  0.18042708, -0.0073042 ,  0.02297209,  0.01433798,\n",
              "        0.17422113, -0.01474774,  0.02316667, -0.04962724, -0.12904436,\n",
              "       -0.21146134, -0.10266019, -0.09182079,  0.02462036,  0.11307406,\n",
              "        0.20408551, -0.0781456 ,  0.05284112,  0.11477905,  0.00722863,\n",
              "        0.05877141,  0.11155735, -0.02657816, -0.07284192, -0.15569781,\n",
              "       -0.21992782, -0.0124022 ,  0.09678972, -0.01652892,  0.10488059,\n",
              "       -0.00427184,  0.05954779, -0.16495456,  0.00679105, -0.13152805,\n",
              "       -0.07345276,  0.06712741,  0.08426122,  0.03809029,  0.15141612,\n",
              "        0.08817007, -0.12484304, -0.05296121,  0.0104653 , -0.10924931,\n",
              "        0.18120584, -0.03336342,  0.03546517, -0.03690585, -0.04494697,\n",
              "       -0.05410275,  0.08860441,  0.17630191,  0.21649067,  0.00915663,\n",
              "        0.13640653, -0.08189077,  0.08064219,  0.15296468,  0.05673825,\n",
              "       -0.01199509,  0.15138262,  0.13039217,  0.078547  ,  0.02211537,\n",
              "       -0.09158778,  0.05137381,  0.2892805 ,  0.12193495, -0.08771736,\n",
              "       -0.00508163,  0.05312996,  0.1248724 , -0.02948531,  0.07456476,\n",
              "       -0.13475604,  0.03455566,  0.00508016,  0.19023194, -0.07027926,\n",
              "       -0.06937552, -0.11025943, -0.08963034, -0.0179321 , -0.14881083,\n",
              "       -0.20312339, -0.12071766, -0.00813159,  0.2911141 , -0.06648188,\n",
              "       -0.14650118,  0.05581764, -0.08965289, -0.01660067, -0.00262174,\n",
              "        0.09037079, -0.09301069,  0.03515882,  0.21172425,  0.0707761 ,\n",
              "        0.04593987,  0.09673703, -0.14497822,  0.06767763, -0.02154827,\n",
              "        0.06378146, -0.0697909 , -0.09873072, -0.06907564, -0.02361324,\n",
              "        0.22610163,  0.07514071, -0.00218207, -0.04923519, -0.09286535,\n",
              "       -0.09444902,  0.12747322,  0.01269213,  0.05405564,  0.00181177,\n",
              "        0.03132915, -0.22210542,  0.03928246,  0.07324888,  0.03377386,\n",
              "        0.05283939,  0.00108576,  0.11772334, -0.01035111, -0.06484177,\n",
              "        0.03474252, -0.14670782, -0.23194272,  0.11414156,  0.1165992 ,\n",
              "        0.10548287,  0.1183443 , -0.14391774, -0.04846937,  0.02973124,\n",
              "       -0.25247081, -0.09462562,  0.00729358,  0.09315947, -0.02948443,\n",
              "        0.16889858,  0.02665458, -0.01592625, -0.04887941, -0.07658865,\n",
              "        0.04208104, -0.09470881,  0.08544297, -0.05295463, -0.1280629 ,\n",
              "       -0.06610079, -0.12225825,  0.00289423, -0.07793414,  0.07010255,\n",
              "        0.1272463 ,  0.02775448, -0.03693897, -0.02910506, -0.23922751,\n",
              "       -0.13016394, -0.06372543, -0.00596764, -0.06551924,  0.28712294,\n",
              "       -0.05179845,  0.20340645,  0.17495037, -0.31594212,  0.06876132,\n",
              "        0.00164118,  0.16206447,  0.01577943,  0.02955929, -0.04905626,\n",
              "       -0.03945916,  0.05304897, -0.01115961, -0.04295563,  0.04759316,\n",
              "       -0.0563989 , -0.05895252, -0.00512613,  0.01643816,  0.14634163,\n",
              "       -0.03012576, -0.14139817, -0.0485848 ,  0.19489566, -0.07516554,\n",
              "       -0.12212003, -0.01500852,  0.07630034,  0.01826143, -0.11053347,\n",
              "        0.03112071,  0.05227625, -0.13099048,  0.01043451, -0.08056852,\n",
              "       -0.00144925, -0.03648574,  0.04845548,  0.03444315, -0.13820831,\n",
              "       -0.03402388, -0.17107827, -0.06986611,  0.03465836, -0.07274836,\n",
              "       -0.11895536,  0.00979953, -0.0298365 ,  0.06213436, -0.02756423,\n",
              "        0.00303544,  0.10562486, -0.08905138, -0.05668033, -0.27757132,\n",
              "       -0.17845415,  0.09820544,  0.02104095, -0.05569046,  0.07245789,\n",
              "        0.20796301, -0.0654784 , -0.23339491,  0.0101277 ,  0.03301568,\n",
              "       -0.08221144, -0.04639664,  0.00559385,  0.16116066,  0.06057616,\n",
              "        0.00431373,  0.10582334,  0.09381902, -0.10025991,  0.08284506,\n",
              "        0.07174064, -0.01155977, -0.00496949,  0.00305831, -0.02155918,\n",
              "        0.15645468, -0.00325848, -0.14576961, -0.09358788,  0.13297159,\n",
              "       -0.1058942 , -0.12445083,  0.09821527,  0.13352549, -0.1543137 ,\n",
              "        0.07477328, -0.10298562,  0.02551151, -0.01668244, -0.05322669,\n",
              "       -0.03784627,  0.08810351, -0.06847026, -0.01632925, -0.18213921,\n",
              "        0.00558992,  0.02779276,  0.18153834, -0.16225436,  0.02713737,\n",
              "       -0.16672666,  0.06458125, -0.20278442, -0.07404742, -0.10675446,\n",
              "       -0.04465571,  0.01062017,  0.0604196 ,  0.06081939, -0.05085431,\n",
              "       -0.00409024,  0.17858958, -0.04987183, -0.20350435, -0.06655793,\n",
              "        0.03718229, -0.19172672, -0.14077671,  0.07942004,  0.05152786,\n",
              "       -0.01878936, -0.00301794, -0.11377563,  0.05604444,  0.09790034,\n",
              "        0.23648835,  0.03319569,  0.06956799,  0.01919187, -0.12930271,\n",
              "        0.0057132 , -0.18897972, -0.09796413,  0.01705446,  0.2348613 ,\n",
              "        0.12927056,  0.05864009, -0.0126997 , -0.07062932, -0.17410124,\n",
              "        0.15161802, -0.00277258, -0.04332378, -0.00282159,  0.0970292 ,\n",
              "        0.04566842,  0.01864466, -0.0162992 , -0.07409699,  0.06777429,\n",
              "        0.05538403,  0.12636679, -0.01207537,  0.06119852,  0.01390381,\n",
              "        0.0945141 ,  0.03153915, -0.05252345, -0.06201748, -0.1120115 ,\n",
              "       -0.24611749, -0.03498422,  0.16805322, -0.25995178,  0.15020489,\n",
              "        0.08161066, -0.15142911, -0.09513833,  0.02405942, -0.01077618,\n",
              "        0.15545247,  0.20369645, -0.05584338, -0.0013765 ,  0.03240472,\n",
              "       -0.11202972,  0.11351102, -0.04251187,  0.11633237,  0.10114203,\n",
              "       -0.11512276,  0.08106966,  0.12476835, -0.07919334, -0.09351614,\n",
              "       -0.12907246,  0.13744122, -0.10003446,  0.03590973,  0.00435729,\n",
              "        0.10944778,  0.02783456,  0.03739093,  0.02890786,  0.16523389,\n",
              "        0.0108123 , -0.0659948 ,  0.10573701, -0.26245045,  0.01214128,\n",
              "        0.13342104,  0.07522023, -0.07301555, -0.0499066 ,  0.06898385,\n",
              "       -0.09818546, -0.20312353, -0.05981149,  0.09292632, -0.12892088,\n",
              "       -0.16453197, -0.03639017,  0.14975647, -0.14188759, -0.03689709,\n",
              "       -0.30336029,  0.03649033, -0.15208109,  0.02389269,  0.02047254,\n",
              "       -0.00806856, -0.03344299, -0.0309274 ,  0.03839044,  0.13834392,\n",
              "        0.07915562,  0.02669101, -0.02007263,  0.02768743,  0.05104859,\n",
              "       -0.22830142, -0.06397732, -0.12392912, -0.06300601, -0.02842748,\n",
              "        0.12472689,  0.10401406, -0.01083607,  0.0581664 , -0.01236159,\n",
              "       -0.0666448 ,  0.17315795,  0.03593689, -0.00365656,  0.04892687,\n",
              "        0.13096621,  0.03592102, -0.10244007, -0.03385569, -0.05753184,\n",
              "       -0.09222099, -0.13079638,  0.06419819,  0.02082373,  0.07382837,\n",
              "       -0.00262175, -0.0580814 ,  0.02887615, -0.04038375,  0.07329479,\n",
              "       -0.1218244 ,  0.23314397, -0.03846768,  0.0402052 , -0.1111904 ,\n",
              "       -0.06527994,  0.25848987, -0.30331703, -0.05131181, -0.09979599,\n",
              "        0.05055188, -0.10543688, -0.18616731, -0.14108662,  0.08371676,\n",
              "        0.00686388,  0.13554179,  0.02496892,  0.03905067,  0.21057475,\n",
              "        0.1022855 , -0.05491357, -0.03199885, -0.11343401,  0.10474577,\n",
              "        0.01431786,  0.00695895, -0.02814036, -0.03839867, -0.06752874,\n",
              "       -0.00820936,  0.02585757,  0.1095915 ,  0.04224405,  0.01575395,\n",
              "       -0.0643183 ,  0.07490289,  0.19710798, -0.06976837,  0.05026126,\n",
              "        0.10653857,  0.14317836,  0.05067814, -0.04836229, -0.09178696,\n",
              "        0.07817809,  0.03665488, -0.08680331, -0.02513628, -0.14947536,\n",
              "       -0.10603443, -0.11716746, -0.0395574 ,  0.01943015, -0.12687577,\n",
              "       -0.14334631,  0.11931832, -0.17579329,  0.01280924, -0.02216563,\n",
              "        0.04786529, -0.13855169, -0.06490938, -0.04319215,  0.08164156,\n",
              "       -0.12261599,  0.06834509,  0.14626872, -0.04806179,  0.16953193,\n",
              "        0.09336492,  0.17243457, -0.01097199,  0.05224166,  0.18775367,\n",
              "        0.13580968, -0.0974115 , -0.06775377,  0.01950625,  0.00361718,\n",
              "       -0.08819923, -0.04967203, -0.05671114,  0.09546429,  0.05489168,\n",
              "       -0.07303197,  0.02782079,  0.08247345, -0.1415091 ,  0.04532914,\n",
              "       -0.08483035, -0.07275214,  0.1018611 ,  0.07210151,  0.00421018,\n",
              "        0.0605967 ,  0.15334476, -0.10081481,  0.04935349,  0.03881979,\n",
              "       -0.11913737, -0.04746322, -0.16797776, -0.09697693, -0.04104116,\n",
              "        0.09515708,  0.13421968, -0.00351426,  0.10701858,  0.03990222,\n",
              "        0.14585048, -0.05366955, -0.07843293, -0.20213326,  0.04162768,\n",
              "       -0.08003126, -0.0954871 ,  0.01529688, -0.15781857, -0.04129844,\n",
              "       -0.1583192 , -0.19527846, -0.06266006, -0.00952691, -0.04801811,\n",
              "        0.08138225, -0.03531648,  0.14460653,  0.04620732,  0.00057674,\n",
              "       -0.04843554, -0.03255575, -0.03406753, -0.03705757, -0.03769256,\n",
              "       -0.02981403,  0.17417037,  0.03176888, -0.04334564,  0.06008125,\n",
              "        0.22998912,  0.03409628, -0.06150695,  0.01407724, -0.2014511 ,\n",
              "       -0.06501152, -0.1844281 , -0.12176024, -0.08117698,  0.03995642,\n",
              "        0.15556827, -0.05907155, -0.1786112 ,  0.09809201, -0.10091943,\n",
              "       -0.02457782,  0.00612822, -0.02340029, -0.14702488,  0.09492802,\n",
              "        0.16269891, -0.11640154,  0.03077532,  0.14088654, -0.15513635,\n",
              "        0.09092966, -0.15948698,  0.17731978,  0.00738862,  0.02397924,\n",
              "        0.13766233, -0.01436094, -0.06716743,  0.09366084, -0.0777592 ,\n",
              "       -0.08138237,  0.00862222, -0.05909208,  0.16266435, -0.05394981,\n",
              "        0.15083634, -0.08478755, -0.18396091,  0.03632345, -0.03453082,\n",
              "       -0.03952281,  0.07410205,  0.12256429, -0.08277177, -0.06053933,\n",
              "        0.04178502,  0.08751926,  0.0171697 , -0.06803311, -0.01894144,\n",
              "        0.09041112, -0.05716477, -0.04490588, -0.0205291 ,  0.03547616,\n",
              "       -0.00965443,  0.15727765,  0.15591251,  0.02558629, -0.08874245,\n",
              "       -0.08606182, -0.02646782,  0.05600671,  0.10953074, -0.01879319,\n",
              "       -0.06338863, -0.27726006,  0.17269622,  0.1363494 , -0.09966212,\n",
              "        0.08165487, -0.03400916, -0.04047361, -0.13356055, -0.11284783,\n",
              "        0.05769383,  0.15631083,  0.05816844, -0.19606728, -0.05916642,\n",
              "        0.13732668, -0.10915294,  0.11195697, -0.05905638,  0.04335909,\n",
              "       -0.01693181, -0.18099387,  0.15876742,  0.03416833,  0.09248601,\n",
              "       -0.11354829, -0.1487093 ,  0.14475728,  0.02481024, -0.17041808,\n",
              "        0.04399721, -0.00490306,  0.15697292,  0.0061732 ,  0.22584194,\n",
              "       -0.02575929, -0.01145488, -0.09602491,  0.01967022,  0.0904285 ,\n",
              "       -0.06313762,  0.18124084,  0.12132491, -0.20479231, -0.05911442,\n",
              "        0.05384979,  0.02509832, -0.01541584, -0.091056  ,  0.03045414,\n",
              "       -0.09315123, -0.10574657,  0.13780914,  0.01712019,  0.0630802 ,\n",
              "       -0.22038764,  0.05611326,  0.04779642,  0.04435074, -0.19700908,\n",
              "        0.06659935,  0.14861839,  0.00642973,  0.18643025,  0.03142633,\n",
              "        0.1260065 ,  0.16131679, -0.03831608,  0.068894  ,  0.1194572 ,\n",
              "       -0.14588779,  0.16513404,  0.00673567,  0.11611238, -0.07649843,\n",
              "       -0.01469894, -0.07079309, -0.11510341,  0.0811103 , -0.09030539,\n",
              "        0.13772206,  0.04533358,  0.04568409, -0.00963198,  0.06028345,\n",
              "        0.23282164, -0.00754455,  0.00985491,  0.21050958,  0.02673346,\n",
              "       -0.23626695, -0.15403965, -0.18182555, -0.01453947, -0.1617169 ,\n",
              "       -0.1134265 ,  0.21490795,  0.04358437,  0.1211365 , -0.01833474,\n",
              "       -0.07048935,  0.00159234, -0.12568196,  0.02296484,  0.10050038,\n",
              "        0.07985376, -0.09782781, -0.1867215 ,  0.05763859, -0.14338735,\n",
              "       -0.05513167, -0.03254705,  0.11084619, -0.01143164,  0.04462091,\n",
              "       -0.05715522, -0.00475697,  0.18418936,  0.02353748, -0.10928752,\n",
              "       -0.0218673 ,  0.12777323,  0.05359842,  0.0143324 ,  0.13783316,\n",
              "       -0.03813202, -0.0826593 , -0.25939808, -0.06975283,  0.11790603,\n",
              "        0.07516731, -0.02217973, -0.0987595 ,  0.06109401, -0.23501767,\n",
              "        0.1354016 , -0.09482585, -0.17372588,  0.08236748,  0.05841693,\n",
              "        0.01930075,  0.06993718,  0.06625553,  0.11006393, -0.20490294,\n",
              "       -0.05439328, -0.05134174, -0.08905219, -0.07596389, -0.13542199,\n",
              "        0.1924385 ,  0.07497768,  0.14118943, -0.16288598, -0.04412039,\n",
              "       -0.18951567, -0.03767532,  0.02475249, -0.14553968, -0.01906933])"
            ]
          },
          "metadata": {},
          "execution_count": 52
        }
      ]
    },
    {
      "cell_type": "markdown",
      "metadata": {
        "id": "_h-U6ZocFEfq"
      },
      "source": [
        "### Exercise\n",
        "* Simulate a six-sided dice using numpy.random.choice(), generate a list of values you would obtain from 10 throws.\n",
        "* Simulate a two-sided coin toss that is NOT fair: it is twice as likely to have head than tails.\n"
      ]
    },
    {
      "cell_type": "code",
      "metadata": {
        "id": "QjTxRou7FEfq",
        "colab": {
          "base_uri": "https://localhost:8080/"
        },
        "outputId": "5cddfd12-7b39-451d-95bc-99b02e59bfb2"
      },
      "source": [
        "dice =  np.random.choice(7, 10)\n",
        "dice"
      ],
      "execution_count": 78,
      "outputs": [
        {
          "output_type": "execute_result",
          "data": {
            "text/plain": [
              "array([5, 3, 2, 2, 3, 2, 0, 3, 5, 4])"
            ]
          },
          "metadata": {},
          "execution_count": 78
        }
      ]
    },
    {
      "cell_type": "code",
      "metadata": {
        "colab": {
          "base_uri": "https://localhost:8080/"
        },
        "id": "QjVLfVwNEKMA",
        "outputId": "1bc67237-2dab-4b25-c84c-7b856d5de1a3"
      },
      "source": [
        "flip = np.random.choice([0,1,1], 3)\n",
        "flip"
      ],
      "execution_count": 85,
      "outputs": [
        {
          "output_type": "execute_result",
          "data": {
            "text/plain": [
              "array([1, 1, 1])"
            ]
          },
          "metadata": {},
          "execution_count": 85
        }
      ]
    }
  ]
}