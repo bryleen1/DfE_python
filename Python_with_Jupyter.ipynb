{
  "nbformat": 4,
  "nbformat_minor": 0,
  "metadata": {
    "colab": {
      "name": "Python with Jupyter",
      "provenance": [],
      "authorship_tag": "ABX9TyNv5IK+5+CHSOxVQUUlBy4l",
      "include_colab_link": true
    },
    "kernelspec": {
      "name": "python3",
      "display_name": "Python 3"
    },
    "language_info": {
      "name": "python"
    }
  },
  "cells": [
    {
      "cell_type": "markdown",
      "metadata": {
        "id": "view-in-github",
        "colab_type": "text"
      },
      "source": [
        "<a href=\"https://colab.research.google.com/github/bryleen1/DfE_python/blob/main/Python_with_Jupyter.ipynb\" target=\"_parent\"><img src=\"https://colab.research.google.com/assets/colab-badge.svg\" alt=\"Open In Colab\"/></a>"
      ]
    },
    {
      "cell_type": "markdown",
      "metadata": {
        "id": "HzyRMbCxl_xV"
      },
      "source": [
        "Data\n"
      ]
    },
    {
      "cell_type": "code",
      "metadata": {
        "colab": {
          "base_uri": "https://localhost:8080/"
        },
        "id": "_68bioDhmOqf",
        "outputId": "d3736454-43c6-4c56-81f9-bc5479f91fcf"
      },
      "source": [
        "print(5)\n",
        "print(5.0)\n",
        "print(\"5\")\n",
        "print(True)\n",
        "print([\"Lovers\", \"Haters\", \"Needers\"])"
      ],
      "execution_count": 1,
      "outputs": [
        {
          "output_type": "stream",
          "name": "stdout",
          "text": [
            "5\n",
            "5.0\n",
            "5\n",
            "True\n",
            "['Lovers', 'Haters', 'Needers']\n"
          ]
        }
      ]
    },
    {
      "cell_type": "code",
      "metadata": {
        "colab": {
          "base_uri": "https://localhost:8080/"
        },
        "id": "gdLeV6-hmf4a",
        "outputId": "b82c3420-fecf-49e5-b12f-8b0e6234cc1f"
      },
      "source": [
        "print(type(5))\n",
        "print(type(5.0))\n",
        "print(type(\"5\"))\n",
        "print(type(True))\n",
        "print(type([\"Lovers\", \"Haters\", \"Needers\"]))"
      ],
      "execution_count": 2,
      "outputs": [
        {
          "output_type": "stream",
          "name": "stdout",
          "text": [
            "<class 'int'>\n",
            "<class 'float'>\n",
            "<class 'str'>\n",
            "<class 'bool'>\n",
            "<class 'list'>\n"
          ]
        }
      ]
    },
    {
      "cell_type": "markdown",
      "metadata": {
        "id": "8y57dqb8moFn"
      },
      "source": [
        "Variables"
      ]
    },
    {
      "cell_type": "code",
      "metadata": {
        "colab": {
          "base_uri": "https://localhost:8080/"
        },
        "id": "f1C0wRjbmsIF",
        "outputId": "56bdeef3-f749-42e6-a5b1-cf5c00fbc7c8"
      },
      "source": [
        "name = 'Kofi'\n",
        "age = 41\n",
        "height = 1.82\n",
        "hobbies = [\"Artificial Intelligence\", \"Gaming\", \"Functional Medicine\"]\n",
        "is_alive = True\n",
        "\n",
        "fmesg = f\"{name} is {age} and {height * 100} cm\" # formatted string\n",
        "\n",
        "print(name, age, height)  # print with multiple args = spaced output\n",
        "print(hobbies)\n",
        "print(is_alive)\n",
        "print(fmesg)"
      ],
      "execution_count": 4,
      "outputs": [
        {
          "output_type": "stream",
          "name": "stdout",
          "text": [
            "Kofi 41 1.82\n",
            "['Artificial Intelligence', 'Gaming', 'Functional Medicine']\n",
            "True\n",
            "Kofi is 41 and 182.0 cm\n"
          ]
        }
      ]
    },
    {
      "cell_type": "code",
      "metadata": {
        "colab": {
          "base_uri": "https://localhost:8080/"
        },
        "id": "Irs1pOnNnHmg",
        "outputId": "0df59100-b5ce-4496-adfd-2435c889ea18"
      },
      "source": [
        "age += 1\n",
        "\n",
        "age   # the last line of a jupyter cell is always printed"
      ],
      "execution_count": 5,
      "outputs": [
        {
          "output_type": "execute_result",
          "data": {
            "text/plain": [
              "42"
            ]
          },
          "metadata": {},
          "execution_count": 5
        }
      ]
    },
    {
      "cell_type": "markdown",
      "metadata": {
        "id": "8oeXX6Q_nyZc"
      },
      "source": [
        "Operations"
      ]
    },
    {
      "cell_type": "code",
      "metadata": {
        "colab": {
          "base_uri": "https://localhost:8080/"
        },
        "id": "iLNiWxKTn06L",
        "outputId": "c6968f62-73e6-47b7-e0ee-82f46d23d58c"
      },
      "source": [
        "print( \"Kofi \" + \"Glover\")\n",
        "print( 2 ** 3 )    # 2 * 2 * 2 = 2^3\n",
        "print( \"-\" * 3 )\n",
        "print( \"@\" in \"kofi.glover@qa.com\")\n",
        "print( True and False )\n",
        "print( [\"Cake\", \"Cream\"] + [\"Flour\", \"Sugar\"] )\n",
        "print( 1.14 <=  2.13 )\n",
        "print(\"cake \" * 3)"
      ],
      "execution_count": 8,
      "outputs": [
        {
          "output_type": "stream",
          "name": "stdout",
          "text": [
            "Kofi Glover\n",
            "8\n",
            "---\n",
            "True\n",
            "False\n",
            "['Cake', 'Cream', 'Flour', 'Sugar']\n",
            "True\n",
            "cake cake cake \n"
          ]
        }
      ]
    },
    {
      "cell_type": "markdown",
      "metadata": {
        "id": "Cq6pc7PCpoXA"
      },
      "source": [
        "Comparing values"
      ]
    },
    {
      "cell_type": "code",
      "metadata": {
        "colab": {
          "base_uri": "https://localhost:8080/"
        },
        "id": "OYGyrD2gpqq0",
        "outputId": "12f2dad5-4000-4ace-dcbf-778c48cddc13"
      },
      "source": [
        "michael_bp = 175\n",
        "alice_bp = 175\n",
        "eve_bp = 140\n",
        "\n",
        "print(michael_bp == alice_bp)\n",
        "print(michael_bp != alice_bp)\n",
        "print(michael_bp != eve_bp)\n",
        "print(michael_bp >= eve_bp)\n"
      ],
      "execution_count": 10,
      "outputs": [
        {
          "output_type": "stream",
          "name": "stdout",
          "text": [
            "True\n",
            "False\n",
            "True\n",
            "True\n"
          ]
        }
      ]
    },
    {
      "cell_type": "code",
      "metadata": {
        "colab": {
          "base_uri": "https://localhost:8080/"
        },
        "id": "4Ys90rMssqdg",
        "outputId": "a5817ccd-ad5c-4875-a39d-46ff70b3611e"
      },
      "source": [
        "message = \"WARNING: Too High!\"\n",
        "(\"WARNING\" in message) and (michael_bp >= eve_bp)"
      ],
      "execution_count": 11,
      "outputs": [
        {
          "output_type": "execute_result",
          "data": {
            "text/plain": [
              "True"
            ]
          },
          "metadata": {},
          "execution_count": 11
        }
      ]
    },
    {
      "cell_type": "code",
      "metadata": {
        "colab": {
          "base_uri": "https://localhost:8080/"
        },
        "id": "x_yAKybMs1el",
        "outputId": "7833d29c-648b-4b54-a6ac-75d3ac81138d"
      },
      "source": [
        "safe_max = 150\n",
        "safe_min = 80\n",
        "(eve_bp < safe_max) or (michael_bp < safe_max)"
      ],
      "execution_count": 12,
      "outputs": [
        {
          "output_type": "execute_result",
          "data": {
            "text/plain": [
              "True"
            ]
          },
          "metadata": {},
          "execution_count": 12
        }
      ]
    },
    {
      "cell_type": "code",
      "metadata": {
        "colab": {
          "base_uri": "https://localhost:8080/"
        },
        "id": "oUxzzl6Ytyq6",
        "outputId": "5467a8b0-3264-4ae8-c806-1493389d6d2d"
      },
      "source": [
        "not (\"WARNING\" in message)"
      ],
      "execution_count": 13,
      "outputs": [
        {
          "output_type": "execute_result",
          "data": {
            "text/plain": [
              "False"
            ]
          },
          "metadata": {},
          "execution_count": 13
        }
      ]
    },
    {
      "cell_type": "code",
      "metadata": {
        "colab": {
          "base_uri": "https://localhost:8080/"
        },
        "id": "dJ6t-m7Tt12g",
        "outputId": "6e74d7a9-2d10-4d25-a997-46e6009b07ea"
      },
      "source": [
        "\"WARNING\" not in message"
      ],
      "execution_count": 14,
      "outputs": [
        {
          "output_type": "execute_result",
          "data": {
            "text/plain": [
              "False"
            ]
          },
          "metadata": {},
          "execution_count": 14
        }
      ]
    },
    {
      "cell_type": "code",
      "metadata": {
        "colab": {
          "base_uri": "https://localhost:8080/"
        },
        "id": "HWGnOtzjuBj2",
        "outputId": "364be738-ba9e-40b0-e368-5a68c409a76b"
      },
      "source": [
        "if (\"WARNING\" in message) and (michael_bp > safe_max):\n",
        "    print(\"GO TO HOSPITAL\")\n",
        "else:\n",
        "    print(\"STAY AT HOME\")"
      ],
      "execution_count": 15,
      "outputs": [
        {
          "output_type": "stream",
          "name": "stdout",
          "text": [
            "GO TO HOSPITAL\n"
          ]
        }
      ]
    },
    {
      "cell_type": "markdown",
      "metadata": {
        "id": "A9jMpSOQuRV-"
      },
      "source": [
        "Simple functions"
      ]
    },
    {
      "cell_type": "code",
      "metadata": {
        "colab": {
          "base_uri": "https://localhost:8080/"
        },
        "id": "3uR_thMDuTc-",
        "outputId": "f17da02f-4f1a-47ab-e3d0-1baf52c362ad"
      },
      "source": [
        "name = \"Kofi\"\n",
        "\n",
        "print(name)          # output the value of name\n",
        "print( id(name) )    # output the memory location of the value of name\n",
        "print( type(name) )  # output the type of the value of name\n",
        "print( len(name) )   # output the length of (the value of) name "
      ],
      "execution_count": 16,
      "outputs": [
        {
          "output_type": "stream",
          "name": "stdout",
          "text": [
            "Kofi\n",
            "140532830208048\n",
            "<class 'str'>\n",
            "4\n"
          ]
        }
      ]
    },
    {
      "cell_type": "markdown",
      "metadata": {
        "id": "zeSMKIgJvUTS"
      },
      "source": [
        "Objects"
      ]
    },
    {
      "cell_type": "code",
      "metadata": {
        "colab": {
          "base_uri": "https://localhost:8080/"
        },
        "id": "zv3RliTNvViP",
        "outputId": "bdcee504-7160-4e6d-d273-4c49d81d0741"
      },
      "source": [
        "# data.operation(requirements)\n",
        "# obj.method(parameters)\n",
        "# ask name to upper() itself \n",
        "# ask name if it startswith(M)\n",
        "\n",
        "print( name.upper()  )\n",
        "print( name.lower()   )\n",
        "print( name.startswith(\"K\") )\n",
        "print( name.endswith(\"K\") )\n",
        "\n",
        "# all data in python is an object\n",
        "# objects are data structures:  values (properties), types (class), id, methods"
      ],
      "execution_count": 17,
      "outputs": [
        {
          "output_type": "stream",
          "name": "stdout",
          "text": [
            "KOFI\n",
            "kofi\n",
            "True\n",
            "False\n"
          ]
        }
      ]
    },
    {
      "cell_type": "code",
      "metadata": {
        "colab": {
          "base_uri": "https://localhost:8080/"
        },
        "id": "8WtJ9bDNwutO",
        "outputId": "c5d1d110-47d0-42a3-8898-098d94c3d4e9"
      },
      "source": [
        "dir(name)[-5:] # lists the last 5 attributes & methods of the object "
      ],
      "execution_count": 18,
      "outputs": [
        {
          "output_type": "execute_result",
          "data": {
            "text/plain": [
              "['swapcase', 'title', 'translate', 'upper', 'zfill']"
            ]
          },
          "metadata": {},
          "execution_count": 18
        }
      ]
    },
    {
      "cell_type": "markdown",
      "metadata": {
        "id": "Is2YPB0YxyXp"
      },
      "source": [
        "Exercise 1"
      ]
    },
    {
      "cell_type": "code",
      "metadata": {
        "id": "Fi_O1-nRxzuV"
      },
      "source": [
        "name = 'Bryleen'\n",
        "age = 22\n",
        "location = 'Kent'\n",
        "occupation = 'Data Engineering Trainee'"
      ],
      "execution_count": 22,
      "outputs": []
    },
    {
      "cell_type": "code",
      "metadata": {
        "colab": {
          "base_uri": "https://localhost:8080/"
        },
        "id": "aKfgGEb-yPuJ",
        "outputId": "e5192e04-4193-4abe-c7a0-8f7444e14812"
      },
      "source": [
        "print(name, age, location, occupation)\n"
      ],
      "execution_count": 27,
      "outputs": [
        {
          "output_type": "stream",
          "name": "stdout",
          "text": [
            "Bryleen 22 Kent Data Engineering Trainee\n"
          ]
        }
      ]
    },
    {
      "cell_type": "code",
      "metadata": {
        "colab": {
          "base_uri": "https://localhost:8080/"
        },
        "id": "QTre1ij1zNQx",
        "outputId": "502f38ec-ea40-424f-c4ae-d060ff72b7ce"
      },
      "source": [
        "print(name.upper(), age, location.upper(), occupation.upper())"
      ],
      "execution_count": 30,
      "outputs": [
        {
          "output_type": "stream",
          "name": "stdout",
          "text": [
            "BRYLEEN 22 KENT DATA ENGINEERING TRAINEE\n"
          ]
        }
      ]
    },
    {
      "cell_type": "code",
      "metadata": {
        "colab": {
          "base_uri": "https://localhost:8080/"
        },
        "id": "lnyqQk1PzefY",
        "outputId": "227337d6-3205-42a1-ec03-da226a491c62"
      },
      "source": [
        "if age > 18:\n",
        "  print('You are over 18')\n",
        "else:\n",
        "  print('You are under 18')"
      ],
      "execution_count": 33,
      "outputs": [
        {
          "output_type": "stream",
          "name": "stdout",
          "text": [
            "You are over 18\n"
          ]
        }
      ]
    },
    {
      "cell_type": "code",
      "metadata": {
        "colab": {
          "base_uri": "https://localhost:8080/"
        },
        "id": "6Dt7r1Lh0EEy",
        "outputId": "9f669554-cabd-4fc1-d57f-3c1e8bdd5b64"
      },
      "source": [
        "print('- ' * 10)"
      ],
      "execution_count": 34,
      "outputs": [
        {
          "output_type": "stream",
          "name": "stdout",
          "text": [
            "- - - - - - - - - - \n"
          ]
        }
      ]
    },
    {
      "cell_type": "markdown",
      "metadata": {
        "id": "r1ijrSge0_fD"
      },
      "source": [
        "Defining Functions"
      ]
    },
    {
      "cell_type": "code",
      "metadata": {
        "colab": {
          "base_uri": "https://localhost:8080/"
        },
        "id": "J_6WKLYC1Dzg",
        "outputId": "2735ec39-f81a-45f3-b381-137e352c99b7"
      },
      "source": [
        "def error(pred, obv):\n",
        "    return (pred - obv) ** 2\n",
        "\n",
        "error(3, 3.3)"
      ],
      "execution_count": 35,
      "outputs": [
        {
          "output_type": "execute_result",
          "data": {
            "text/plain": [
              "0.0899999999999999"
            ]
          },
          "metadata": {},
          "execution_count": 35
        }
      ]
    },
    {
      "cell_type": "code",
      "metadata": {
        "id": "AJ0wfi3c1UFJ"
      },
      "source": [
        "def predict(age, height, parameters=(0.5, 0.5, 0)):\n",
        "    \"\"\"\n",
        "    Predict a weight (kg) from an age (yr), height (cm) and\n",
        "        parameters :\n",
        "            (age importance, height importance, base weight)\n",
        "    \"\"\"\n",
        "    # reset the scales so each goes from 0 to 1\n",
        "    age, height = age/100, height/200\n",
        "    \n",
        "    # extract the parameters for each variable\n",
        "    a, h, w = parameters\n",
        "    \n",
        "    # predict a weight\n",
        "    weight = 100 * (a * age + h * height + w)\n",
        "    \n",
        "    return round(weight, 2)"
      ],
      "execution_count": 36,
      "outputs": []
    },
    {
      "cell_type": "code",
      "metadata": {
        "colab": {
          "base_uri": "https://localhost:8080/"
        },
        "id": "bVE7ReJE2Lly",
        "outputId": "d2e3561b-2a34-4f76-87e3-1e533d220bc1"
      },
      "source": [
        "help(predict)"
      ],
      "execution_count": 37,
      "outputs": [
        {
          "output_type": "stream",
          "name": "stdout",
          "text": [
            "Help on function predict in module __main__:\n",
            "\n",
            "predict(age, height, parameters=(0.5, 0.5, 0))\n",
            "    Predict a weight (kg) from an age (yr), height (cm) and\n",
            "        parameters :\n",
            "            (age importance, height importance, base weight)\n",
            "\n"
          ]
        }
      ]
    },
    {
      "cell_type": "code",
      "metadata": {
        "colab": {
          "base_uri": "https://localhost:8080/"
        },
        "id": "ZqjrNeRi2Xy2",
        "outputId": "ea18898d-e401-400a-c7de-ae643a38e665"
      },
      "source": [
        "predict(10, 150, (0.6, 0.4, 0.2))"
      ],
      "execution_count": 38,
      "outputs": [
        {
          "output_type": "execute_result",
          "data": {
            "text/plain": [
              "56.0"
            ]
          },
          "metadata": {},
          "execution_count": 38
        }
      ]
    },
    {
      "cell_type": "code",
      "metadata": {
        "colab": {
          "base_uri": "https://localhost:8080/"
        },
        "id": "6urdoiZq2cg7",
        "outputId": "6c62b7de-7949-4f75-bb03-4ba9a64c7583"
      },
      "source": [
        "predict(10, 150) # pass arguments by position, one by default"
      ],
      "execution_count": 39,
      "outputs": [
        {
          "output_type": "execute_result",
          "data": {
            "text/plain": [
              "42.5"
            ]
          },
          "metadata": {},
          "execution_count": 39
        }
      ]
    },
    {
      "cell_type": "code",
      "metadata": {
        "colab": {
          "base_uri": "https://localhost:8080/"
        },
        "id": "Sd_pMlLd2lAX",
        "outputId": "d6b98fdd-57ed-41ac-90ad-71596ed849ef"
      },
      "source": [
        "predict(age=10, height=150) # pass by name"
      ],
      "execution_count": 40,
      "outputs": [
        {
          "output_type": "execute_result",
          "data": {
            "text/plain": [
              "42.5"
            ]
          },
          "metadata": {},
          "execution_count": 40
        }
      ]
    },
    {
      "cell_type": "code",
      "metadata": {
        "colab": {
          "base_uri": "https://localhost:8080/"
        },
        "id": "fGUZdWi42vI8",
        "outputId": "835855b8-35be-4fe9-b0bb-c4b0349d1e32"
      },
      "source": [
        "# functions = procedures\n",
        "# can also not return anything\n",
        "\n",
        "def show_results(results):\n",
        "    print(\"-\" * 10)\n",
        "    print(results)\n",
        "    print(\"-\" * 10)\n",
        "    \n",
        "show_results([12, 12, 15])   # writes to screen, but has no return value\n",
        "\n",
        "def distance(x1, x2):\n",
        "    return (x2 - x1) ** 2   # euclidean distance, aka. L2 norm\n",
        "    \n",
        "\n",
        "dist = distance(10, 12)\n",
        "print(dist * 1.1)  # calculated value can be stored in variable\n",
        "\n",
        "\n",
        "rtn = show_results([10, 12])\n",
        "\n",
        "print(type(rtn))\n",
        "print(rtn) # nothing is stored here, no return value"
      ],
      "execution_count": 41,
      "outputs": [
        {
          "output_type": "stream",
          "name": "stdout",
          "text": [
            "----------\n",
            "[12, 12, 15]\n",
            "----------\n",
            "4.4\n",
            "----------\n",
            "[10, 12]\n",
            "----------\n",
            "<class 'NoneType'>\n",
            "None\n"
          ]
        }
      ]
    },
    {
      "cell_type": "markdown",
      "metadata": {
        "id": "GQDrsrZx3Mss"
      },
      "source": [
        "Exercise 2"
      ]
    },
    {
      "cell_type": "code",
      "metadata": {
        "colab": {
          "base_uri": "https://localhost:8080/"
        },
        "id": "lFXNdcuQ3OdM",
        "outputId": "00332946-568d-4ad7-8a4a-0c6b237ecdad"
      },
      "source": [
        "def _mean(num1, num2, num3):\n",
        "  return (num1 + num2 + num3)/3\n",
        "\n",
        "_mean(5, 10, 15)\n"
      ],
      "execution_count": 45,
      "outputs": [
        {
          "output_type": "execute_result",
          "data": {
            "text/plain": [
              "10.0"
            ]
          },
          "metadata": {},
          "execution_count": 45
        }
      ]
    },
    {
      "cell_type": "code",
      "metadata": {
        "colab": {
          "base_uri": "https://localhost:8080/"
        },
        "id": "wBcB_-ua42hy",
        "outputId": "f4e83074-2bb4-4309-c0b0-6b6183016927"
      },
      "source": [
        "def cube(x):\n",
        "  return x * x * x\n",
        "\n",
        "cube(2)"
      ],
      "execution_count": 47,
      "outputs": [
        {
          "output_type": "execute_result",
          "data": {
            "text/plain": [
              "8"
            ]
          },
          "metadata": {},
          "execution_count": 47
        }
      ]
    },
    {
      "cell_type": "code",
      "metadata": {
        "colab": {
          "base_uri": "https://localhost:8080/"
        },
        "id": "woc36kJ75Pkd",
        "outputId": "07da849d-f41c-47a4-99bb-b84ecf75ed0d"
      },
      "source": [
        "def is_adult(age):\n",
        "  if age > 18:\n",
        "    print('over 18')\n",
        "  else:\n",
        "    print('under 18')\n",
        "\n",
        "is_adult(12)"
      ],
      "execution_count": 50,
      "outputs": [
        {
          "output_type": "stream",
          "name": "stdout",
          "text": [
            "under 18\n"
          ]
        }
      ]
    },
    {
      "cell_type": "code",
      "metadata": {
        "colab": {
          "base_uri": "https://localhost:8080/"
        },
        "id": "_l2LGgZa6Njj",
        "outputId": "27d2cb3a-bca2-4d54-ab91-4cd698da1f9f"
      },
      "source": [
        "def show(_mean, cube, is_adult):\n",
        "    print(\"mean:\", _mean)\n",
        "    print(\"cube:\", cube)\n",
        "    print(\"age\", is_adult)\n",
        "    \n",
        "mean_ages = _mean(18,18,20) #use your mean function to calculate mean age\n",
        "two_late = cube(2)\n",
        "teen = is_adult(15)\n",
        "\n",
        "show(mean_ages, two_late, teen)\n"
      ],
      "execution_count": 64,
      "outputs": [
        {
          "output_type": "stream",
          "name": "stdout",
          "text": [
            "under 18\n",
            "mean: 18.666666666666668\n",
            "cube: 8\n",
            "age None\n"
          ]
        }
      ]
    },
    {
      "cell_type": "markdown",
      "metadata": {
        "id": "W4WEH90f-Bog"
      },
      "source": [
        "Data structures"
      ]
    },
    {
      "cell_type": "code",
      "metadata": {
        "colab": {
          "base_uri": "https://localhost:8080/"
        },
        "id": "rlapv5vJ-EOB",
        "outputId": "da0b11c4-cf10-424f-dde6-ffc3f6087d7b"
      },
      "source": [
        "# strings\n",
        "\n",
        "quote = \"Be the change you wish to see in the world!\"\n",
        "\n",
        "print( quote[0] )   # first\n",
        "print( quote[1] )   # second\n",
        "print( quote[-2] )  # second from last\n",
        "print( quote[-1] )  # last"
      ],
      "execution_count": 65,
      "outputs": [
        {
          "output_type": "stream",
          "name": "stdout",
          "text": [
            "B\n",
            "e\n",
            "d\n",
            "!\n"
          ]
        }
      ]
    },
    {
      "cell_type": "code",
      "metadata": {
        "colab": {
          "base_uri": "https://localhost:8080/"
        },
        "id": "3ksuzw4s-KZw",
        "outputId": "bbbe6e85-af07-4a10-ca2c-fa8592e2441b"
      },
      "source": [
        "print( quote[0:2] )  # zero until postn-2"
      ],
      "execution_count": 66,
      "outputs": [
        {
          "output_type": "stream",
          "name": "stdout",
          "text": [
            "Be\n"
          ]
        }
      ]
    },
    {
      "cell_type": "code",
      "metadata": {
        "colab": {
          "base_uri": "https://localhost:8080/"
        },
        "id": "innqhYBE-Ozk",
        "outputId": "ea9f6b46-5133-47c1-b511-640871b0037c"
      },
      "source": [
        "print( quote[0:-6] ) # beginning until -6th postn"
      ],
      "execution_count": 67,
      "outputs": [
        {
          "output_type": "stream",
          "name": "stdout",
          "text": [
            "Be the change you wish to see in the \n"
          ]
        }
      ]
    },
    {
      "cell_type": "code",
      "metadata": {
        "colab": {
          "base_uri": "https://localhost:8080/"
        },
        "id": "fm57r5QW-TZH",
        "outputId": "e012ec98-d654-426d-9844-ada9c7590f6b"
      },
      "source": [
        "print( quote[0:-6]  + \" bed\" )"
      ],
      "execution_count": 68,
      "outputs": [
        {
          "output_type": "stream",
          "name": "stdout",
          "text": [
            "Be the change you wish to see in the  bed\n"
          ]
        }
      ]
    },
    {
      "cell_type": "code",
      "metadata": {
        "colab": {
          "base_uri": "https://localhost:8080/"
        },
        "id": "3TSiqfH4-X5Y",
        "outputId": "e4e21426-7a05-47da-b7c3-fdafe2045d22"
      },
      "source": [
        "print(quote[:2])    # leave off start postn = zero\n",
        "print(quote[-6:] )  # leave off end postn = end of string"
      ],
      "execution_count": 69,
      "outputs": [
        {
          "output_type": "stream",
          "name": "stdout",
          "text": [
            "Be\n",
            "world!\n"
          ]
        }
      ]
    },
    {
      "cell_type": "code",
      "metadata": {
        "colab": {
          "base_uri": "https://localhost:8080/"
        },
        "id": "qE4x3dQl-zHY",
        "outputId": "3b332099-3dfd-4f55-9775-8fa19d6b1984"
      },
      "source": [
        "# tuple\n",
        "\n",
        "point = (10, 20, 30)\n",
        "\n",
        "print( point[0] )\n",
        "print( point[1] )\n",
        "print( point[-1] )\n",
        "\n",
        "print( point[0:2] ) #slice, as with strings\n",
        "\n",
        "# point[0] = 15 # error: not allowed to overwrite\n",
        "\n",
        "# technically, () not required...\n",
        "\n",
        "address = \"OldSt\", \"London\"\n",
        "\n",
        "print(address)"
      ],
      "execution_count": 70,
      "outputs": [
        {
          "output_type": "stream",
          "name": "stdout",
          "text": [
            "10\n",
            "20\n",
            "30\n",
            "(10, 20)\n",
            "('OldSt', 'London')\n"
          ]
        }
      ]
    },
    {
      "cell_type": "code",
      "metadata": {
        "colab": {
          "base_uri": "https://localhost:8080/"
        },
        "id": "thkHv5mz-7k9",
        "outputId": "2398af31-8d98-418f-f5a5-6a78135de7eb"
      },
      "source": [
        "# lists\n",
        "# y target customer satisfaction\n",
        "# x customer features \n",
        "# (days-since-first-purchase, total-spent, nearest-store, addresss)\n",
        "#  \n",
        "\n",
        "x = [300, 1000, \"London\", (\"Old Street\", \"London\")]\n",
        "\n",
        "print(x)\n",
        "print(len(x))\n",
        "\n",
        "print(x[-1])\n",
        "print(len(x[-1]))"
      ],
      "execution_count": 71,
      "outputs": [
        {
          "output_type": "stream",
          "name": "stdout",
          "text": [
            "[300, 1000, 'London', ('Old Street', 'London')]\n",
            "4\n",
            "('Old Street', 'London')\n",
            "2\n"
          ]
        }
      ]
    },
    {
      "cell_type": "code",
      "metadata": {
        "colab": {
          "base_uri": "https://localhost:8080/"
        },
        "id": "BskW7E_Y_RHv",
        "outputId": "60a97e97-964e-4d9e-80aa-1061abaddfd4"
      },
      "source": [
        "x.append(1)\n",
        "x"
      ],
      "execution_count": 72,
      "outputs": [
        {
          "output_type": "execute_result",
          "data": {
            "text/plain": [
              "[300, 1000, 'London', ('Old Street', 'London'), 1]"
            ]
          },
          "metadata": {},
          "execution_count": 72
        }
      ]
    },
    {
      "cell_type": "code",
      "metadata": {
        "colab": {
          "base_uri": "https://localhost:8080/"
        },
        "id": "BSkH-hai_TWS",
        "outputId": "8cf9c4d2-3e5f-4310-ae66-a3cee67320f9"
      },
      "source": [
        "x.pop()"
      ],
      "execution_count": 73,
      "outputs": [
        {
          "output_type": "execute_result",
          "data": {
            "text/plain": [
              "1"
            ]
          },
          "metadata": {},
          "execution_count": 73
        }
      ]
    },
    {
      "cell_type": "code",
      "metadata": {
        "colab": {
          "base_uri": "https://localhost:8080/"
        },
        "id": "D6al5njZ_fiI",
        "outputId": "d28029b4-8c4c-45b2-9e01-755fbec301f2"
      },
      "source": [
        "print(x)\n",
        "x.insert(0, 1) # insert at postn 0, the element 1\n",
        "\n",
        "print(x)"
      ],
      "execution_count": 74,
      "outputs": [
        {
          "output_type": "stream",
          "name": "stdout",
          "text": [
            "[300, 1000, 'London', ('Old Street', 'London')]\n",
            "[1, 300, 1000, 'London', ('Old Street', 'London')]\n"
          ]
        }
      ]
    },
    {
      "cell_type": "markdown",
      "metadata": {
        "id": "z3hZImlZ_jIp"
      },
      "source": [
        "Lists in functions"
      ]
    },
    {
      "cell_type": "code",
      "metadata": {
        "id": "XbQqDcVU_mcU"
      },
      "source": [
        "def error(y_pred, y, i):\n",
        "    return (y_pred - y[i]) ** 2"
      ],
      "execution_count": 75,
      "outputs": []
    },
    {
      "cell_type": "code",
      "metadata": {
        "colab": {
          "base_uri": "https://localhost:8080/"
        },
        "id": "1YO2aQ7Y_qdx",
        "outputId": "79dc9de5-3335-4e82-8f3f-7a219cb3c2b6"
      },
      "source": [
        "y = [2, 3, 5, 8]\n",
        "guess = 2.2\n",
        "\n",
        "error(guess, y, 1)   #   (2.2 - 3) ** 2"
      ],
      "execution_count": 76,
      "outputs": [
        {
          "output_type": "execute_result",
          "data": {
            "text/plain": [
              "0.6399999999999997"
            ]
          },
          "metadata": {},
          "execution_count": 76
        }
      ]
    },
    {
      "cell_type": "markdown",
      "metadata": {
        "id": "X9NHC9B7_8wL"
      },
      "source": [
        "Exercise 3"
      ]
    },
    {
      "cell_type": "code",
      "metadata": {
        "colab": {
          "base_uri": "https://localhost:8080/"
        },
        "id": "AYkSvAWH_-GE",
        "outputId": "7fba0459-c607-4eb0-e417-a982e890cac3"
      },
      "source": [
        "cart = ['apples', 'bananas', 'pears', 'oranges']\n",
        "print(cart[0])\n",
        "print(cart[-1])\n",
        "print(cart[1:3])"
      ],
      "execution_count": 79,
      "outputs": [
        {
          "output_type": "stream",
          "name": "stdout",
          "text": [
            "apples\n",
            "oranges\n",
            "['bananas', 'pears']\n"
          ]
        }
      ]
    },
    {
      "cell_type": "code",
      "metadata": {
        "colab": {
          "base_uri": "https://localhost:8080/"
        },
        "id": "7cq0xbydBdtC",
        "outputId": "76a15a84-be21-44e4-8956-e3aa0ddc756e"
      },
      "source": [
        "cart"
      ],
      "execution_count": 90,
      "outputs": [
        {
          "output_type": "execute_result",
          "data": {
            "text/plain": [
              "['watermelon',\n",
              " 'watermelon',\n",
              " 'watermelon',\n",
              " 'watermelon',\n",
              " 'apples',\n",
              " 'bananas',\n",
              " 'pears',\n",
              " 'oranges',\n",
              " 'oranges']"
            ]
          },
          "metadata": {},
          "execution_count": 90
        }
      ]
    },
    {
      "cell_type": "markdown",
      "metadata": {
        "id": "XiXTbfm9Osu3"
      },
      "source": [
        "Dictionaries"
      ]
    },
    {
      "cell_type": "code",
      "metadata": {
        "colab": {
          "base_uri": "https://localhost:8080/"
        },
        "id": "ZeCF1_YOOu57",
        "outputId": "fc14a41a-10e8-487d-92fe-df82bb97c88d"
      },
      "source": [
        "user = {\n",
        "    \"name\": \"kofi\",\n",
        "    \"age\": 41,\n",
        "    \"location\": \"uk\"\n",
        "}\n",
        "\n",
        "print(user[\"name\"])     # use string keys to look up value rather than int index\n",
        "print(user[\"age\"])\n",
        "print(user[\"location\"])"
      ],
      "execution_count": 91,
      "outputs": [
        {
          "output_type": "stream",
          "name": "stdout",
          "text": [
            "kofi\n",
            "41\n",
            "uk\n"
          ]
        }
      ]
    },
    {
      "cell_type": "code",
      "metadata": {
        "colab": {
          "base_uri": "https://localhost:8080/",
          "height": 35
        },
        "id": "iQxn-m7fO-MN",
        "outputId": "ca6683a7-c559-40c9-884c-97ceb480e034"
      },
      "source": [
        "# data science example: labelling for Fraud|NotFraud\n",
        "# dict keys can be lots of diff. thigns, not just strings...\n",
        "# but must be unique!\n",
        "# key = (age, days-since-purchase-of-insurance)  \n",
        "user = {\n",
        "    (18, 13) : \"Fraud\",\n",
        "    (60, 300) : \"NotFraud\"\n",
        "}\n",
        "\n",
        "user[(18, 13)]"
      ],
      "execution_count": 92,
      "outputs": [
        {
          "output_type": "execute_result",
          "data": {
            "application/vnd.google.colaboratory.intrinsic+json": {
              "type": "string"
            },
            "text/plain": [
              "'Fraud'"
            ]
          },
          "metadata": {},
          "execution_count": 92
        }
      ]
    },
    {
      "cell_type": "code",
      "metadata": {
        "colab": {
          "base_uri": "https://localhost:8080/"
        },
        "id": "Nyt34hwoPPe1",
        "outputId": "ef32e1cd-0591-4a13-cf90-9aa8ee0136ea"
      },
      "source": [
        "# dictionaries more commonly are more like matrices...\n",
        "users = {\n",
        "    \"age-at-purchase\": [18, 60],\n",
        "    \"days-from-purcahse\": [13, 300]\n",
        "}\n",
        "\n",
        "ages = users['age-at-purchase']\n",
        "\n",
        "sum(ages)/len(ages)"
      ],
      "execution_count": 93,
      "outputs": [
        {
          "output_type": "execute_result",
          "data": {
            "text/plain": [
              "39.0"
            ]
          },
          "metadata": {},
          "execution_count": 93
        }
      ]
    },
    {
      "cell_type": "markdown",
      "metadata": {
        "id": "78x-9bbPPbyg"
      },
      "source": [
        "Control flow"
      ]
    },
    {
      "cell_type": "code",
      "metadata": {
        "colab": {
          "base_uri": "https://localhost:8080/"
        },
        "id": "GqVeIPx9Pea0",
        "outputId": "795f3d17-bcf2-495c-b1ca-d6a6599bdf2c"
      },
      "source": [
        "user_age = 18\n",
        "\n",
        "if user_age > 65:                      # colons\n",
        "    print(\"See Retirement Plans\")      # indentation\n",
        "elif user_age > 21:                    # keyword, elif\n",
        "    print(\"See Vocation Plans\")\n",
        "elif user_age > 13:\n",
        "    print(\"See Education Plans\")\n",
        "else:\n",
        "    print(\"See your mother!\")"
      ],
      "execution_count": 94,
      "outputs": [
        {
          "output_type": "stream",
          "name": "stdout",
          "text": [
            "See Education Plans\n"
          ]
        }
      ]
    },
    {
      "cell_type": "code",
      "metadata": {
        "colab": {
          "base_uri": "https://localhost:8080/"
        },
        "id": "HgzK0WGEPrYc",
        "outputId": "32bae369-83d2-43af-f243-433496c5e77b"
      },
      "source": [
        "# while loops are rare, usually bad -- repeating\n",
        "\n",
        "ratings = [5,5,6,7,8,1]\n",
        "\n",
        "while len(ratings) > 0:\n",
        "    print(ratings.pop())    # remove last one\n",
        "\n",
        "ratings"
      ],
      "execution_count": 2,
      "outputs": [
        {
          "output_type": "stream",
          "name": "stdout",
          "text": [
            "1\n",
            "8\n",
            "7\n",
            "6\n",
            "5\n",
            "5\n"
          ]
        },
        {
          "output_type": "execute_result",
          "data": {
            "text/plain": [
              "[]"
            ]
          },
          "metadata": {},
          "execution_count": 2
        }
      ]
    },
    {
      "cell_type": "code",
      "metadata": {
        "colab": {
          "base_uri": "https://localhost:8080/"
        },
        "id": "tQEvb23MBJKz",
        "outputId": "77966599-d4e7-4d75-a284-c239d3b35a91"
      },
      "source": [
        "ratings = [5,5,6,7,8,1]\n",
        "\n",
        "for element in ratings:      # for name-of-each-element  in source-data-input\n",
        "    print(element)           # algorithm for processing each-element\n",
        "    \n",
        "ratings"
      ],
      "execution_count": 3,
      "outputs": [
        {
          "output_type": "stream",
          "name": "stdout",
          "text": [
            "5\n",
            "5\n",
            "6\n",
            "7\n",
            "8\n",
            "1\n"
          ]
        },
        {
          "output_type": "execute_result",
          "data": {
            "text/plain": [
              "[5, 5, 6, 7, 8, 1]"
            ]
          },
          "metadata": {},
          "execution_count": 3
        }
      ]
    },
    {
      "cell_type": "markdown",
      "metadata": {
        "id": "B6wWZIagBmZH"
      },
      "source": [
        "Exercise \n",
        "\n",
        "Your goal in this exercise is to simualte tracking health data for a user, and provide them with a custom health warning message if there are any issues with their health data."
      ]
    },
    {
      "cell_type": "markdown",
      "metadata": {
        "id": "XKN-8wlNCLG4"
      },
      "source": [
        "Part 1\n",
        "\n",
        "Ask the user for a single HR and BP reading.\n",
        "\n",
        "Report a warning based on where both of these values fall.\n",
        "\n",
        "bad signs\n",
        "\n",
        "HR > 200\n",
        "\n",
        "BP > 200\n",
        "\n",
        "HR > 150, BP > 170\n"
      ]
    },
    {
      "cell_type": "code",
      "metadata": {
        "colab": {
          "base_uri": "https://localhost:8080/"
        },
        "id": "i-IgbC9kCT0p",
        "outputId": "c5b98144-2cb3-4d78-92e0-41e7c9efca88"
      },
      "source": [
        "BP = int(input('BP?'))\n",
        "HR = int(input('HR?'))\n",
        "\n",
        "if HR > 200 or BP  > 200:\n",
        "  print('Value is too high')\n",
        "elif HR > 150 and BP > 170:\n",
        "  print('WARNING: HR and BP is too high')\n",
        "elif HR < 60 or BP < 90:\n",
        "  print('Value is too low')\n",
        "else:\n",
        "  print('Healthy levels')"
      ],
      "execution_count": 13,
      "outputs": [
        {
          "output_type": "stream",
          "name": "stdout",
          "text": [
            "BP?230\n",
            "HR?250\n",
            "Value is too high\n"
          ]
        }
      ]
    },
    {
      "cell_type": "markdown",
      "metadata": {
        "id": "NBmNHeJiHKm7"
      },
      "source": [
        "# **Part 2**\n",
        "\n",
        "Ask the user how they are feeling. Offer the user some advice on their mental health.\n",
        "\n",
        "bad signs:\n",
        "\n",
        "does the response contain \"sad\"\n",
        "\n",
        "does it end with \"!?\"\n",
        "\n",
        "good signs:\n",
        "\n",
        "does it contain \"happy\"\n",
        "\n",
        "does it end with \"!\""
      ]
    },
    {
      "cell_type": "code",
      "metadata": {
        "colab": {
          "base_uri": "https://localhost:8080/"
        },
        "id": "m_nZwLowHiKu",
        "outputId": "45ee9015-68cf-4ef4-e959-0aa548a9c973"
      },
      "source": [
        "response = input(str('How are you feeling?'))\n",
        "\n",
        "if 'sad' in response or response.endswith('!?'):\n",
        "  print('Listen to upbeat music!')\n",
        "elif \"happy\" in response or response.endswith('!'):\n",
        "  print('Keep it up!')\n",
        "else:\n",
        "  print('Unable to offer advice')\n"
      ],
      "execution_count": 30,
      "outputs": [
        {
          "output_type": "stream",
          "name": "stdout",
          "text": [
            "How are you feeling?I am so happy!?\n",
            "Listen to upbeat music!\n"
          ]
        }
      ]
    },
    {
      "cell_type": "markdown",
      "metadata": {
        "id": "e0C1nEGtL0Ue"
      },
      "source": [
        "## Analysing Datasets with for"
      ]
    },
    {
      "cell_type": "markdown",
      "metadata": {
        "id": "UAL5DvslMf89"
      },
      "source": [
        "# How do I loop over multiple collections?\n",
        "When using a **for loop** you can only loop over one dataset.\n",
        "\n",
        "However, you can combine multiple datasets into one, using **zip()**.\n",
        "\n",
        "The zip() function returns a zip object, which is an iterator of tuples where the first item in each passed iterator is paired together, and then the second item in each passed iterator are paired together etc."
      ]
    },
    {
      "cell_type": "code",
      "metadata": {
        "id": "2kKOMLF4MyHG"
      },
      "source": [
        "hrs = [60, 70, 80]\n",
        "bps = [100, 200, 250]"
      ],
      "execution_count": 35,
      "outputs": []
    },
    {
      "cell_type": "code",
      "metadata": {
        "colab": {
          "base_uri": "https://localhost:8080/"
        },
        "id": "knx3IrC_M8PF",
        "outputId": "de543349-4586-4abd-df96-fa37906e4b14"
      },
      "source": [
        "bundled = list(zip(hrs, bps)) #zip only works on elements with pairs. No pairs -> not elements not included in lists\n",
        "bundled"
      ],
      "execution_count": 36,
      "outputs": [
        {
          "output_type": "execute_result",
          "data": {
            "text/plain": [
              "[(60, 100), (70, 200), (80, 250)]"
            ]
          },
          "metadata": {},
          "execution_count": 36
        }
      ]
    },
    {
      "cell_type": "code",
      "metadata": {
        "colab": {
          "base_uri": "https://localhost:8080/"
        },
        "id": "jawShpPXNaUC",
        "outputId": "dac83001-b3c4-4052-aa46-ce58da12c1ec"
      },
      "source": [
        "for hr, bp in zip(hrs, bps):   # could have put in bundled\n",
        "    print(hr, bp)"
      ],
      "execution_count": 39,
      "outputs": [
        {
          "output_type": "stream",
          "name": "stdout",
          "text": [
            "60 100\n",
            "70 200\n",
            "80 250\n"
          ]
        }
      ]
    },
    {
      "cell_type": "code",
      "metadata": {
        "colab": {
          "base_uri": "https://localhost:8080/"
        },
        "id": "dEdNFi5sN3Q4",
        "outputId": "6412acaa-81ea-4e2f-8e64-d5e5e6c0989f"
      },
      "source": [
        "for hr, bp in zip(hrs, bps):\n",
        "    print(\"We measured: \", hr, \"bpm\")\n",
        "    print(\"We measured: \", bp, \"mmHg\")\n",
        "    \n",
        "    if (hr > 200) or (bp > 200):\n",
        "        print(\"WARNING\")\n",
        "    else:\n",
        "        print(\"OK\")\n",
        "        \n",
        "    print() # prints an empty line"
      ],
      "execution_count": 40,
      "outputs": [
        {
          "output_type": "stream",
          "name": "stdout",
          "text": [
            "We measured:  60 bpm\n",
            "We measured:  100 mmHg\n",
            "OK\n",
            "\n",
            "We measured:  70 bpm\n",
            "We measured:  200 mmHg\n",
            "OK\n",
            "\n",
            "We measured:  80 bpm\n",
            "We measured:  250 mmHg\n",
            "WARNING\n",
            "\n"
          ]
        }
      ]
    },
    {
      "cell_type": "markdown",
      "metadata": {
        "id": "_ExMKeTJObEV"
      },
      "source": [
        "# How do I loop over a range of numbers?\n",
        "range will produce numbers in the range START to END seperated by STEP:\n",
        "\n",
        "range( START, END, STEP)\n",
        "\n",
        "start Optional. An integer number specifying at which position to start. Default is 0\n",
        "\n",
        "stop Required. An integer number specifying at which position to stop (not included).\n",
        "\n",
        "step Optional. An integer number specifying the incrementation. Default is 1"
      ]
    },
    {
      "cell_type": "code",
      "metadata": {
        "colab": {
          "base_uri": "https://localhost:8080/"
        },
        "id": "YVllztNzOyRl",
        "outputId": "2e829ef7-4c84-49aa-be82-478bb6127ebe"
      },
      "source": [
        "list(range(0, 100, 20))"
      ],
      "execution_count": 41,
      "outputs": [
        {
          "output_type": "execute_result",
          "data": {
            "text/plain": [
              "[0, 20, 40, 60, 80]"
            ]
          },
          "metadata": {},
          "execution_count": 41
        }
      ]
    },
    {
      "cell_type": "code",
      "metadata": {
        "colab": {
          "base_uri": "https://localhost:8080/"
        },
        "id": "AxxV-o1vO6Sx",
        "outputId": "2754bce3-4aab-44a8-d402-6adfd06d8fe8"
      },
      "source": [
        "for i in range(0, 100, 20):\n",
        "    print(i)"
      ],
      "execution_count": 42,
      "outputs": [
        {
          "output_type": "stream",
          "name": "stdout",
          "text": [
            "0\n",
            "20\n",
            "40\n",
            "60\n",
            "80\n"
          ]
        }
      ]
    },
    {
      "cell_type": "code",
      "metadata": {
        "colab": {
          "base_uri": "https://localhost:8080/"
        },
        "id": "jDcJ263lPMSa",
        "outputId": "fc3919f8-f5d9-4b56-c8b0-f7347e8d9455"
      },
      "source": [
        "predicted_hr = []\n",
        "\n",
        "for hr in range(60, 180, 10):\n",
        "    predicted_hr.append(0.9 * hr + 1)\n",
        "    \n",
        "predicted_hr"
      ],
      "execution_count": 43,
      "outputs": [
        {
          "output_type": "execute_result",
          "data": {
            "text/plain": [
              "[55.0, 64.0, 73.0, 82.0, 91.0, 100.0, 109.0, 118.0, 127.0, 136.0, 145.0, 154.0]"
            ]
          },
          "metadata": {},
          "execution_count": 43
        }
      ]
    },
    {
      "cell_type": "markdown",
      "metadata": {
        "id": "8v4veatDPT1n"
      },
      "source": [
        "# How do I loop with an index?\n",
        "The enumerate() function takes a collection (e.g. a tuple) and returns it as an enumerate object.\n",
        "\n",
        "The enumerate() function adds a counter as the key of the enumerate object.\n",
        "\n",
        "Syntax: enumerate(iterable, start)\n",
        "\n",
        "Parameters:\n",
        "\n",
        "iterable: An iterable object\n",
        "\n",
        "start: A Number. Defining the start number of the enumerate object. Default 0"
      ]
    },
    {
      "cell_type": "code",
      "metadata": {
        "id": "Hn8HKAkaQCZ5"
      },
      "source": [
        "hr_readings = [70,50,60,80]"
      ],
      "execution_count": 44,
      "outputs": []
    },
    {
      "cell_type": "code",
      "metadata": {
        "colab": {
          "base_uri": "https://localhost:8080/"
        },
        "id": "VIydA-DBQI-h",
        "outputId": "57f5c748-957d-40ea-c76d-b9580174ea86"
      },
      "source": [
        "for hr in hr_readings:\n",
        "    print(hr)"
      ],
      "execution_count": 45,
      "outputs": [
        {
          "output_type": "stream",
          "name": "stdout",
          "text": [
            "70\n",
            "50\n",
            "60\n",
            "80\n"
          ]
        }
      ]
    },
    {
      "cell_type": "code",
      "metadata": {
        "colab": {
          "base_uri": "https://localhost:8080/"
        },
        "id": "3ni9_Vm6QMi9",
        "outputId": "d34d2a13-b3b4-4376-be57-c7e2a40b609e"
      },
      "source": [
        "for i, hr in enumerate(hr_readings):\n",
        "    print(f\"Reading {i + 1} was {hr} bpm\")"
      ],
      "execution_count": 46,
      "outputs": [
        {
          "output_type": "stream",
          "name": "stdout",
          "text": [
            "Reading 1 was 70 bpm\n",
            "Reading 2 was 50 bpm\n",
            "Reading 3 was 60 bpm\n",
            "Reading 4 was 80 bpm\n"
          ]
        }
      ]
    },
    {
      "cell_type": "markdown",
      "metadata": {
        "id": "YHtCyuIQQui9"
      },
      "source": [
        "# What more should I be aware of with looping in python?\n",
        "\n",
        "The basic for loop can do almost everything you need. But, as above, helpers like zip(), range(), enumerate() exist to make looping easier.\n",
        "\n",
        "There is also:\n",
        "\n",
        "sorted()\n",
        "\n",
        "reversed()\n",
        "\n",
        "...\n",
        "\n",
        "For this course we are aiming to basic looping patterns, but these are worth further study.\n",
        "\n"
      ]
    },
    {
      "cell_type": "markdown",
      "metadata": {
        "id": "ty4RmQZsRGWR"
      },
      "source": [
        "**Type conversions**"
      ]
    },
    {
      "cell_type": "code",
      "metadata": {
        "colab": {
          "base_uri": "https://localhost:8080/"
        },
        "id": "eGxw0QzoRJHs",
        "outputId": "b0ac1a45-1ff7-45c8-aac2-a97259edb9e2"
      },
      "source": [
        "# iterators -- like data structures, but whole data not stored...\n",
        "\n",
        "ten = range(0, 10)\n",
        "\n",
        "print(ten)"
      ],
      "execution_count": 47,
      "outputs": [
        {
          "output_type": "stream",
          "name": "stdout",
          "text": [
            "range(0, 10)\n"
          ]
        }
      ]
    },
    {
      "cell_type": "code",
      "metadata": {
        "colab": {
          "base_uri": "https://localhost:8080/"
        },
        "id": "b4e7q12vSUGa",
        "outputId": "310de981-949e-43e2-fede-a3e2682b7235"
      },
      "source": [
        "for i in ten:      # the range gives a number each go around\n",
        "    print(i)"
      ],
      "execution_count": 48,
      "outputs": [
        {
          "output_type": "stream",
          "name": "stdout",
          "text": [
            "0\n",
            "1\n",
            "2\n",
            "3\n",
            "4\n",
            "5\n",
            "6\n",
            "7\n",
            "8\n",
            "9\n"
          ]
        }
      ]
    },
    {
      "cell_type": "code",
      "metadata": {
        "colab": {
          "base_uri": "https://localhost:8080/"
        },
        "id": "HanM8xydSYRx",
        "outputId": "79448292-7c9b-458f-a3b8-a4d1e56c2eb1"
      },
      "source": [
        "numbers = list(ten) # collects all data from ten into list, which stores all in memory\n",
        "\n",
        "numbers"
      ],
      "execution_count": 49,
      "outputs": [
        {
          "output_type": "execute_result",
          "data": {
            "text/plain": [
              "[0, 1, 2, 3, 4, 5, 6, 7, 8, 9]"
            ]
          },
          "metadata": {},
          "execution_count": 49
        }
      ]
    },
    {
      "cell_type": "code",
      "metadata": {
        "colab": {
          "base_uri": "https://localhost:8080/",
          "height": 200
        },
        "id": "_fmBcmbTSd-N",
        "outputId": "fff9ecd2-213b-4f64-e21a-00a9cbce52c2"
      },
      "source": [
        "age = \"18\"\n",
        "\n",
        "age < 20"
      ],
      "execution_count": 50,
      "outputs": [
        {
          "output_type": "error",
          "ename": "TypeError",
          "evalue": "ignored",
          "traceback": [
            "\u001b[0;31m---------------------------------------------------------------------------\u001b[0m",
            "\u001b[0;31mTypeError\u001b[0m                                 Traceback (most recent call last)",
            "\u001b[0;32m<ipython-input-50-387956351189>\u001b[0m in \u001b[0;36m<module>\u001b[0;34m()\u001b[0m\n\u001b[1;32m      1\u001b[0m \u001b[0mage\u001b[0m \u001b[0;34m=\u001b[0m \u001b[0;34m\"18\"\u001b[0m\u001b[0;34m\u001b[0m\u001b[0;34m\u001b[0m\u001b[0m\n\u001b[1;32m      2\u001b[0m \u001b[0;34m\u001b[0m\u001b[0m\n\u001b[0;32m----> 3\u001b[0;31m \u001b[0mage\u001b[0m \u001b[0;34m<\u001b[0m \u001b[0;36m20\u001b[0m\u001b[0;34m\u001b[0m\u001b[0;34m\u001b[0m\u001b[0m\n\u001b[0m",
            "\u001b[0;31mTypeError\u001b[0m: '<' not supported between instances of 'str' and 'int'"
          ]
        }
      ]
    },
    {
      "cell_type": "code",
      "metadata": {
        "colab": {
          "base_uri": "https://localhost:8080/"
        },
        "id": "92ugfy1xSziZ",
        "outputId": "c0da0a2c-b0ed-45a2-cd23-9295a77d6c49"
      },
      "source": [
        "int(age) < 20"
      ],
      "execution_count": 51,
      "outputs": [
        {
          "output_type": "execute_result",
          "data": {
            "text/plain": [
              "True"
            ]
          },
          "metadata": {},
          "execution_count": 51
        }
      ]
    },
    {
      "cell_type": "code",
      "metadata": {
        "colab": {
          "base_uri": "https://localhost:8080/",
          "height": 35
        },
        "id": "UB9BNOQHS3JY",
        "outputId": "8bf22e15-cf15-4f39-b0da-4f69754abff0"
      },
      "source": [
        "str(5) * 2  # \"5\" * 2. Doesn't do the maths -> str"
      ],
      "execution_count": 52,
      "outputs": [
        {
          "output_type": "execute_result",
          "data": {
            "application/vnd.google.colaboratory.intrinsic+json": {
              "type": "string"
            },
            "text/plain": [
              "'55'"
            ]
          },
          "metadata": {},
          "execution_count": 52
        }
      ]
    },
    {
      "cell_type": "code",
      "metadata": {
        "colab": {
          "base_uri": "https://localhost:8080/"
        },
        "id": "-0JdYgENTCKY",
        "outputId": "12cca559-d989-402c-db45-cfcc6a893658"
      },
      "source": [
        "dict( [ (\"name\", \"Michael\"), (\"age\", 29 )])"
      ],
      "execution_count": 53,
      "outputs": [
        {
          "output_type": "execute_result",
          "data": {
            "text/plain": [
              "{'age': 29, 'name': 'Michael'}"
            ]
          },
          "metadata": {},
          "execution_count": 53
        }
      ]
    }
  ]
}