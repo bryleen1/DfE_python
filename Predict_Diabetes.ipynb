{
  "nbformat": 4,
  "nbformat_minor": 0,
  "metadata": {
    "colab": {
      "name": "Predict_Diabetes.ipynb",
      "provenance": [],
      "authorship_tag": "ABX9TyNJu+zTq3EnTOzVT1KMmF5H",
      "include_colab_link": true
    },
    "kernelspec": {
      "name": "python3",
      "display_name": "Python 3"
    },
    "language_info": {
      "name": "python"
    }
  },
  "cells": [
    {
      "cell_type": "markdown",
      "metadata": {
        "id": "view-in-github",
        "colab_type": "text"
      },
      "source": [
        "<a href=\"https://colab.research.google.com/github/bryleen1/DfE_python/blob/main/Predict_Diabetes.ipynb\" target=\"_parent\"><img src=\"https://colab.research.google.com/assets/colab-badge.svg\" alt=\"Open In Colab\"/></a>"
      ]
    },
    {
      "cell_type": "code",
      "metadata": {
        "colab": {
          "base_uri": "https://localhost:8080/"
        },
        "id": "oQ1mZxpW_qD9",
        "outputId": "087d3be2-cc52-4956-baac-c20aac422533"
      },
      "source": [
        "import urllib.request\n",
        "import json\n",
        "import os\n",
        "import ssl\n",
        "\n",
        "def allowSelfSignedHttps(allowed):\n",
        "    # bypass the server certificate verification on client side\n",
        "    if allowed and not os.environ.get('PYTHONHTTPSVERIFY', '') and getattr(ssl, '_create_unverified_context', None):\n",
        "        ssl._create_default_https_context = ssl._create_unverified_context\n",
        "\n",
        "allowSelfSignedHttps(True) # this line is needed if you use self-signed certificate in your scoring service.\n",
        "\n",
        "# Request data goes here\n",
        "data = {\n",
        "    \"Inputs\": {\n",
        "        \"WebServiceInput0\":\n",
        "        [\n",
        "            {\n",
        "                'PatientID': \"1354778\",\n",
        "                'Pregnancies': \"0\",\n",
        "                'PlasmaGlucose': \"171\",\n",
        "                'DiastolicBloodPressure': \"80\",\n",
        "                'TricepsThickness': \"34\",\n",
        "                'SerumInsulin': \"23\",\n",
        "                'BMI': \"43.50972593\",\n",
        "                'DiabetesPedigree': \"1.213191354\",\n",
        "                'Age': \"21\",\n",
        "                'Diabetic': \"0\",\n",
        "            },\n",
        "        ],\n",
        "    },\n",
        "    \"GlobalParameters\": {\n",
        "    }\n",
        "}\n",
        "\n",
        "body = str.encode(json.dumps(data))\n",
        "\n",
        "url = 'http://1c100b3e-6dca-4677-bb8e-05b5fdc1063e.eastus.azurecontainer.io/score'\n",
        "api_key = 'SBu017ytwMwkbyK9b8qjCUhCxyDn1owH' # Replace this with the API key for the web service\n",
        "headers = {'Content-Type':'application/json', 'Authorization':('Bearer '+ api_key)}\n",
        "\n",
        "req = urllib.request.Request(url, body, headers)\n",
        "\n",
        "try:\n",
        "    response = urllib.request.urlopen(req)\n",
        "\n",
        "    result = response.read()\n",
        "    print(result)\n",
        "except urllib.error.HTTPError as error:\n",
        "    print(\"The request failed with status code: \" + str(error.code))\n",
        "\n",
        "    # Print the headers - they include the requert ID and the timestamp, which are useful for debugging the failure\n",
        "    print(error.info())\n",
        "    print(json.loads(error.read().decode(\"utf8\", 'ignore')))"
      ],
      "execution_count": 1,
      "outputs": [
        {
          "output_type": "stream",
          "name": "stdout",
          "text": [
            "b'{\"Results\": {\"WebServiceOutput0\": [{\"PatientID\": 1354778.0, \"Pregnancies\": 0.0, \"PlasmaGlucose\": 1.978419756576528, \"DiastolicBloodPressure\": 0.5233432145905896, \"TricepsThickness\": 0.3572650974660305, \"SerumInsulin\": -0.8689730948078677, \"BMI\": 1.218161555749926, \"DiabetesPedigree\": 2.129401551452751, \"Age\": 21.0, \"Diabetic\": 0.0, \"Scored Labels\": 0.0, \"Scored Probabilities\": 0.3392964827531061}]}}'\n"
          ]
        }
      ]
    }
  ]
}