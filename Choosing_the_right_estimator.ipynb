{
  "nbformat": 4,
  "nbformat_minor": 0,
  "metadata": {
    "kernelspec": {
      "display_name": "Python 3",
      "language": "python",
      "name": "python3"
    },
    "language_info": {
      "codemirror_mode": {
        "name": "ipython",
        "version": 3
      },
      "file_extension": ".py",
      "mimetype": "text/x-python",
      "name": "python",
      "nbconvert_exporter": "python",
      "pygments_lexer": "ipython3",
      "version": "3.7.4"
    },
    "colab": {
      "name": "Choosing the right estimator.ipynb",
      "provenance": [],
      "collapsed_sections": [],
      "include_colab_link": true
    }
  },
  "cells": [
    {
      "cell_type": "markdown",
      "metadata": {
        "id": "view-in-github",
        "colab_type": "text"
      },
      "source": [
        "<a href=\"https://colab.research.google.com/github/bryleen1/DfE_python/blob/main/Choosing_the_right_estimator.ipynb\" target=\"_parent\"><img src=\"https://colab.research.google.com/assets/colab-badge.svg\" alt=\"Open In Colab\"/></a>"
      ]
    },
    {
      "cell_type": "markdown",
      "metadata": {
        "id": "jsSNkHySnn6b"
      },
      "source": [
        "# Practical Machine Learning \n",
        "### Project: Model Selection"
      ]
    },
    {
      "cell_type": "markdown",
      "metadata": {
        "id": "cF436G-ynn6h"
      },
      "source": [
        "# Abstract"
      ]
    },
    {
      "cell_type": "markdown",
      "metadata": {
        "id": "jo-8Mq1Dnn6i"
      },
      "source": [
        "# Part 1: Business and Data Understanding"
      ]
    },
    {
      "cell_type": "markdown",
      "metadata": {
        "id": "U-AWjUypnn6j"
      },
      "source": [
        "### Q. Define the problem domain"
      ]
    },
    {
      "cell_type": "code",
      "metadata": {
        "colab": {
          "base_uri": "https://localhost:8080/",
          "height": 363
        },
        "id": "qF0iMKmdnn6k",
        "outputId": "5866b76f-9e18-431f-894f-be493cc5acc9"
      },
      "source": [
        "import pandas as pd\n",
        "data = pd.read_csv('diabetes.csv')\n",
        "data.head(10)"
      ],
      "execution_count": null,
      "outputs": [
        {
          "output_type": "execute_result",
          "data": {
            "text/html": [
              "<div>\n",
              "<style scoped>\n",
              "    .dataframe tbody tr th:only-of-type {\n",
              "        vertical-align: middle;\n",
              "    }\n",
              "\n",
              "    .dataframe tbody tr th {\n",
              "        vertical-align: top;\n",
              "    }\n",
              "\n",
              "    .dataframe thead th {\n",
              "        text-align: right;\n",
              "    }\n",
              "</style>\n",
              "<table border=\"1\" class=\"dataframe\">\n",
              "  <thead>\n",
              "    <tr style=\"text-align: right;\">\n",
              "      <th></th>\n",
              "      <th>Pregnancies</th>\n",
              "      <th>Glucose</th>\n",
              "      <th>BloodPressure</th>\n",
              "      <th>SkinThickness</th>\n",
              "      <th>Insulin</th>\n",
              "      <th>BMI</th>\n",
              "      <th>DiabetesPedigreeFunction</th>\n",
              "      <th>Age</th>\n",
              "      <th>Outcome</th>\n",
              "    </tr>\n",
              "  </thead>\n",
              "  <tbody>\n",
              "    <tr>\n",
              "      <th>0</th>\n",
              "      <td>6</td>\n",
              "      <td>148</td>\n",
              "      <td>72</td>\n",
              "      <td>35</td>\n",
              "      <td>0</td>\n",
              "      <td>33.6</td>\n",
              "      <td>0.627</td>\n",
              "      <td>50</td>\n",
              "      <td>1</td>\n",
              "    </tr>\n",
              "    <tr>\n",
              "      <th>1</th>\n",
              "      <td>1</td>\n",
              "      <td>85</td>\n",
              "      <td>66</td>\n",
              "      <td>29</td>\n",
              "      <td>0</td>\n",
              "      <td>26.6</td>\n",
              "      <td>0.351</td>\n",
              "      <td>31</td>\n",
              "      <td>0</td>\n",
              "    </tr>\n",
              "    <tr>\n",
              "      <th>2</th>\n",
              "      <td>8</td>\n",
              "      <td>183</td>\n",
              "      <td>64</td>\n",
              "      <td>0</td>\n",
              "      <td>0</td>\n",
              "      <td>23.3</td>\n",
              "      <td>0.672</td>\n",
              "      <td>32</td>\n",
              "      <td>1</td>\n",
              "    </tr>\n",
              "    <tr>\n",
              "      <th>3</th>\n",
              "      <td>1</td>\n",
              "      <td>89</td>\n",
              "      <td>66</td>\n",
              "      <td>23</td>\n",
              "      <td>94</td>\n",
              "      <td>28.1</td>\n",
              "      <td>0.167</td>\n",
              "      <td>21</td>\n",
              "      <td>0</td>\n",
              "    </tr>\n",
              "    <tr>\n",
              "      <th>4</th>\n",
              "      <td>0</td>\n",
              "      <td>137</td>\n",
              "      <td>40</td>\n",
              "      <td>35</td>\n",
              "      <td>168</td>\n",
              "      <td>43.1</td>\n",
              "      <td>2.288</td>\n",
              "      <td>33</td>\n",
              "      <td>1</td>\n",
              "    </tr>\n",
              "    <tr>\n",
              "      <th>5</th>\n",
              "      <td>5</td>\n",
              "      <td>116</td>\n",
              "      <td>74</td>\n",
              "      <td>0</td>\n",
              "      <td>0</td>\n",
              "      <td>25.6</td>\n",
              "      <td>0.201</td>\n",
              "      <td>30</td>\n",
              "      <td>0</td>\n",
              "    </tr>\n",
              "    <tr>\n",
              "      <th>6</th>\n",
              "      <td>3</td>\n",
              "      <td>78</td>\n",
              "      <td>50</td>\n",
              "      <td>32</td>\n",
              "      <td>88</td>\n",
              "      <td>31.0</td>\n",
              "      <td>0.248</td>\n",
              "      <td>26</td>\n",
              "      <td>1</td>\n",
              "    </tr>\n",
              "    <tr>\n",
              "      <th>7</th>\n",
              "      <td>10</td>\n",
              "      <td>115</td>\n",
              "      <td>0</td>\n",
              "      <td>0</td>\n",
              "      <td>0</td>\n",
              "      <td>35.3</td>\n",
              "      <td>0.134</td>\n",
              "      <td>29</td>\n",
              "      <td>0</td>\n",
              "    </tr>\n",
              "    <tr>\n",
              "      <th>8</th>\n",
              "      <td>2</td>\n",
              "      <td>197</td>\n",
              "      <td>70</td>\n",
              "      <td>45</td>\n",
              "      <td>543</td>\n",
              "      <td>30.5</td>\n",
              "      <td>0.158</td>\n",
              "      <td>53</td>\n",
              "      <td>1</td>\n",
              "    </tr>\n",
              "    <tr>\n",
              "      <th>9</th>\n",
              "      <td>8</td>\n",
              "      <td>125</td>\n",
              "      <td>96</td>\n",
              "      <td>0</td>\n",
              "      <td>0</td>\n",
              "      <td>0.0</td>\n",
              "      <td>0.232</td>\n",
              "      <td>54</td>\n",
              "      <td>1</td>\n",
              "    </tr>\n",
              "  </tbody>\n",
              "</table>\n",
              "</div>"
            ],
            "text/plain": [
              "   Pregnancies  Glucose  BloodPressure  ...  DiabetesPedigreeFunction  Age  Outcome\n",
              "0            6      148             72  ...                     0.627   50        1\n",
              "1            1       85             66  ...                     0.351   31        0\n",
              "2            8      183             64  ...                     0.672   32        1\n",
              "3            1       89             66  ...                     0.167   21        0\n",
              "4            0      137             40  ...                     2.288   33        1\n",
              "5            5      116             74  ...                     0.201   30        0\n",
              "6            3       78             50  ...                     0.248   26        1\n",
              "7           10      115              0  ...                     0.134   29        0\n",
              "8            2      197             70  ...                     0.158   53        1\n",
              "9            8      125             96  ...                     0.232   54        1\n",
              "\n",
              "[10 rows x 9 columns]"
            ]
          },
          "metadata": {},
          "execution_count": 10
        }
      ]
    },
    {
      "cell_type": "markdown",
      "metadata": {
        "id": "L_51qjZW1dgs"
      },
      "source": [
        "The diabetes.csv dataset contains 9 columns, with 768 rows, which are: Pregnacies, Glucose, BloodPressure, SkinThickness, Insulin, BMI, DiabetesPedigreeFunction, Age and Outcome . All the columns contain continous values except for the Outcome column which has discrete values. The purpose of this machine learning model is to predict a patient's BMI.\n",
        "\n",
        "The machine learning model aims to fit the equation y = w1 * Pregancies + w2 * Glucose + w3 * BloodPressure + w4 * SkinThickness + w5 * Insulin + w6 * BMI + w7 * DiabtesPedigreeFunction + w8 * Age + w9 * Outcome + bias. "
      ]
    },
    {
      "cell_type": "markdown",
      "metadata": {
        "id": "jWAtqeKBnn6l"
      },
      "source": [
        "### Q. Identify candidate questions for your machine learning project"
      ]
    },
    {
      "cell_type": "markdown",
      "metadata": {
        "id": "I0kx-TnCEfka"
      },
      "source": [
        "Problem statement: Given the parameters of a patient's records, what is the patient's predicted BMI?"
      ]
    },
    {
      "cell_type": "markdown",
      "metadata": {
        "id": "7bWRWgzLnn6m"
      },
      "source": [
        "### Q. Dataset registration on Azure"
      ]
    },
    {
      "cell_type": "code",
      "metadata": {
        "colab": {
          "base_uri": "https://localhost:8080/",
          "height": 1000
        },
        "id": "rI43qq3D-svD",
        "outputId": "10f1fb06-5d1d-4f96-ddc2-e55832a8eace"
      },
      "source": [
        "# register dataset in azure\n",
        "# azureml-core of version 1.0.72 or higher is required\n",
        "# azureml-dataprep[pandas] of version 1.1.34 or higher is required\n",
        "!pip install azureml-core\n",
        "!pip install azureml-dataset-runtime \n",
        "from azureml.core import Workspace, Dataset\n",
        "\n",
        "subscription_id = 'f6b7bbb7-706a-4f0d-8727-56ac48cdafa0'\n",
        "resource_group = 'ML_project'\n",
        "workspace_name = 'Dfe_project'\n",
        "\n",
        "workspace = Workspace(subscription_id, resource_group, workspace_name)\n",
        "\n",
        "dataset = Dataset.get_by_name(workspace, name='diabetes dataset')\n",
        "dataset.to_pandas_dataframe()\n",
        "data1 = dataset.to_pandas_dataframe()\n",
        "data1.head()"
      ],
      "execution_count": null,
      "outputs": [
        {
          "output_type": "stream",
          "name": "stdout",
          "text": [
            "Requirement already satisfied: azureml-core in /usr/local/lib/python3.7/dist-packages (1.36.0.post2)\n",
            "Requirement already satisfied: azure-mgmt-containerregistry>=2.0.0 in /usr/local/lib/python3.7/dist-packages (from azureml-core) (8.2.0)\n",
            "Requirement already satisfied: msrest<1.0.0,>=0.5.1 in /usr/local/lib/python3.7/dist-packages (from azureml-core) (0.6.21)\n",
            "Requirement already satisfied: azure-mgmt-authorization<1.0.0,>=0.40.0 in /usr/local/lib/python3.7/dist-packages (from azureml-core) (0.61.0)\n",
            "Requirement already satisfied: ndg-httpsclient<=0.5.1 in /usr/local/lib/python3.7/dist-packages (from azureml-core) (0.5.1)\n",
            "Requirement already satisfied: jsonpickle<3.0.0 in /usr/local/lib/python3.7/dist-packages (from azureml-core) (2.0.0)\n",
            "Requirement already satisfied: azure-mgmt-storage<16.0.0,>=1.5.0 in /usr/local/lib/python3.7/dist-packages (from azureml-core) (11.2.0)\n",
            "Requirement already satisfied: contextlib2<22.0.0 in /usr/local/lib/python3.7/dist-packages (from azureml-core) (0.5.5)\n",
            "Requirement already satisfied: PyJWT<3.0.0 in /usr/local/lib/python3.7/dist-packages (from azureml-core) (2.3.0)\n",
            "Requirement already satisfied: azure-mgmt-resource<15.0.0,>=1.2.1 in /usr/local/lib/python3.7/dist-packages (from azureml-core) (13.0.0)\n",
            "Requirement already satisfied: azure-common<2.0.0,>=1.1.12 in /usr/local/lib/python3.7/dist-packages (from azureml-core) (1.1.27)\n",
            "Requirement already satisfied: azure-graphrbac<1.0.0,>=0.40.0 in /usr/local/lib/python3.7/dist-packages (from azureml-core) (0.61.1)\n",
            "Requirement already satisfied: requests<3.0.0,>=2.19.1 in /usr/local/lib/python3.7/dist-packages (from azureml-core) (2.23.0)\n",
            "Requirement already satisfied: urllib3<=1.26.7,>=1.23 in /usr/local/lib/python3.7/dist-packages (from azureml-core) (1.24.3)\n",
            "Requirement already satisfied: docker<6.0.0 in /usr/local/lib/python3.7/dist-packages (from azureml-core) (5.0.3)\n",
            "Requirement already satisfied: backports.tempfile in /usr/local/lib/python3.7/dist-packages (from azureml-core) (1.0)\n",
            "Requirement already satisfied: pyopenssl<21.0.0 in /usr/local/lib/python3.7/dist-packages (from azureml-core) (20.0.1)\n",
            "Requirement already satisfied: msrestazure<=0.6.4,>=0.4.33 in /usr/local/lib/python3.7/dist-packages (from azureml-core) (0.6.4)\n",
            "Requirement already satisfied: adal<=1.2.7,>=1.2.0 in /usr/local/lib/python3.7/dist-packages (from azureml-core) (1.2.7)\n",
            "Requirement already satisfied: azure-mgmt-keyvault<10.0.0,>=0.40.0 in /usr/local/lib/python3.7/dist-packages (from azureml-core) (9.3.0)\n",
            "Requirement already satisfied: cryptography!=1.9,!=2.0.*,!=2.1.*,!=2.2.*,<4.0.0 in /usr/local/lib/python3.7/dist-packages (from azureml-core) (3.4.8)\n",
            "Requirement already satisfied: python-dateutil<3.0.0,>=2.7.3 in /usr/local/lib/python3.7/dist-packages (from azureml-core) (2.8.2)\n",
            "Requirement already satisfied: jmespath<1.0.0 in /usr/local/lib/python3.7/dist-packages (from azureml-core) (0.10.0)\n",
            "Requirement already satisfied: pytz in /usr/local/lib/python3.7/dist-packages (from azureml-core) (2018.9)\n",
            "Requirement already satisfied: SecretStorage<4.0.0 in /usr/local/lib/python3.7/dist-packages (from azureml-core) (3.3.1)\n",
            "Requirement already satisfied: pathspec<1.0.0 in /usr/local/lib/python3.7/dist-packages (from azureml-core) (0.9.0)\n",
            "Requirement already satisfied: azure-mgmt-core<2.0.0,>=1.2.0 in /usr/local/lib/python3.7/dist-packages (from azure-mgmt-containerregistry>=2.0.0->azureml-core) (1.3.0)\n",
            "Requirement already satisfied: azure-core<2.0.0,>=1.15.0 in /usr/local/lib/python3.7/dist-packages (from azure-mgmt-core<2.0.0,>=1.2.0->azure-mgmt-containerregistry>=2.0.0->azureml-core) (1.21.0)\n",
            "Requirement already satisfied: six>=1.11.0 in /usr/local/lib/python3.7/dist-packages (from azure-core<2.0.0,>=1.15.0->azure-mgmt-core<2.0.0,>=1.2.0->azure-mgmt-containerregistry>=2.0.0->azureml-core) (1.15.0)\n",
            "Requirement already satisfied: cffi>=1.12 in /usr/local/lib/python3.7/dist-packages (from cryptography!=1.9,!=2.0.*,!=2.1.*,!=2.2.*,<4.0.0->azureml-core) (1.15.0)\n",
            "Requirement already satisfied: pycparser in /usr/local/lib/python3.7/dist-packages (from cffi>=1.12->cryptography!=1.9,!=2.0.*,!=2.1.*,!=2.2.*,<4.0.0->azureml-core) (2.21)\n",
            "Requirement already satisfied: websocket-client>=0.32.0 in /usr/local/lib/python3.7/dist-packages (from docker<6.0.0->azureml-core) (1.2.1)\n",
            "Requirement already satisfied: importlib-metadata in /usr/local/lib/python3.7/dist-packages (from jsonpickle<3.0.0->azureml-core) (4.8.2)\n",
            "Requirement already satisfied: requests-oauthlib>=0.5.0 in /usr/local/lib/python3.7/dist-packages (from msrest<1.0.0,>=0.5.1->azureml-core) (1.3.0)\n",
            "Requirement already satisfied: certifi>=2017.4.17 in /usr/local/lib/python3.7/dist-packages (from msrest<1.0.0,>=0.5.1->azureml-core) (2021.10.8)\n",
            "Requirement already satisfied: isodate>=0.6.0 in /usr/local/lib/python3.7/dist-packages (from msrest<1.0.0,>=0.5.1->azureml-core) (0.6.0)\n",
            "Requirement already satisfied: pyasn1>=0.1.1 in /usr/local/lib/python3.7/dist-packages (from ndg-httpsclient<=0.5.1->azureml-core) (0.4.8)\n",
            "Requirement already satisfied: idna<3,>=2.5 in /usr/local/lib/python3.7/dist-packages (from requests<3.0.0,>=2.19.1->azureml-core) (2.10)\n",
            "Requirement already satisfied: chardet<4,>=3.0.2 in /usr/local/lib/python3.7/dist-packages (from requests<3.0.0,>=2.19.1->azureml-core) (3.0.4)\n",
            "Requirement already satisfied: oauthlib>=3.0.0 in /usr/local/lib/python3.7/dist-packages (from requests-oauthlib>=0.5.0->msrest<1.0.0,>=0.5.1->azureml-core) (3.1.1)\n",
            "Requirement already satisfied: jeepney>=0.6 in /usr/local/lib/python3.7/dist-packages (from SecretStorage<4.0.0->azureml-core) (0.7.1)\n",
            "Requirement already satisfied: backports.weakref in /usr/local/lib/python3.7/dist-packages (from backports.tempfile->azureml-core) (1.0.post1)\n",
            "Requirement already satisfied: typing-extensions>=3.6.4 in /usr/local/lib/python3.7/dist-packages (from importlib-metadata->jsonpickle<3.0.0->azureml-core) (3.10.0.2)\n",
            "Requirement already satisfied: zipp>=0.5 in /usr/local/lib/python3.7/dist-packages (from importlib-metadata->jsonpickle<3.0.0->azureml-core) (3.6.0)\n",
            "Requirement already satisfied: azureml-dataset-runtime in /usr/local/lib/python3.7/dist-packages (1.36.0)\n",
            "Requirement already satisfied: numpy!=1.19.3 in /usr/local/lib/python3.7/dist-packages (from azureml-dataset-runtime) (1.19.5)\n",
            "Requirement already satisfied: pyarrow<4.0.0,>=0.17.0 in /usr/local/lib/python3.7/dist-packages (from azureml-dataset-runtime) (3.0.0)\n",
            "Requirement already satisfied: azureml-dataprep<2.25.0a,>=2.24.0a in /usr/local/lib/python3.7/dist-packages (from azureml-dataset-runtime) (2.24.4)\n",
            "Requirement already satisfied: dotnetcore2<3.0.0,>=2.1.14 in /usr/local/lib/python3.7/dist-packages (from azureml-dataprep<2.25.0a,>=2.24.0a->azureml-dataset-runtime) (2.1.21)\n",
            "Requirement already satisfied: azureml-dataprep-native<39.0.0,>=38.0.0 in /usr/local/lib/python3.7/dist-packages (from azureml-dataprep<2.25.0a,>=2.24.0a->azureml-dataset-runtime) (38.0.0)\n",
            "Requirement already satisfied: azureml-dataprep-rslex~=2.0.0dev0 in /usr/local/lib/python3.7/dist-packages (from azureml-dataprep<2.25.0a,>=2.24.0a->azureml-dataset-runtime) (2.0.3)\n",
            "Requirement already satisfied: cloudpickle<2.0.0,>=1.1.0 in /usr/local/lib/python3.7/dist-packages (from azureml-dataprep<2.25.0a,>=2.24.0a->azureml-dataset-runtime) (1.3.0)\n",
            "Requirement already satisfied: azure-identity==1.7.0 in /usr/local/lib/python3.7/dist-packages (from azureml-dataprep<2.25.0a,>=2.24.0a->azureml-dataset-runtime) (1.7.0)\n",
            "Requirement already satisfied: msal<2.0.0,>=1.12.0 in /usr/local/lib/python3.7/dist-packages (from azure-identity==1.7.0->azureml-dataprep<2.25.0a,>=2.24.0a->azureml-dataset-runtime) (1.16.0)\n",
            "Requirement already satisfied: cryptography>=2.5 in /usr/local/lib/python3.7/dist-packages (from azure-identity==1.7.0->azureml-dataprep<2.25.0a,>=2.24.0a->azureml-dataset-runtime) (3.4.8)\n",
            "Requirement already satisfied: azure-core<2.0.0,>=1.11.0 in /usr/local/lib/python3.7/dist-packages (from azure-identity==1.7.0->azureml-dataprep<2.25.0a,>=2.24.0a->azureml-dataset-runtime) (1.21.0)\n",
            "Requirement already satisfied: six>=1.12.0 in /usr/local/lib/python3.7/dist-packages (from azure-identity==1.7.0->azureml-dataprep<2.25.0a,>=2.24.0a->azureml-dataset-runtime) (1.15.0)\n",
            "Requirement already satisfied: msal-extensions~=0.3.0 in /usr/local/lib/python3.7/dist-packages (from azure-identity==1.7.0->azureml-dataprep<2.25.0a,>=2.24.0a->azureml-dataset-runtime) (0.3.0)\n",
            "Requirement already satisfied: requests>=2.18.4 in /usr/local/lib/python3.7/dist-packages (from azure-core<2.0.0,>=1.11.0->azure-identity==1.7.0->azureml-dataprep<2.25.0a,>=2.24.0a->azureml-dataset-runtime) (2.23.0)\n",
            "Requirement already satisfied: cffi>=1.12 in /usr/local/lib/python3.7/dist-packages (from cryptography>=2.5->azure-identity==1.7.0->azureml-dataprep<2.25.0a,>=2.24.0a->azureml-dataset-runtime) (1.15.0)\n",
            "Requirement already satisfied: pycparser in /usr/local/lib/python3.7/dist-packages (from cffi>=1.12->cryptography>=2.5->azure-identity==1.7.0->azureml-dataprep<2.25.0a,>=2.24.0a->azureml-dataset-runtime) (2.21)\n",
            "Requirement already satisfied: distro>=1.2.0 in /usr/local/lib/python3.7/dist-packages (from dotnetcore2<3.0.0,>=2.1.14->azureml-dataprep<2.25.0a,>=2.24.0a->azureml-dataset-runtime) (1.6.0)\n",
            "Requirement already satisfied: PyJWT[crypto]<3,>=1.0.0 in /usr/local/lib/python3.7/dist-packages (from msal<2.0.0,>=1.12.0->azure-identity==1.7.0->azureml-dataprep<2.25.0a,>=2.24.0a->azureml-dataset-runtime) (2.3.0)\n",
            "Requirement already satisfied: portalocker~=1.0 in /usr/local/lib/python3.7/dist-packages (from msal-extensions~=0.3.0->azure-identity==1.7.0->azureml-dataprep<2.25.0a,>=2.24.0a->azureml-dataset-runtime) (1.7.1)\n",
            "Requirement already satisfied: chardet<4,>=3.0.2 in /usr/local/lib/python3.7/dist-packages (from requests>=2.18.4->azure-core<2.0.0,>=1.11.0->azure-identity==1.7.0->azureml-dataprep<2.25.0a,>=2.24.0a->azureml-dataset-runtime) (3.0.4)\n",
            "Requirement already satisfied: urllib3!=1.25.0,!=1.25.1,<1.26,>=1.21.1 in /usr/local/lib/python3.7/dist-packages (from requests>=2.18.4->azure-core<2.0.0,>=1.11.0->azure-identity==1.7.0->azureml-dataprep<2.25.0a,>=2.24.0a->azureml-dataset-runtime) (1.24.3)\n",
            "Requirement already satisfied: idna<3,>=2.5 in /usr/local/lib/python3.7/dist-packages (from requests>=2.18.4->azure-core<2.0.0,>=1.11.0->azure-identity==1.7.0->azureml-dataprep<2.25.0a,>=2.24.0a->azureml-dataset-runtime) (2.10)\n",
            "Requirement already satisfied: certifi>=2017.4.17 in /usr/local/lib/python3.7/dist-packages (from requests>=2.18.4->azure-core<2.0.0,>=1.11.0->azure-identity==1.7.0->azureml-dataprep<2.25.0a,>=2.24.0a->azureml-dataset-runtime) (2021.10.8)\n"
          ]
        },
        {
          "output_type": "execute_result",
          "data": {
            "text/html": [
              "<div>\n",
              "<style scoped>\n",
              "    .dataframe tbody tr th:only-of-type {\n",
              "        vertical-align: middle;\n",
              "    }\n",
              "\n",
              "    .dataframe tbody tr th {\n",
              "        vertical-align: top;\n",
              "    }\n",
              "\n",
              "    .dataframe thead th {\n",
              "        text-align: right;\n",
              "    }\n",
              "</style>\n",
              "<table border=\"1\" class=\"dataframe\">\n",
              "  <thead>\n",
              "    <tr style=\"text-align: right;\">\n",
              "      <th></th>\n",
              "      <th>Pregnancies</th>\n",
              "      <th>Glucose</th>\n",
              "      <th>BloodPressure</th>\n",
              "      <th>SkinThickness</th>\n",
              "      <th>Insulin</th>\n",
              "      <th>BMI</th>\n",
              "      <th>DiabetesPedigreeFunction</th>\n",
              "      <th>Age</th>\n",
              "      <th>Outcome</th>\n",
              "    </tr>\n",
              "  </thead>\n",
              "  <tbody>\n",
              "    <tr>\n",
              "      <th>0</th>\n",
              "      <td>6</td>\n",
              "      <td>148</td>\n",
              "      <td>72</td>\n",
              "      <td>35</td>\n",
              "      <td>0</td>\n",
              "      <td>33.6</td>\n",
              "      <td>0.627</td>\n",
              "      <td>50</td>\n",
              "      <td>1</td>\n",
              "    </tr>\n",
              "    <tr>\n",
              "      <th>1</th>\n",
              "      <td>1</td>\n",
              "      <td>85</td>\n",
              "      <td>66</td>\n",
              "      <td>29</td>\n",
              "      <td>0</td>\n",
              "      <td>26.6</td>\n",
              "      <td>0.351</td>\n",
              "      <td>31</td>\n",
              "      <td>0</td>\n",
              "    </tr>\n",
              "    <tr>\n",
              "      <th>2</th>\n",
              "      <td>8</td>\n",
              "      <td>183</td>\n",
              "      <td>64</td>\n",
              "      <td>0</td>\n",
              "      <td>0</td>\n",
              "      <td>23.3</td>\n",
              "      <td>0.672</td>\n",
              "      <td>32</td>\n",
              "      <td>1</td>\n",
              "    </tr>\n",
              "    <tr>\n",
              "      <th>3</th>\n",
              "      <td>1</td>\n",
              "      <td>89</td>\n",
              "      <td>66</td>\n",
              "      <td>23</td>\n",
              "      <td>94</td>\n",
              "      <td>28.1</td>\n",
              "      <td>0.167</td>\n",
              "      <td>21</td>\n",
              "      <td>0</td>\n",
              "    </tr>\n",
              "    <tr>\n",
              "      <th>4</th>\n",
              "      <td>0</td>\n",
              "      <td>137</td>\n",
              "      <td>40</td>\n",
              "      <td>35</td>\n",
              "      <td>168</td>\n",
              "      <td>43.1</td>\n",
              "      <td>2.288</td>\n",
              "      <td>33</td>\n",
              "      <td>1</td>\n",
              "    </tr>\n",
              "  </tbody>\n",
              "</table>\n",
              "</div>"
            ],
            "text/plain": [
              "   Pregnancies  Glucose  BloodPressure  ...  DiabetesPedigreeFunction  Age  Outcome\n",
              "0            6      148             72  ...                     0.627   50        1\n",
              "1            1       85             66  ...                     0.351   31        0\n",
              "2            8      183             64  ...                     0.672   32        1\n",
              "3            1       89             66  ...                     0.167   21        0\n",
              "4            0      137             40  ...                     2.288   33        1\n",
              "\n",
              "[5 rows x 9 columns]"
            ]
          },
          "metadata": {},
          "execution_count": 1
        }
      ]
    },
    {
      "cell_type": "code",
      "metadata": {
        "id": "aIKvqPOznn6o"
      },
      "source": [
        ""
      ],
      "execution_count": null,
      "outputs": []
    },
    {
      "cell_type": "markdown",
      "metadata": {
        "id": "BgqsCUsFnn6p"
      },
      "source": [
        "### Q. Generate a descriptive statistics report for the columns in your dataset"
      ]
    },
    {
      "cell_type": "code",
      "metadata": {
        "colab": {
          "base_uri": "https://localhost:8080/",
          "height": 300
        },
        "id": "Yi2vrSjPnn6p",
        "outputId": "31c567bd-0049-4a3a-dadf-5c5368adbbf2"
      },
      "source": [
        "data1.describe()"
      ],
      "execution_count": null,
      "outputs": [
        {
          "output_type": "execute_result",
          "data": {
            "text/html": [
              "<div>\n",
              "<style scoped>\n",
              "    .dataframe tbody tr th:only-of-type {\n",
              "        vertical-align: middle;\n",
              "    }\n",
              "\n",
              "    .dataframe tbody tr th {\n",
              "        vertical-align: top;\n",
              "    }\n",
              "\n",
              "    .dataframe thead th {\n",
              "        text-align: right;\n",
              "    }\n",
              "</style>\n",
              "<table border=\"1\" class=\"dataframe\">\n",
              "  <thead>\n",
              "    <tr style=\"text-align: right;\">\n",
              "      <th></th>\n",
              "      <th>Pregnancies</th>\n",
              "      <th>Glucose</th>\n",
              "      <th>BloodPressure</th>\n",
              "      <th>SkinThickness</th>\n",
              "      <th>Insulin</th>\n",
              "      <th>BMI</th>\n",
              "      <th>DiabetesPedigreeFunction</th>\n",
              "      <th>Age</th>\n",
              "      <th>Outcome</th>\n",
              "    </tr>\n",
              "  </thead>\n",
              "  <tbody>\n",
              "    <tr>\n",
              "      <th>count</th>\n",
              "      <td>768.000000</td>\n",
              "      <td>768.000000</td>\n",
              "      <td>768.000000</td>\n",
              "      <td>768.000000</td>\n",
              "      <td>768.000000</td>\n",
              "      <td>768.000000</td>\n",
              "      <td>768.000000</td>\n",
              "      <td>768.000000</td>\n",
              "      <td>768.000000</td>\n",
              "    </tr>\n",
              "    <tr>\n",
              "      <th>mean</th>\n",
              "      <td>3.845052</td>\n",
              "      <td>120.894531</td>\n",
              "      <td>69.105469</td>\n",
              "      <td>20.536458</td>\n",
              "      <td>79.799479</td>\n",
              "      <td>31.992578</td>\n",
              "      <td>0.471876</td>\n",
              "      <td>33.240885</td>\n",
              "      <td>0.348958</td>\n",
              "    </tr>\n",
              "    <tr>\n",
              "      <th>std</th>\n",
              "      <td>3.369578</td>\n",
              "      <td>31.972618</td>\n",
              "      <td>19.355807</td>\n",
              "      <td>15.952218</td>\n",
              "      <td>115.244002</td>\n",
              "      <td>7.884160</td>\n",
              "      <td>0.331329</td>\n",
              "      <td>11.760232</td>\n",
              "      <td>0.476951</td>\n",
              "    </tr>\n",
              "    <tr>\n",
              "      <th>min</th>\n",
              "      <td>0.000000</td>\n",
              "      <td>0.000000</td>\n",
              "      <td>0.000000</td>\n",
              "      <td>0.000000</td>\n",
              "      <td>0.000000</td>\n",
              "      <td>0.000000</td>\n",
              "      <td>0.078000</td>\n",
              "      <td>21.000000</td>\n",
              "      <td>0.000000</td>\n",
              "    </tr>\n",
              "    <tr>\n",
              "      <th>25%</th>\n",
              "      <td>1.000000</td>\n",
              "      <td>99.000000</td>\n",
              "      <td>62.000000</td>\n",
              "      <td>0.000000</td>\n",
              "      <td>0.000000</td>\n",
              "      <td>27.300000</td>\n",
              "      <td>0.243750</td>\n",
              "      <td>24.000000</td>\n",
              "      <td>0.000000</td>\n",
              "    </tr>\n",
              "    <tr>\n",
              "      <th>50%</th>\n",
              "      <td>3.000000</td>\n",
              "      <td>117.000000</td>\n",
              "      <td>72.000000</td>\n",
              "      <td>23.000000</td>\n",
              "      <td>30.500000</td>\n",
              "      <td>32.000000</td>\n",
              "      <td>0.372500</td>\n",
              "      <td>29.000000</td>\n",
              "      <td>0.000000</td>\n",
              "    </tr>\n",
              "    <tr>\n",
              "      <th>75%</th>\n",
              "      <td>6.000000</td>\n",
              "      <td>140.250000</td>\n",
              "      <td>80.000000</td>\n",
              "      <td>32.000000</td>\n",
              "      <td>127.250000</td>\n",
              "      <td>36.600000</td>\n",
              "      <td>0.626250</td>\n",
              "      <td>41.000000</td>\n",
              "      <td>1.000000</td>\n",
              "    </tr>\n",
              "    <tr>\n",
              "      <th>max</th>\n",
              "      <td>17.000000</td>\n",
              "      <td>199.000000</td>\n",
              "      <td>122.000000</td>\n",
              "      <td>99.000000</td>\n",
              "      <td>846.000000</td>\n",
              "      <td>67.100000</td>\n",
              "      <td>2.420000</td>\n",
              "      <td>81.000000</td>\n",
              "      <td>1.000000</td>\n",
              "    </tr>\n",
              "  </tbody>\n",
              "</table>\n",
              "</div>"
            ],
            "text/plain": [
              "       Pregnancies     Glucose  ...         Age     Outcome\n",
              "count   768.000000  768.000000  ...  768.000000  768.000000\n",
              "mean      3.845052  120.894531  ...   33.240885    0.348958\n",
              "std       3.369578   31.972618  ...   11.760232    0.476951\n",
              "min       0.000000    0.000000  ...   21.000000    0.000000\n",
              "25%       1.000000   99.000000  ...   24.000000    0.000000\n",
              "50%       3.000000  117.000000  ...   29.000000    0.000000\n",
              "75%       6.000000  140.250000  ...   41.000000    1.000000\n",
              "max      17.000000  199.000000  ...   81.000000    1.000000\n",
              "\n",
              "[8 rows x 9 columns]"
            ]
          },
          "metadata": {},
          "execution_count": 2
        }
      ]
    },
    {
      "cell_type": "code",
      "metadata": {
        "colab": {
          "base_uri": "https://localhost:8080/"
        },
        "id": "od8XFKmKDfbR",
        "outputId": "601b795c-7ef1-4c4b-e2ef-5dade59319d2"
      },
      "source": [
        "for col_name in data1.columns:\n",
        "  unique_values = data1[col_name].value_counts()\n",
        "  unique_values_counted = unique_values.count()\n",
        "  print(col_name + ' : ' + str(unique_values_counted) )  #results show that discrete values are only on the Outcome column"
      ],
      "execution_count": null,
      "outputs": [
        {
          "output_type": "stream",
          "name": "stdout",
          "text": [
            "Pregnancies : 17\n",
            "Glucose : 136\n",
            "BloodPressure : 47\n",
            "SkinThickness : 51\n",
            "Insulin : 186\n",
            "BMI : 248\n",
            "DiabetesPedigreeFunction : 517\n",
            "Age : 52\n",
            "Outcome : 2\n"
          ]
        }
      ]
    },
    {
      "cell_type": "code",
      "metadata": {
        "colab": {
          "base_uri": "https://localhost:8080/",
          "height": 332
        },
        "id": "YTPWdUBZEA2i",
        "outputId": "ec72d74e-5495-478a-fcae-cdd876e317ec"
      },
      "source": [
        "correlations = data1.corr()\n",
        "correlations"
      ],
      "execution_count": null,
      "outputs": [
        {
          "output_type": "execute_result",
          "data": {
            "text/html": [
              "<div>\n",
              "<style scoped>\n",
              "    .dataframe tbody tr th:only-of-type {\n",
              "        vertical-align: middle;\n",
              "    }\n",
              "\n",
              "    .dataframe tbody tr th {\n",
              "        vertical-align: top;\n",
              "    }\n",
              "\n",
              "    .dataframe thead th {\n",
              "        text-align: right;\n",
              "    }\n",
              "</style>\n",
              "<table border=\"1\" class=\"dataframe\">\n",
              "  <thead>\n",
              "    <tr style=\"text-align: right;\">\n",
              "      <th></th>\n",
              "      <th>Pregnancies</th>\n",
              "      <th>Glucose</th>\n",
              "      <th>BloodPressure</th>\n",
              "      <th>SkinThickness</th>\n",
              "      <th>Insulin</th>\n",
              "      <th>BMI</th>\n",
              "      <th>DiabetesPedigreeFunction</th>\n",
              "      <th>Age</th>\n",
              "      <th>Outcome</th>\n",
              "    </tr>\n",
              "  </thead>\n",
              "  <tbody>\n",
              "    <tr>\n",
              "      <th>Pregnancies</th>\n",
              "      <td>1.000000</td>\n",
              "      <td>0.129459</td>\n",
              "      <td>0.141282</td>\n",
              "      <td>-0.081672</td>\n",
              "      <td>-0.073535</td>\n",
              "      <td>0.017683</td>\n",
              "      <td>-0.033523</td>\n",
              "      <td>0.544341</td>\n",
              "      <td>0.221898</td>\n",
              "    </tr>\n",
              "    <tr>\n",
              "      <th>Glucose</th>\n",
              "      <td>0.129459</td>\n",
              "      <td>1.000000</td>\n",
              "      <td>0.152590</td>\n",
              "      <td>0.057328</td>\n",
              "      <td>0.331357</td>\n",
              "      <td>0.221071</td>\n",
              "      <td>0.137337</td>\n",
              "      <td>0.263514</td>\n",
              "      <td>0.466581</td>\n",
              "    </tr>\n",
              "    <tr>\n",
              "      <th>BloodPressure</th>\n",
              "      <td>0.141282</td>\n",
              "      <td>0.152590</td>\n",
              "      <td>1.000000</td>\n",
              "      <td>0.207371</td>\n",
              "      <td>0.088933</td>\n",
              "      <td>0.281805</td>\n",
              "      <td>0.041265</td>\n",
              "      <td>0.239528</td>\n",
              "      <td>0.065068</td>\n",
              "    </tr>\n",
              "    <tr>\n",
              "      <th>SkinThickness</th>\n",
              "      <td>-0.081672</td>\n",
              "      <td>0.057328</td>\n",
              "      <td>0.207371</td>\n",
              "      <td>1.000000</td>\n",
              "      <td>0.436783</td>\n",
              "      <td>0.392573</td>\n",
              "      <td>0.183928</td>\n",
              "      <td>-0.113970</td>\n",
              "      <td>0.074752</td>\n",
              "    </tr>\n",
              "    <tr>\n",
              "      <th>Insulin</th>\n",
              "      <td>-0.073535</td>\n",
              "      <td>0.331357</td>\n",
              "      <td>0.088933</td>\n",
              "      <td>0.436783</td>\n",
              "      <td>1.000000</td>\n",
              "      <td>0.197859</td>\n",
              "      <td>0.185071</td>\n",
              "      <td>-0.042163</td>\n",
              "      <td>0.130548</td>\n",
              "    </tr>\n",
              "    <tr>\n",
              "      <th>BMI</th>\n",
              "      <td>0.017683</td>\n",
              "      <td>0.221071</td>\n",
              "      <td>0.281805</td>\n",
              "      <td>0.392573</td>\n",
              "      <td>0.197859</td>\n",
              "      <td>1.000000</td>\n",
              "      <td>0.140647</td>\n",
              "      <td>0.036242</td>\n",
              "      <td>0.292695</td>\n",
              "    </tr>\n",
              "    <tr>\n",
              "      <th>DiabetesPedigreeFunction</th>\n",
              "      <td>-0.033523</td>\n",
              "      <td>0.137337</td>\n",
              "      <td>0.041265</td>\n",
              "      <td>0.183928</td>\n",
              "      <td>0.185071</td>\n",
              "      <td>0.140647</td>\n",
              "      <td>1.000000</td>\n",
              "      <td>0.033561</td>\n",
              "      <td>0.173844</td>\n",
              "    </tr>\n",
              "    <tr>\n",
              "      <th>Age</th>\n",
              "      <td>0.544341</td>\n",
              "      <td>0.263514</td>\n",
              "      <td>0.239528</td>\n",
              "      <td>-0.113970</td>\n",
              "      <td>-0.042163</td>\n",
              "      <td>0.036242</td>\n",
              "      <td>0.033561</td>\n",
              "      <td>1.000000</td>\n",
              "      <td>0.238356</td>\n",
              "    </tr>\n",
              "    <tr>\n",
              "      <th>Outcome</th>\n",
              "      <td>0.221898</td>\n",
              "      <td>0.466581</td>\n",
              "      <td>0.065068</td>\n",
              "      <td>0.074752</td>\n",
              "      <td>0.130548</td>\n",
              "      <td>0.292695</td>\n",
              "      <td>0.173844</td>\n",
              "      <td>0.238356</td>\n",
              "      <td>1.000000</td>\n",
              "    </tr>\n",
              "  </tbody>\n",
              "</table>\n",
              "</div>"
            ],
            "text/plain": [
              "                          Pregnancies   Glucose  ...       Age   Outcome\n",
              "Pregnancies                  1.000000  0.129459  ...  0.544341  0.221898\n",
              "Glucose                      0.129459  1.000000  ...  0.263514  0.466581\n",
              "BloodPressure                0.141282  0.152590  ...  0.239528  0.065068\n",
              "SkinThickness               -0.081672  0.057328  ... -0.113970  0.074752\n",
              "Insulin                     -0.073535  0.331357  ... -0.042163  0.130548\n",
              "BMI                          0.017683  0.221071  ...  0.036242  0.292695\n",
              "DiabetesPedigreeFunction    -0.033523  0.137337  ...  0.033561  0.173844\n",
              "Age                          0.544341  0.263514  ...  1.000000  0.238356\n",
              "Outcome                      0.221898  0.466581  ...  0.238356  1.000000\n",
              "\n",
              "[9 rows x 9 columns]"
            ]
          },
          "metadata": {},
          "execution_count": 6
        }
      ]
    },
    {
      "cell_type": "code",
      "metadata": {
        "colab": {
          "base_uri": "https://localhost:8080/",
          "height": 390
        },
        "id": "Nz4hi1IkyATC",
        "outputId": "a4ab6183-09a7-49ee-eece-7459395f2946"
      },
      "source": [
        "#correlation visualisation\n",
        "import seaborn as sns\n",
        "import matplotlib.pyplot as plt\n",
        "plt.figure()\n",
        "sns.heatmap(correlations, cmap='coolwarm')\n",
        "plt.show()"
      ],
      "execution_count": null,
      "outputs": [
        {
          "output_type": "display_data",
          "data": {
            "image/png": "[encoded data removed]",
            "text/plain": [
              "<Figure size 432x288 with 2 Axes>"
            ]
          },
          "metadata": {
            "needs_background": "light"
          }
        }
      ]
    },
    {
      "cell_type": "markdown",
      "metadata": {
        "id": "PqgBk5Xtnn6q"
      },
      "source": [
        "# Part 2: Data Preparation"
      ]
    },
    {
      "cell_type": "code",
      "metadata": {
        "colab": {
          "base_uri": "https://localhost:8080/"
        },
        "id": "Pn3SVjA0FEmj",
        "outputId": "0ff2aff6-8889-436a-a3d0-6814df1cbd8e"
      },
      "source": [
        "data1.info()"
      ],
      "execution_count": null,
      "outputs": [
        {
          "output_type": "stream",
          "name": "stdout",
          "text": [
            "<class 'pandas.core.frame.DataFrame'>\n",
            "RangeIndex: 768 entries, 0 to 767\n",
            "Data columns (total 9 columns):\n",
            " #   Column                    Non-Null Count  Dtype  \n",
            "---  ------                    --------------  -----  \n",
            " 0   Pregnancies               768 non-null    int64  \n",
            " 1   Glucose                   768 non-null    int64  \n",
            " 2   BloodPressure             768 non-null    int64  \n",
            " 3   SkinThickness             768 non-null    int64  \n",
            " 4   Insulin                   768 non-null    int64  \n",
            " 5   BMI                       768 non-null    float64\n",
            " 6   DiabetesPedigreeFunction  768 non-null    float64\n",
            " 7   Age                       768 non-null    int64  \n",
            " 8   Outcome                   768 non-null    int64  \n",
            "dtypes: float64(2), int64(7)\n",
            "memory usage: 54.1 KB\n"
          ]
        }
      ]
    },
    {
      "cell_type": "markdown",
      "metadata": {
        "id": "TV4pQ_8DGuG0"
      },
      "source": [
        "There are no null values in my data, however, if there had been, the plan was to replace null values with the mean."
      ]
    },
    {
      "cell_type": "markdown",
      "metadata": {
        "id": "4RcyUAbjnn6r"
      },
      "source": [
        "# Part 3: Model Selection"
      ]
    },
    {
      "cell_type": "markdown",
      "metadata": {
        "id": "6qdxAAJ3nn6s"
      },
      "source": [
        "As the target column (BMI) contains continuous data, the machine learning model used is regression. "
      ]
    },
    {
      "cell_type": "markdown",
      "metadata": {
        "id": "KZfinEOJnn6t"
      },
      "source": [
        "# Part 4: Model Evaluation"
      ]
    },
    {
      "cell_type": "markdown",
      "metadata": {
        "id": "qvfdfX3imVS7"
      },
      "source": [
        "Regression metrics\n",
        "\n",
        "![metrics.png](data:image/png;base64,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)"
      ]
    },
    {
      "cell_type": "markdown",
      "metadata": {
        "id": "MjIi1uDfrvzM"
      },
      "source": [
        "![metrics eval 2.png](data:image/png;base64,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)"
      ]
    },
    {
      "cell_type": "markdown",
      "metadata": {
        "id": "RovJLNwdr83T"
      },
      "source": [
        "![model evaluation 1.png](data:image/png;base64,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)"
      ]
    },
    {
      "cell_type": "markdown",
      "metadata": {
        "id": "kGQaNNVZnn6u"
      },
      "source": [
        "# Part 5: Stretch - Model Deployment"
      ]
    },
    {
      "cell_type": "markdown",
      "metadata": {
        "id": "uhHcngpnu-MN"
      },
      "source": [
        "Consumption code (Python)."
      ]
    },
    {
      "cell_type": "code",
      "metadata": {
        "id": "1r-ySndhnn6v"
      },
      "source": [
        "import urllib.request\n",
        "import json\n",
        "import os\n",
        "import ssl\n",
        "\n",
        "def allowSelfSignedHttps(allowed):\n",
        "    # bypass the server certificate verification on client side\n",
        "    if allowed and not os.environ.get('PYTHONHTTPSVERIFY', '') and getattr(ssl, '_create_unverified_context', None):\n",
        "        ssl._create_default_https_context = ssl._create_unverified_context\n",
        "\n",
        "allowSelfSignedHttps(True) # this line is needed if you use self-signed certificate in your scoring service.\n",
        "\n",
        "# Request data goes here\n",
        "data = {\n",
        "    \"data\":\n",
        "    [\n",
        "        {\n",
        "            'Pregnancies': \"0\",\n",
        "            'Glucose': \"0\",\n",
        "            'BloodPressure': \"0\",\n",
        "            'SkinThickness': \"0\",\n",
        "            'Insulin': \"0\",\n",
        "            'DiabetesPedigreeFunction': \"0\",\n",
        "            'Age': \"0\",\n",
        "            'Outcome': \"0\",\n",
        "        },\n",
        "    ],\n",
        "}\n",
        "\n",
        "body = str.encode(json.dumps(data))\n",
        "\n",
        "url = 'http://e4b58f9b-a6b2-4f03-b629-2f101b41122f.eastus.azurecontainer.io/score'\n",
        "api_key = '' # Replace this with the API key for the web service\n",
        "headers = {'Content-Type':'application/json', 'Authorization':('Bearer '+ api_key)}\n",
        "\n",
        "req = urllib.request.Request(url, body, headers)\n",
        "\n",
        "try:\n",
        "    response = urllib.request.urlopen(req)\n",
        "\n",
        "    result = response.read()\n",
        "    print(result)\n",
        "except urllib.error.HTTPError as error:\n",
        "    print(\"The request failed with status code: \" + str(error.code))\n",
        "\n",
        "    # Print the headers - they include the requert ID and the timestamp, which are useful for debugging the failure\n",
        "    print(error.info())\n",
        "    print(json.loads(error.read().decode(\"utf8\", 'ignore')))"
      ],
      "execution_count": null,
      "outputs": []
    }
  ]
}